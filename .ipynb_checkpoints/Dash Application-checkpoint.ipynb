{
 "cells": [
  {
   "cell_type": "code",
   "execution_count": 1,
   "id": "eedcd970",
   "metadata": {},
   "outputs": [],
   "source": [
    "#Import libraries\n",
    "\n",
    "import pandas as pd\n",
    "import numpy as np\n",
    "\n",
    "from dash import Input, Output, dcc, html\n",
    "from jupyter_dash import JupyterDash\n",
    "\n",
    "from kmodes.kprototypes import KPrototypes\n",
    "\n",
    "import plotly.express as px"
   ]
  },
  {
   "cell_type": "code",
   "execution_count": 2,
   "id": "20daa123",
   "metadata": {},
   "outputs": [
    {
     "data": {
      "text/html": [
       "<div>\n",
       "<style scoped>\n",
       "    .dataframe tbody tr th:only-of-type {\n",
       "        vertical-align: middle;\n",
       "    }\n",
       "\n",
       "    .dataframe tbody tr th {\n",
       "        vertical-align: top;\n",
       "    }\n",
       "\n",
       "    .dataframe thead th {\n",
       "        text-align: right;\n",
       "    }\n",
       "</style>\n",
       "<table border=\"1\" class=\"dataframe\">\n",
       "  <thead>\n",
       "    <tr style=\"text-align: right;\">\n",
       "      <th></th>\n",
       "      <th>Complaint Type</th>\n",
       "      <th>Qty</th>\n",
       "      <th>Region</th>\n",
       "      <th>Category</th>\n",
       "      <th>Rank</th>\n",
       "      <th>Incidence rate</th>\n",
       "      <th>R rate</th>\n",
       "      <th>Experience</th>\n",
       "      <th>Purchases</th>\n",
       "    </tr>\n",
       "  </thead>\n",
       "  <tbody>\n",
       "    <tr>\n",
       "      <th>0</th>\n",
       "      <td>No Complaints</td>\n",
       "      <td>-0.404304</td>\n",
       "      <td>4 15</td>\n",
       "      <td>Specialist</td>\n",
       "      <td>Ambassador</td>\n",
       "      <td>10.941947</td>\n",
       "      <td>-0.297160</td>\n",
       "      <td>1.137682</td>\n",
       "      <td>2.796951</td>\n",
       "    </tr>\n",
       "    <tr>\n",
       "      <th>1</th>\n",
       "      <td>No Complaints</td>\n",
       "      <td>-0.404304</td>\n",
       "      <td>1 8 T4</td>\n",
       "      <td>General Practitioner</td>\n",
       "      <td>Ambassador</td>\n",
       "      <td>7.958297</td>\n",
       "      <td>-1.528994</td>\n",
       "      <td>-0.920733</td>\n",
       "      <td>1.975615</td>\n",
       "    </tr>\n",
       "    <tr>\n",
       "      <th>2</th>\n",
       "      <td>No Complaints</td>\n",
       "      <td>-0.404304</td>\n",
       "      <td>1 9 T4</td>\n",
       "      <td>Specialist</td>\n",
       "      <td>Ambassador</td>\n",
       "      <td>6.963747</td>\n",
       "      <td>0.565124</td>\n",
       "      <td>-0.920733</td>\n",
       "      <td>1.676947</td>\n",
       "    </tr>\n",
       "    <tr>\n",
       "      <th>3</th>\n",
       "      <td>No Complaints</td>\n",
       "      <td>-0.404304</td>\n",
       "      <td>1 10 T3</td>\n",
       "      <td>Specialist</td>\n",
       "      <td>Ambassador</td>\n",
       "      <td>5.720559</td>\n",
       "      <td>1.249476</td>\n",
       "      <td>-0.097367</td>\n",
       "      <td>1.303612</td>\n",
       "    </tr>\n",
       "    <tr>\n",
       "      <th>4</th>\n",
       "      <td>No Complaints</td>\n",
       "      <td>-0.404304</td>\n",
       "      <td>1 14 T4</td>\n",
       "      <td>Specialist</td>\n",
       "      <td>Ambassador</td>\n",
       "      <td>4.477371</td>\n",
       "      <td>-0.215038</td>\n",
       "      <td>0.365776</td>\n",
       "      <td>0.930277</td>\n",
       "    </tr>\n",
       "  </tbody>\n",
       "</table>\n",
       "</div>"
      ],
      "text/plain": [
       "  Complaint Type       Qty   Region              Category        Rank  \\\n",
       "0  No Complaints -0.404304     4 15            Specialist  Ambassador   \n",
       "1  No Complaints -0.404304   1 8 T4  General Practitioner  Ambassador   \n",
       "2  No Complaints -0.404304   1 9 T4            Specialist  Ambassador   \n",
       "3  No Complaints -0.404304  1 10 T3            Specialist  Ambassador   \n",
       "4  No Complaints -0.404304  1 14 T4            Specialist  Ambassador   \n",
       "\n",
       "   Incidence rate    R rate  Experience  Purchases  \n",
       "0       10.941947 -0.297160    1.137682   2.796951  \n",
       "1        7.958297 -1.528994   -0.920733   1.975615  \n",
       "2        6.963747  0.565124   -0.920733   1.676947  \n",
       "3        5.720559  1.249476   -0.097367   1.303612  \n",
       "4        4.477371 -0.215038    0.365776   0.930277  "
      ]
     },
     "execution_count": 2,
     "metadata": {},
     "output_type": "execute_result"
    }
   ],
   "source": [
    "#Import dataset, all scaled and wrangled from second notebook\n",
    "\n",
    "doctor_data = pd.read_csv(\"Data/doctor_data_merge\")\n",
    "doctor_data.head()"
   ]
  },
  {
   "cell_type": "code",
   "execution_count": 3,
   "id": "ceafe7e5",
   "metadata": {},
   "outputs": [
    {
     "data": {
      "text/html": [
       "<div>\n",
       "<style scoped>\n",
       "    .dataframe tbody tr th:only-of-type {\n",
       "        vertical-align: middle;\n",
       "    }\n",
       "\n",
       "    .dataframe tbody tr th {\n",
       "        vertical-align: top;\n",
       "    }\n",
       "\n",
       "    .dataframe thead th {\n",
       "        text-align: right;\n",
       "    }\n",
       "</style>\n",
       "<table border=\"1\" class=\"dataframe\">\n",
       "  <thead>\n",
       "    <tr style=\"text-align: right;\">\n",
       "      <th></th>\n",
       "      <th>DoctorID</th>\n",
       "      <th>Complaint Type</th>\n",
       "      <th>Qty</th>\n",
       "      <th>Region</th>\n",
       "      <th>Category</th>\n",
       "      <th>Rank</th>\n",
       "      <th>Incidence rate</th>\n",
       "      <th>R rate</th>\n",
       "      <th>Experience</th>\n",
       "      <th>Purchases</th>\n",
       "    </tr>\n",
       "  </thead>\n",
       "  <tbody>\n",
       "    <tr>\n",
       "      <th>0</th>\n",
       "      <td>AHDCBA</td>\n",
       "      <td>No Complaints</td>\n",
       "      <td>0.0</td>\n",
       "      <td>4 15</td>\n",
       "      <td>Specialist</td>\n",
       "      <td>Ambassador</td>\n",
       "      <td>49.0</td>\n",
       "      <td>0.9</td>\n",
       "      <td>1.2</td>\n",
       "      <td>49</td>\n",
       "    </tr>\n",
       "    <tr>\n",
       "      <th>1</th>\n",
       "      <td>ABHAHF</td>\n",
       "      <td>No Complaints</td>\n",
       "      <td>0.0</td>\n",
       "      <td>1 8 T4</td>\n",
       "      <td>General Practitioner</td>\n",
       "      <td>Ambassador</td>\n",
       "      <td>37.0</td>\n",
       "      <td>0.0</td>\n",
       "      <td>0.0</td>\n",
       "      <td>38</td>\n",
       "    </tr>\n",
       "  </tbody>\n",
       "</table>\n",
       "</div>"
      ],
      "text/plain": [
       "  DoctorID Complaint Type  Qty  Region              Category        Rank  \\\n",
       "0   AHDCBA  No Complaints  0.0    4 15            Specialist  Ambassador   \n",
       "1   ABHAHF  No Complaints  0.0  1 8 T4  General Practitioner  Ambassador   \n",
       "\n",
       "   Incidence rate  R rate  Experience  Purchases  \n",
       "0            49.0     0.9         1.2         49  \n",
       "1            37.0     0.0         0.0         38  "
      ]
     },
     "execution_count": 3,
     "metadata": {},
     "output_type": "execute_result"
    }
   ],
   "source": [
    "doctor_raw = pd.read_csv(\"Data/raw_doctors\")\n",
    "doctor_raw.head(2)"
   ]
  },
  {
   "cell_type": "code",
   "execution_count": 4,
   "id": "8f4576c4",
   "metadata": {},
   "outputs": [],
   "source": [
    "#Instantiate application\n",
    "app = JupyterDash(__name__)"
   ]
  },
  {
   "cell_type": "code",
   "execution_count": 5,
   "id": "97e5757c",
   "metadata": {},
   "outputs": [],
   "source": [
    "#Begin to create layout\n",
    "\n",
    "app.layout = html.Div(\n",
    "    [\n",
    "        #Create H1 header for title of app\n",
    "        html.H1(\"Doctors Clusters according to selected features\"),\n",
    "        #Create H2 Header for subtitle for error_metric\n",
    "        html.H2(\"Error metric\"),\n",
    "        #radio item for switching btw rank and w/o rank\n",
    "        html.H3(\"With or without Rank\"),\n",
    "        dcc.RadioItems(\n",
    "            options = [{\"label\": \"Include Rank features\", \"value\": True},\n",
    "                      {\"label\": \"Without Rank feature\", \"value\": False}],\n",
    "            value = True,\n",
    "            id = \"On/Off Rank\"\n",
    "        ),\n",
    "        #Create dcc Slider for switching number of clusters\n",
    "        html.H3(\"Slider for controlling number of clusters\"),\n",
    "        dcc.Slider(min = 2, max = 16, step = 1, value =2, id = \"slider\"),\n",
    "        #Print error metric below\n",
    "        html.H3(\"Error Metric below\"),\n",
    "        html.H5(\"Note: It takes a little while to load up\"),\n",
    "        html.Div(id = \"error-metric\"),\n",
    "        #Create side by side bar chart layout\n",
    "        html.H3(\"Side by Side Bar Chart displaying Average Values for each cluster\"),\n",
    "        dcc.Graph(id = \"Bar-chart\"),\n",
    "        #Create scatter plot\n",
    "        html.H3(\"Scatter plot of Incidence Rate against Experience, color codded by clusters\"),\n",
    "        dcc.Graph(id = \"Scatter\"),\n",
    "        #Plot countplot and compare Purchases by ranks in different clusters\n",
    "        html.H5(\"Note: The following plots do not take input from the radio button\"),\n",
    "        #Countplot for different ranks in different clusters\n",
    "        dcc.Graph(id = \"countplot\"),\n",
    "        #Bar chart comparing purchases by ranks in different clusters\n",
    "        #dcc.Graph(id = \"rank-purchase\")\n",
    "    ]\n",
    "    \n",
    ")"
   ]
  },
  {
   "cell_type": "code",
   "execution_count": 6,
   "id": "f0891caf",
   "metadata": {},
   "outputs": [],
   "source": [
    "#Define business layer to generate column names based on with/without rank\n",
    "\n",
    "def business_rank(include_rank = True):\n",
    "    \"\"\"Returns features with/without rank column\n",
    "    \n",
    "    Parameters\n",
    "    ----------\n",
    "    include_rank: bool, default=True \n",
    "    \n",
    "    If ``True`` return feat names with the rank\n",
    "    column, If ``False`` return feat names without rank\n",
    "    \"\"\"\n",
    "    \n",
    "    if include_rank:\n",
    "        feat_names = doctor_data.columns.to_list()\n",
    "        #Generate categorical index for algorithm\n",
    "        cat_index = [0, 2, 3, 4]\n",
    "        #Create dataset\n",
    "        X = doctor_data[feat_names]\n",
    "        X = X.values\n",
    "        X[:, 1] = X[:, 1].astype(float)\n",
    "        X[:, 5] = X[:, 5].astype(float)\n",
    "        X[:, 6] = X[:, 6].astype(float)\n",
    "        X[:, 7] = X[:, 7].astype(float)\n",
    "        X[:, 8] = X[:, 8].astype(float)\n",
    "        \n",
    "    else:\n",
    "        feat_names = doctor_data.drop(columns = \"Rank\")\n",
    "        feat_names = feat_names.columns.to_list()\n",
    "        cat_index = [0, 2, 3]\n",
    "        #Create dataset\n",
    "        X = doctor_data[feat_names]\n",
    "        X = X.values\n",
    "        X[:, 1] = X[:, 1].astype(float)\n",
    "        X[:, 4] = X[:, 4].astype(float)\n",
    "        X[:, 5] = X[:, 5].astype(float)\n",
    "        X[:, 6] = X[:, 6].astype(float)\n",
    "        X[:, 7] = X[:, 7].astype(float)\n",
    "    return X, cat_index"
   ]
  },
  {
   "cell_type": "code",
   "execution_count": 7,
   "id": "7e869831",
   "metadata": {},
   "outputs": [],
   "source": [
    "def business_model(include_rank=True, k = 2, return_error = False):\n",
    "    \"\"\"\n",
    "    Rrturns kprototype model or error from model\n",
    "    \n",
    "    Parameters\n",
    "    ----------\n",
    "    include_rank: bool, default=True\n",
    "    If ``True`` it will include rank column\n",
    "    and categorical index needed for algorithm \n",
    "    If ``False`` exclude the rank column\n",
    "    and categorical index needed for algorithm\n",
    "    \n",
    "    return_error: bool, default=False\n",
    "    If ``True`` returns model errors\n",
    "    If ``False`` returns only the model\n",
    "    \n",
    "    k: int, default=2\n",
    "    Number of clusters that model should use\n",
    "    for training model\n",
    "    \"\"\"\n",
    "    #Extract features and cat_index\n",
    "    data, cat_index = business_rank(include_rank=include_rank)\n",
    "    \n",
    "    #Fit predict model with k\n",
    "    model = KPrototypes(n_clusters=k, init=\"Huang\", random_state = 42)\n",
    "    clusters = model.fit_predict(data, categorical = cat_index)\n",
    "    \n",
    "    if return_error:\n",
    "        error = model.cost_\n",
    "        return error\n",
    "    else:\n",
    "        return clusters"
   ]
  },
  {
   "cell_type": "code",
   "execution_count": 8,
   "id": "52cb76ac",
   "metadata": {},
   "outputs": [
    {
     "data": {
      "text/plain": [
       "2378.349799664885"
      ]
     },
     "execution_count": 8,
     "metadata": {},
     "output_type": "execute_result"
    }
   ],
   "source": [
    "business_model(include_rank=False, return_error=True)"
   ]
  },
  {
   "cell_type": "code",
   "execution_count": 9,
   "id": "9326ab45",
   "metadata": {},
   "outputs": [],
   "source": [
    "@app.callback(\n",
    "    Output(\"error-metric\", \"children\"),\n",
    "    Input(\"On/Off Rank\", \"value\"),\n",
    "    Input(\"slider\", \"value\")\n",
    ")\n",
    "def print_error(include_rank=True, k = 2):\n",
    "    \"\"\"Print the errot metric from KP model\n",
    "    \n",
    "    Parameter\n",
    "    --------\n",
    "    include_rank: bool, default:True\n",
    "    ``If True`` includes the rank column\n",
    "    ``If False`` does not include rank column\n",
    "    k: int, deafult:2\n",
    "    The number of clusters that a KP \n",
    "    algorithm will use.\n",
    "    \"\"\"\n",
    "    error = business_model(k=k, include_rank=include_rank, return_error=True)\n",
    "    \n",
    "    return html.H3(round(error, 2))"
   ]
  },
  {
   "cell_type": "code",
   "execution_count": 10,
   "id": "cac2d07f",
   "metadata": {},
   "outputs": [],
   "source": [
    "@app.callback(\n",
    "    Output(\"Bar-chart\", \"figure\"),\n",
    "    Input(\"On/Off Rank\", \"value\"),\n",
    "    Input(\"slider\", \"value\")\n",
    ")\n",
    "\n",
    "def serve_barchart(k=2, include_rank=True):\n",
    "    \"\"\"Returns barchart of average values of\n",
    "    numerical features\n",
    "    \n",
    "    Parameter\n",
    "    --------\n",
    "    include_rank: bool, default:True\n",
    "    ``If True`` includes the rank column\n",
    "    ``If False`` does not include rank column\n",
    "    k: int, deafult:2\n",
    "    The number of clusters that a KP \n",
    "    algorithm will use.\n",
    "    \"\"\"\n",
    "    clusters = business_model(include_rank=include_rank, k=k, return_error=False)\n",
    "    \n",
    "    #Add clusters to original dataframe\n",
    "    function_doctor = doctor_raw.copy()\n",
    "    function_doctor[\"clusters\"] = clusters\n",
    "    \n",
    "    #Group doctor\n",
    "    doctors_gb = function_doctor.groupby(\"clusters\")[[\"Qty\", \"Incidence rate\", \"R rate\", \"Experience\", \"Purchases\"]].mean()\n",
    "    \n",
    "    #use plotly express to make plot\n",
    "    fig = px.bar(doctors_gb,\n",
    "                barmode=\"group\")\n",
    "    #fig.update_layout(xaxis_title = \"Clusters\")\n",
    "    \n",
    "    return fig"
   ]
  },
  {
   "cell_type": "code",
   "execution_count": 12,
   "id": "bc8a6d26",
   "metadata": {},
   "outputs": [
    {
     "data": {
      "text/html": [
       "<div>\n",
       "<style scoped>\n",
       "    .dataframe tbody tr th:only-of-type {\n",
       "        vertical-align: middle;\n",
       "    }\n",
       "\n",
       "    .dataframe tbody tr th {\n",
       "        vertical-align: top;\n",
       "    }\n",
       "\n",
       "    .dataframe thead th {\n",
       "        text-align: right;\n",
       "    }\n",
       "</style>\n",
       "<table border=\"1\" class=\"dataframe\">\n",
       "  <thead>\n",
       "    <tr style=\"text-align: right;\">\n",
       "      <th></th>\n",
       "      <th>DoctorID</th>\n",
       "      <th>Complaint Type</th>\n",
       "      <th>Qty</th>\n",
       "      <th>Region</th>\n",
       "      <th>Category</th>\n",
       "      <th>Rank</th>\n",
       "      <th>Incidence rate</th>\n",
       "      <th>R rate</th>\n",
       "      <th>Experience</th>\n",
       "      <th>Purchases</th>\n",
       "    </tr>\n",
       "  </thead>\n",
       "  <tbody>\n",
       "    <tr>\n",
       "      <th>0</th>\n",
       "      <td>AHDCBA</td>\n",
       "      <td>No Complaints</td>\n",
       "      <td>0.0</td>\n",
       "      <td>4 15</td>\n",
       "      <td>Specialist</td>\n",
       "      <td>Ambassador</td>\n",
       "      <td>49.0</td>\n",
       "      <td>0.90</td>\n",
       "      <td>1.20</td>\n",
       "      <td>49</td>\n",
       "    </tr>\n",
       "    <tr>\n",
       "      <th>1</th>\n",
       "      <td>ABHAHF</td>\n",
       "      <td>No Complaints</td>\n",
       "      <td>0.0</td>\n",
       "      <td>1 8 T4</td>\n",
       "      <td>General Practitioner</td>\n",
       "      <td>Ambassador</td>\n",
       "      <td>37.0</td>\n",
       "      <td>0.00</td>\n",
       "      <td>0.00</td>\n",
       "      <td>38</td>\n",
       "    </tr>\n",
       "    <tr>\n",
       "      <th>2</th>\n",
       "      <td>FDHFJ</td>\n",
       "      <td>No Complaints</td>\n",
       "      <td>0.0</td>\n",
       "      <td>1 9 T4</td>\n",
       "      <td>Specialist</td>\n",
       "      <td>Ambassador</td>\n",
       "      <td>33.0</td>\n",
       "      <td>1.53</td>\n",
       "      <td>0.00</td>\n",
       "      <td>34</td>\n",
       "    </tr>\n",
       "    <tr>\n",
       "      <th>3</th>\n",
       "      <td>BJJHCA</td>\n",
       "      <td>No Complaints</td>\n",
       "      <td>0.0</td>\n",
       "      <td>1 10 T3</td>\n",
       "      <td>Specialist</td>\n",
       "      <td>Ambassador</td>\n",
       "      <td>28.0</td>\n",
       "      <td>2.03</td>\n",
       "      <td>0.48</td>\n",
       "      <td>29</td>\n",
       "    </tr>\n",
       "    <tr>\n",
       "      <th>4</th>\n",
       "      <td>FJBEA</td>\n",
       "      <td>No Complaints</td>\n",
       "      <td>0.0</td>\n",
       "      <td>1 14 T4</td>\n",
       "      <td>Specialist</td>\n",
       "      <td>Ambassador</td>\n",
       "      <td>23.0</td>\n",
       "      <td>0.96</td>\n",
       "      <td>0.75</td>\n",
       "      <td>24</td>\n",
       "    </tr>\n",
       "  </tbody>\n",
       "</table>\n",
       "</div>"
      ],
      "text/plain": [
       "  DoctorID Complaint Type  Qty   Region              Category        Rank  \\\n",
       "0   AHDCBA  No Complaints  0.0     4 15            Specialist  Ambassador   \n",
       "1   ABHAHF  No Complaints  0.0   1 8 T4  General Practitioner  Ambassador   \n",
       "2    FDHFJ  No Complaints  0.0   1 9 T4            Specialist  Ambassador   \n",
       "3   BJJHCA  No Complaints  0.0  1 10 T3            Specialist  Ambassador   \n",
       "4    FJBEA  No Complaints  0.0  1 14 T4            Specialist  Ambassador   \n",
       "\n",
       "   Incidence rate  R rate  Experience  Purchases  \n",
       "0            49.0    0.90        1.20         49  \n",
       "1            37.0    0.00        0.00         38  \n",
       "2            33.0    1.53        0.00         34  \n",
       "3            28.0    2.03        0.48         29  \n",
       "4            23.0    0.96        0.75         24  "
      ]
     },
     "execution_count": 12,
     "metadata": {},
     "output_type": "execute_result"
    }
   ],
   "source": [
    "doctor_raw.head()"
   ]
  },
  {
   "cell_type": "code",
   "execution_count": 13,
   "id": "2329a8aa",
   "metadata": {},
   "outputs": [],
   "source": [
    "@app.callback(\n",
    "    Output(\"Scatter\", \"figure\"),\n",
    "    Input(\"On/Off Rank\", \"value\"),\n",
    "    Input(\"slider\", \"value\")\n",
    ")\n",
    "\n",
    "def serve_scatter(k=2, include_rank=True):\n",
    "    \"\"\"Returns barchart of average values of\n",
    "    numerical features\n",
    "    \n",
    "    Parameter\n",
    "    --------\n",
    "    include_rank: bool, default:True\n",
    "    ``If True`` includes the rank column\n",
    "    ``If False`` does not include rank column\n",
    "    k: int, deafult:2\n",
    "    The number of clusters that a KP \n",
    "    algorithm will use.\n",
    "    \"\"\"\n",
    "    clusters = business_model(include_rank=include_rank, k=k, return_error=False)\n",
    "    \n",
    "    #Add clusters to original dataframe\n",
    "    function_doctor = doctor_raw.copy()\n",
    "    function_doctor[\"clusters\"] = clusters\n",
    "    \n",
    "    #Group doctor\n",
    "    #doctors_gb = function_doctor.groupby(\"clusters\")[[\"Qty\", \"Incidence rate\", \"R rate\", \"Experience\", \"Purchases\"]].mean()\n",
    "    \n",
    "    #use plotly express to make plot\n",
    "    fig = px.scatter(function_doctor, x=\"Incidence rate\",\n",
    "                     y = \"Experience\", color=clusters)\n",
    "    #fig.update_layout(xaxis_title = \"Clusters\")\n",
    "    \n",
    "    return fig"
   ]
  },
  {
   "cell_type": "code",
   "execution_count": 18,
   "id": "688cdaaf",
   "metadata": {},
   "outputs": [
    {
     "data": {
      "application/vnd.plotly.v1+json": {
       "config": {
        "plotlyServerURL": "https://plotly.com"
       },
       "data": [
        {
         "hovertemplate": "color=0<br>Incidence rate=%{x}<br>Experience=%{y}<extra></extra>",
         "legendgroup": "0",
         "marker": {
          "color": "#636efa",
          "symbol": "circle"
         },
         "mode": "markers",
         "name": "0",
         "orientation": "v",
         "showlegend": true,
         "type": "scatter",
         "x": [
          49,
          37,
          33,
          28,
          23,
          19,
          18,
          14,
          14,
          14,
          13,
          12,
          12,
          12,
          11.33,
          10,
          10,
          9,
          8,
          8,
          8,
          8,
          7,
          6.55,
          6.55,
          6.55,
          6.5,
          6.5,
          6.5,
          6,
          6,
          6,
          5,
          5,
          4.5,
          4.5,
          4.5,
          4.5,
          4.5,
          4.1,
          4,
          4,
          4,
          4,
          3.67,
          3.67,
          3.5,
          3.33,
          3.33,
          3.33,
          3.33,
          3,
          3,
          3,
          3,
          2.86,
          2.69,
          2.69,
          2.67,
          2.67,
          2.55,
          2.55,
          2.31,
          2.31,
          2.18,
          2.18,
          2.05
         ],
         "xaxis": "x",
         "y": [
          1.2,
          0,
          0,
          0.48,
          0.75,
          0.1,
          0.26,
          0.07,
          0,
          0.47,
          0.14,
          0.62,
          0.62,
          0.62,
          0.3,
          0,
          0,
          0.7,
          0.67,
          0.67,
          0.25,
          0.25,
          0.63,
          0.83,
          0.83,
          0.83,
          0.04,
          0,
          0.17,
          0.57,
          0.57,
          0.57,
          1.4,
          0.8,
          0.76,
          0.76,
          0.36,
          0.18,
          0.18,
          0.02,
          1,
          0.75,
          0.4,
          0.4,
          1.07,
          0.93,
          0.67,
          0.63,
          0.63,
          0.15,
          0.15,
          0.63,
          0.5,
          0.5,
          0.5,
          0,
          0.79,
          0.79,
          0.64,
          0.64,
          0.82,
          0.82,
          1.09,
          1.09,
          0.77,
          0.77,
          0.39
         ],
         "yaxis": "y"
        },
        {
         "hovertemplate": "color=1<br>Incidence rate=%{x}<br>Experience=%{y}<extra></extra>",
         "legendgroup": "1",
         "marker": {
          "color": "#EF553B",
          "symbol": "circle"
         },
         "mode": "markers",
         "name": "1",
         "orientation": "v",
         "showlegend": true,
         "type": "scatter",
         "x": [
          15,
          15,
          14,
          14,
          12,
          12,
          12,
          11,
          11,
          10,
          10,
          10,
          10,
          10,
          10,
          9,
          9,
          9,
          9,
          9,
          9,
          9,
          9,
          9,
          9,
          9,
          9,
          9,
          9,
          8,
          8,
          8,
          8,
          8,
          8,
          8,
          8,
          8,
          8,
          8,
          8,
          8,
          8,
          8,
          8,
          7.5,
          7,
          7,
          7,
          7,
          7,
          7,
          7,
          7,
          7,
          7,
          7,
          7,
          7,
          7,
          7,
          7,
          7,
          7,
          7,
          7,
          6.6,
          6.5,
          6,
          6,
          6,
          6,
          6,
          6,
          6,
          6,
          6,
          6,
          6,
          6,
          6,
          6,
          6,
          6,
          6,
          6,
          6,
          6,
          6,
          6,
          6,
          6,
          6,
          5.75,
          5.67,
          5.5,
          5.5,
          5.25,
          5,
          5,
          5,
          5,
          5,
          5,
          5,
          5,
          5,
          5,
          5,
          5,
          5,
          5,
          5,
          5,
          5,
          5,
          5,
          5,
          5,
          5,
          5,
          5,
          5,
          5,
          5,
          5,
          5,
          5,
          5,
          5,
          5,
          5,
          5,
          5,
          5,
          5,
          5,
          5,
          5,
          5,
          4.75,
          4.5,
          4.5,
          4.5,
          4.5,
          4.4,
          4.4,
          4.33,
          4.33,
          4.2,
          4,
          4,
          4,
          4,
          4,
          4,
          4,
          4,
          4,
          4,
          4,
          4,
          4,
          4,
          4,
          4,
          4,
          4,
          4,
          4,
          4,
          4,
          4,
          4,
          4,
          4,
          4,
          4,
          4,
          4,
          4,
          4,
          4,
          4,
          4,
          4,
          4,
          4,
          4,
          4,
          4,
          4,
          4,
          4,
          4,
          4,
          4,
          4,
          4,
          4,
          4,
          4,
          4,
          4,
          4,
          4,
          4,
          4,
          4,
          4,
          4,
          4,
          3.83,
          3.67,
          3.67,
          3.67,
          3.67,
          3.67,
          3.67,
          3.6,
          3.5,
          3.5,
          3.5,
          3.5,
          3.5,
          3.5,
          3.5,
          3.5,
          3.5,
          3.5,
          3.33,
          3.33,
          3.33,
          3.33,
          3.33,
          3.33,
          3.25,
          3.25,
          3,
          3,
          3,
          3,
          3,
          3,
          3,
          3,
          3,
          3,
          3,
          3,
          3,
          3,
          3,
          3,
          3,
          3,
          3,
          3,
          3,
          3,
          3,
          3,
          3,
          3,
          3,
          3,
          3,
          3,
          3,
          3,
          3,
          3,
          3,
          3,
          3,
          3,
          3,
          3,
          3,
          3,
          3,
          3,
          3,
          3,
          3,
          3,
          3,
          3,
          3,
          3,
          3,
          3,
          3,
          3,
          3,
          3,
          3,
          3,
          3,
          3,
          3,
          3,
          3,
          3,
          3,
          3,
          3,
          3,
          3,
          3,
          3,
          3,
          3,
          3,
          3,
          3,
          3,
          3,
          3,
          3,
          3,
          3,
          3,
          3,
          3,
          3,
          3,
          3,
          3,
          3,
          3,
          3,
          3,
          3,
          3,
          3,
          3,
          3,
          3,
          3,
          3,
          3,
          3,
          3,
          3,
          3,
          3,
          3,
          3,
          3,
          3,
          3,
          3,
          3,
          3,
          3,
          3,
          3,
          3,
          3,
          3,
          3,
          3,
          3,
          3,
          3,
          3,
          3,
          2.89,
          2.86,
          2.83,
          2.83,
          2.8,
          2.8,
          2.78,
          2.75,
          2.75,
          2.67,
          2.67,
          2.67,
          2.67,
          2.67,
          2.67,
          2.6,
          2.56,
          2.5,
          2.5,
          2.5,
          2.5,
          2.5,
          2.5,
          2.5,
          2.5,
          2.5,
          2.5,
          2.5,
          2.5,
          2.5,
          2.5,
          2.4,
          2.33,
          2.33,
          2.33,
          2.33,
          2.33,
          2.33,
          2.33,
          2.33,
          2.33,
          2.33,
          2.33,
          2.33,
          2.25,
          2.25,
          2.25,
          2.25,
          2.25,
          2.2,
          2.17,
          2.14,
          2.13
         ],
         "xaxis": "x",
         "y": [
          0.38,
          0.25,
          0.53,
          0.57,
          0.62,
          0.25,
          0.17,
          0.09,
          0.42,
          1.1,
          0.95,
          0.27,
          0.27,
          0.18,
          2.27,
          0.44,
          0.5,
          1,
          0.4,
          0.11,
          0.89,
          0.3,
          0.7,
          1.44,
          0.7,
          0.22,
          0,
          0,
          0.3,
          0,
          0,
          0,
          0.13,
          0.11,
          0,
          2.56,
          0.25,
          0.13,
          0.89,
          1,
          0.5,
          0.38,
          0.75,
          0.5,
          0.44,
          0.53,
          0.14,
          1.25,
          0.14,
          0.14,
          0.13,
          0.13,
          0.25,
          0.14,
          1.19,
          0,
          0.5,
          0.29,
          1,
          0.43,
          0.29,
          0.71,
          0.88,
          0.13,
          0.71,
          0.14,
          0.47,
          1.07,
          1.17,
          0.5,
          0.17,
          0.67,
          0.14,
          0.62,
          0.29,
          2.07,
          1.29,
          0.14,
          0,
          0.29,
          1.57,
          0,
          0.07,
          0.36,
          0.21,
          0.57,
          0.17,
          0,
          1.43,
          0,
          0.43,
          0.71,
          0.43,
          0.48,
          1.3,
          0.85,
          0.92,
          0,
          0.8,
          0.67,
          0.83,
          2,
          0.6,
          0.83,
          0,
          0.17,
          0.6,
          1.4,
          0.5,
          0.83,
          0,
          0.92,
          0.92,
          0.4,
          0.8,
          0.17,
          0,
          2.5,
          0.8,
          0,
          0.28,
          1.25,
          0.33,
          1,
          0,
          0,
          0.4,
          0,
          0.17,
          0,
          0.2,
          0.5,
          0.4,
          0.4,
          0,
          0.2,
          1.2,
          0.2,
          0.8,
          0.2,
          0.61,
          0.64,
          0.09,
          0.18,
          0.18,
          0.7,
          1,
          0.81,
          0,
          0.35,
          0.25,
          0.7,
          1.25,
          0,
          0,
          1.25,
          0,
          0.75,
          0.75,
          0,
          0,
          0,
          1.2,
          0.6,
          0.2,
          0,
          0.2,
          0.2,
          0.28,
          0,
          0.2,
          0.2,
          0.2,
          0,
          0.25,
          0.25,
          0.6,
          0.4,
          0.4,
          1,
          1,
          0.25,
          0,
          0.2,
          0.75,
          0,
          0.75,
          0.2,
          1.25,
          0.75,
          1,
          0,
          0,
          0.5,
          0.25,
          0.25,
          0.75,
          0.2,
          0.7,
          2,
          1,
          0,
          0.25,
          0.4,
          0.8,
          0,
          0.25,
          0.4,
          0.4,
          1.2,
          0.7,
          0.2,
          0.34,
          2.57,
          1.07,
          1.07,
          0.93,
          0.93,
          0.43,
          0.87,
          0.78,
          0,
          0.22,
          1.67,
          0.78,
          0.22,
          0.11,
          1.22,
          1.11,
          0.11,
          0,
          0.46,
          0.23,
          0.54,
          0.08,
          1,
          0.29,
          0.59,
          0.25,
          0,
          0.25,
          0.25,
          0.13,
          0.88,
          0.33,
          0.92,
          0.5,
          0.33,
          0.33,
          0,
          0,
          0.28,
          0.5,
          0.33,
          0.25,
          0,
          1.5,
          1.5,
          0.33,
          1.25,
          1,
          0.33,
          0.67,
          0,
          0,
          0.63,
          1,
          0.5,
          1,
          0.33,
          0.25,
          0,
          0.75,
          1.5,
          0.25,
          0.75,
          1,
          0.75,
          0.75,
          0,
          0,
          0.25,
          0.67,
          0.67,
          1,
          0,
          0.33,
          0.33,
          0,
          0.67,
          0.63,
          0.38,
          0.67,
          0,
          5.42,
          0.33,
          0.31,
          1,
          0.75,
          1,
          0,
          0,
          0,
          0.33,
          0.5,
          0.33,
          0.33,
          0.67,
          1,
          0,
          0,
          0,
          0,
          0.33,
          1,
          0,
          0.67,
          3,
          1.5,
          1,
          0.25,
          1,
          0,
          1,
          1,
          0,
          0,
          0.38,
          0.33,
          0.5,
          0,
          1.33,
          0.75,
          0.33,
          0,
          1,
          0.5,
          0,
          0.06,
          0.75,
          0.25,
          1,
          0,
          5.33,
          1,
          0.5,
          0,
          0,
          0.25,
          1,
          0.75,
          0.25,
          0,
          0,
          0.38,
          1,
          0.25,
          0.25,
          0.75,
          0.33,
          0.33,
          1,
          1,
          0.88,
          2,
          0,
          1.33,
          0.25,
          0.89,
          0,
          0.57,
          0.48,
          0.53,
          0.37,
          0.94,
          1.13,
          0.07,
          0.91,
          0.64,
          0,
          0.05,
          0.05,
          2.09,
          0.33,
          0.16,
          0,
          0.57,
          0,
          0.43,
          0.14,
          0.64,
          0.18,
          0.57,
          0.29,
          1.14,
          4.07,
          0,
          0,
          0.71,
          0.35,
          0.2,
          0.3,
          0.3,
          1,
          0.5,
          0.6,
          1,
          0.13,
          0.6,
          0.7,
          0.55,
          0.7,
          0.38,
          0.23,
          0.23,
          0.92,
          0,
          0.06,
          0.11,
          0.27,
          0.32
         ],
         "yaxis": "y"
        }
       ],
       "layout": {
        "legend": {
         "title": {
          "text": "color"
         },
         "tracegroupgap": 0
        },
        "margin": {
         "t": 60
        },
        "template": {
         "data": {
          "bar": [
           {
            "error_x": {
             "color": "#2a3f5f"
            },
            "error_y": {
             "color": "#2a3f5f"
            },
            "marker": {
             "line": {
              "color": "#E5ECF6",
              "width": 0.5
             },
             "pattern": {
              "fillmode": "overlay",
              "size": 10,
              "solidity": 0.2
             }
            },
            "type": "bar"
           }
          ],
          "barpolar": [
           {
            "marker": {
             "line": {
              "color": "#E5ECF6",
              "width": 0.5
             },
             "pattern": {
              "fillmode": "overlay",
              "size": 10,
              "solidity": 0.2
             }
            },
            "type": "barpolar"
           }
          ],
          "carpet": [
           {
            "aaxis": {
             "endlinecolor": "#2a3f5f",
             "gridcolor": "white",
             "linecolor": "white",
             "minorgridcolor": "white",
             "startlinecolor": "#2a3f5f"
            },
            "baxis": {
             "endlinecolor": "#2a3f5f",
             "gridcolor": "white",
             "linecolor": "white",
             "minorgridcolor": "white",
             "startlinecolor": "#2a3f5f"
            },
            "type": "carpet"
           }
          ],
          "choropleth": [
           {
            "colorbar": {
             "outlinewidth": 0,
             "ticks": ""
            },
            "type": "choropleth"
           }
          ],
          "contour": [
           {
            "colorbar": {
             "outlinewidth": 0,
             "ticks": ""
            },
            "colorscale": [
             [
              0,
              "#0d0887"
             ],
             [
              0.1111111111111111,
              "#46039f"
             ],
             [
              0.2222222222222222,
              "#7201a8"
             ],
             [
              0.3333333333333333,
              "#9c179e"
             ],
             [
              0.4444444444444444,
              "#bd3786"
             ],
             [
              0.5555555555555556,
              "#d8576b"
             ],
             [
              0.6666666666666666,
              "#ed7953"
             ],
             [
              0.7777777777777778,
              "#fb9f3a"
             ],
             [
              0.8888888888888888,
              "#fdca26"
             ],
             [
              1,
              "#f0f921"
             ]
            ],
            "type": "contour"
           }
          ],
          "contourcarpet": [
           {
            "colorbar": {
             "outlinewidth": 0,
             "ticks": ""
            },
            "type": "contourcarpet"
           }
          ],
          "heatmap": [
           {
            "colorbar": {
             "outlinewidth": 0,
             "ticks": ""
            },
            "colorscale": [
             [
              0,
              "#0d0887"
             ],
             [
              0.1111111111111111,
              "#46039f"
             ],
             [
              0.2222222222222222,
              "#7201a8"
             ],
             [
              0.3333333333333333,
              "#9c179e"
             ],
             [
              0.4444444444444444,
              "#bd3786"
             ],
             [
              0.5555555555555556,
              "#d8576b"
             ],
             [
              0.6666666666666666,
              "#ed7953"
             ],
             [
              0.7777777777777778,
              "#fb9f3a"
             ],
             [
              0.8888888888888888,
              "#fdca26"
             ],
             [
              1,
              "#f0f921"
             ]
            ],
            "type": "heatmap"
           }
          ],
          "heatmapgl": [
           {
            "colorbar": {
             "outlinewidth": 0,
             "ticks": ""
            },
            "colorscale": [
             [
              0,
              "#0d0887"
             ],
             [
              0.1111111111111111,
              "#46039f"
             ],
             [
              0.2222222222222222,
              "#7201a8"
             ],
             [
              0.3333333333333333,
              "#9c179e"
             ],
             [
              0.4444444444444444,
              "#bd3786"
             ],
             [
              0.5555555555555556,
              "#d8576b"
             ],
             [
              0.6666666666666666,
              "#ed7953"
             ],
             [
              0.7777777777777778,
              "#fb9f3a"
             ],
             [
              0.8888888888888888,
              "#fdca26"
             ],
             [
              1,
              "#f0f921"
             ]
            ],
            "type": "heatmapgl"
           }
          ],
          "histogram": [
           {
            "marker": {
             "pattern": {
              "fillmode": "overlay",
              "size": 10,
              "solidity": 0.2
             }
            },
            "type": "histogram"
           }
          ],
          "histogram2d": [
           {
            "colorbar": {
             "outlinewidth": 0,
             "ticks": ""
            },
            "colorscale": [
             [
              0,
              "#0d0887"
             ],
             [
              0.1111111111111111,
              "#46039f"
             ],
             [
              0.2222222222222222,
              "#7201a8"
             ],
             [
              0.3333333333333333,
              "#9c179e"
             ],
             [
              0.4444444444444444,
              "#bd3786"
             ],
             [
              0.5555555555555556,
              "#d8576b"
             ],
             [
              0.6666666666666666,
              "#ed7953"
             ],
             [
              0.7777777777777778,
              "#fb9f3a"
             ],
             [
              0.8888888888888888,
              "#fdca26"
             ],
             [
              1,
              "#f0f921"
             ]
            ],
            "type": "histogram2d"
           }
          ],
          "histogram2dcontour": [
           {
            "colorbar": {
             "outlinewidth": 0,
             "ticks": ""
            },
            "colorscale": [
             [
              0,
              "#0d0887"
             ],
             [
              0.1111111111111111,
              "#46039f"
             ],
             [
              0.2222222222222222,
              "#7201a8"
             ],
             [
              0.3333333333333333,
              "#9c179e"
             ],
             [
              0.4444444444444444,
              "#bd3786"
             ],
             [
              0.5555555555555556,
              "#d8576b"
             ],
             [
              0.6666666666666666,
              "#ed7953"
             ],
             [
              0.7777777777777778,
              "#fb9f3a"
             ],
             [
              0.8888888888888888,
              "#fdca26"
             ],
             [
              1,
              "#f0f921"
             ]
            ],
            "type": "histogram2dcontour"
           }
          ],
          "mesh3d": [
           {
            "colorbar": {
             "outlinewidth": 0,
             "ticks": ""
            },
            "type": "mesh3d"
           }
          ],
          "parcoords": [
           {
            "line": {
             "colorbar": {
              "outlinewidth": 0,
              "ticks": ""
             }
            },
            "type": "parcoords"
           }
          ],
          "pie": [
           {
            "automargin": true,
            "type": "pie"
           }
          ],
          "scatter": [
           {
            "marker": {
             "colorbar": {
              "outlinewidth": 0,
              "ticks": ""
             }
            },
            "type": "scatter"
           }
          ],
          "scatter3d": [
           {
            "line": {
             "colorbar": {
              "outlinewidth": 0,
              "ticks": ""
             }
            },
            "marker": {
             "colorbar": {
              "outlinewidth": 0,
              "ticks": ""
             }
            },
            "type": "scatter3d"
           }
          ],
          "scattercarpet": [
           {
            "marker": {
             "colorbar": {
              "outlinewidth": 0,
              "ticks": ""
             }
            },
            "type": "scattercarpet"
           }
          ],
          "scattergeo": [
           {
            "marker": {
             "colorbar": {
              "outlinewidth": 0,
              "ticks": ""
             }
            },
            "type": "scattergeo"
           }
          ],
          "scattergl": [
           {
            "marker": {
             "colorbar": {
              "outlinewidth": 0,
              "ticks": ""
             }
            },
            "type": "scattergl"
           }
          ],
          "scattermapbox": [
           {
            "marker": {
             "colorbar": {
              "outlinewidth": 0,
              "ticks": ""
             }
            },
            "type": "scattermapbox"
           }
          ],
          "scatterpolar": [
           {
            "marker": {
             "colorbar": {
              "outlinewidth": 0,
              "ticks": ""
             }
            },
            "type": "scatterpolar"
           }
          ],
          "scatterpolargl": [
           {
            "marker": {
             "colorbar": {
              "outlinewidth": 0,
              "ticks": ""
             }
            },
            "type": "scatterpolargl"
           }
          ],
          "scatterternary": [
           {
            "marker": {
             "colorbar": {
              "outlinewidth": 0,
              "ticks": ""
             }
            },
            "type": "scatterternary"
           }
          ],
          "surface": [
           {
            "colorbar": {
             "outlinewidth": 0,
             "ticks": ""
            },
            "colorscale": [
             [
              0,
              "#0d0887"
             ],
             [
              0.1111111111111111,
              "#46039f"
             ],
             [
              0.2222222222222222,
              "#7201a8"
             ],
             [
              0.3333333333333333,
              "#9c179e"
             ],
             [
              0.4444444444444444,
              "#bd3786"
             ],
             [
              0.5555555555555556,
              "#d8576b"
             ],
             [
              0.6666666666666666,
              "#ed7953"
             ],
             [
              0.7777777777777778,
              "#fb9f3a"
             ],
             [
              0.8888888888888888,
              "#fdca26"
             ],
             [
              1,
              "#f0f921"
             ]
            ],
            "type": "surface"
           }
          ],
          "table": [
           {
            "cells": {
             "fill": {
              "color": "#EBF0F8"
             },
             "line": {
              "color": "white"
             }
            },
            "header": {
             "fill": {
              "color": "#C8D4E3"
             },
             "line": {
              "color": "white"
             }
            },
            "type": "table"
           }
          ]
         },
         "layout": {
          "annotationdefaults": {
           "arrowcolor": "#2a3f5f",
           "arrowhead": 0,
           "arrowwidth": 1
          },
          "autotypenumbers": "strict",
          "coloraxis": {
           "colorbar": {
            "outlinewidth": 0,
            "ticks": ""
           }
          },
          "colorscale": {
           "diverging": [
            [
             0,
             "#8e0152"
            ],
            [
             0.1,
             "#c51b7d"
            ],
            [
             0.2,
             "#de77ae"
            ],
            [
             0.3,
             "#f1b6da"
            ],
            [
             0.4,
             "#fde0ef"
            ],
            [
             0.5,
             "#f7f7f7"
            ],
            [
             0.6,
             "#e6f5d0"
            ],
            [
             0.7,
             "#b8e186"
            ],
            [
             0.8,
             "#7fbc41"
            ],
            [
             0.9,
             "#4d9221"
            ],
            [
             1,
             "#276419"
            ]
           ],
           "sequential": [
            [
             0,
             "#0d0887"
            ],
            [
             0.1111111111111111,
             "#46039f"
            ],
            [
             0.2222222222222222,
             "#7201a8"
            ],
            [
             0.3333333333333333,
             "#9c179e"
            ],
            [
             0.4444444444444444,
             "#bd3786"
            ],
            [
             0.5555555555555556,
             "#d8576b"
            ],
            [
             0.6666666666666666,
             "#ed7953"
            ],
            [
             0.7777777777777778,
             "#fb9f3a"
            ],
            [
             0.8888888888888888,
             "#fdca26"
            ],
            [
             1,
             "#f0f921"
            ]
           ],
           "sequentialminus": [
            [
             0,
             "#0d0887"
            ],
            [
             0.1111111111111111,
             "#46039f"
            ],
            [
             0.2222222222222222,
             "#7201a8"
            ],
            [
             0.3333333333333333,
             "#9c179e"
            ],
            [
             0.4444444444444444,
             "#bd3786"
            ],
            [
             0.5555555555555556,
             "#d8576b"
            ],
            [
             0.6666666666666666,
             "#ed7953"
            ],
            [
             0.7777777777777778,
             "#fb9f3a"
            ],
            [
             0.8888888888888888,
             "#fdca26"
            ],
            [
             1,
             "#f0f921"
            ]
           ]
          },
          "colorway": [
           "#636efa",
           "#EF553B",
           "#00cc96",
           "#ab63fa",
           "#FFA15A",
           "#19d3f3",
           "#FF6692",
           "#B6E880",
           "#FF97FF",
           "#FECB52"
          ],
          "font": {
           "color": "#2a3f5f"
          },
          "geo": {
           "bgcolor": "white",
           "lakecolor": "white",
           "landcolor": "#E5ECF6",
           "showlakes": true,
           "showland": true,
           "subunitcolor": "white"
          },
          "hoverlabel": {
           "align": "left"
          },
          "hovermode": "closest",
          "mapbox": {
           "style": "light"
          },
          "paper_bgcolor": "white",
          "plot_bgcolor": "#E5ECF6",
          "polar": {
           "angularaxis": {
            "gridcolor": "white",
            "linecolor": "white",
            "ticks": ""
           },
           "bgcolor": "#E5ECF6",
           "radialaxis": {
            "gridcolor": "white",
            "linecolor": "white",
            "ticks": ""
           }
          },
          "scene": {
           "xaxis": {
            "backgroundcolor": "#E5ECF6",
            "gridcolor": "white",
            "gridwidth": 2,
            "linecolor": "white",
            "showbackground": true,
            "ticks": "",
            "zerolinecolor": "white"
           },
           "yaxis": {
            "backgroundcolor": "#E5ECF6",
            "gridcolor": "white",
            "gridwidth": 2,
            "linecolor": "white",
            "showbackground": true,
            "ticks": "",
            "zerolinecolor": "white"
           },
           "zaxis": {
            "backgroundcolor": "#E5ECF6",
            "gridcolor": "white",
            "gridwidth": 2,
            "linecolor": "white",
            "showbackground": true,
            "ticks": "",
            "zerolinecolor": "white"
           }
          },
          "shapedefaults": {
           "line": {
            "color": "#2a3f5f"
           }
          },
          "ternary": {
           "aaxis": {
            "gridcolor": "white",
            "linecolor": "white",
            "ticks": ""
           },
           "baxis": {
            "gridcolor": "white",
            "linecolor": "white",
            "ticks": ""
           },
           "bgcolor": "#E5ECF6",
           "caxis": {
            "gridcolor": "white",
            "linecolor": "white",
            "ticks": ""
           }
          },
          "title": {
           "x": 0.05
          },
          "xaxis": {
           "automargin": true,
           "gridcolor": "white",
           "linecolor": "white",
           "ticks": "",
           "title": {
            "standoff": 15
           },
           "zerolinecolor": "white",
           "zerolinewidth": 2
          },
          "yaxis": {
           "automargin": true,
           "gridcolor": "white",
           "linecolor": "white",
           "ticks": "",
           "title": {
            "standoff": 15
           },
           "zerolinecolor": "white",
           "zerolinewidth": 2
          }
         }
        },
        "xaxis": {
         "anchor": "y",
         "domain": [
          0,
          1
         ],
         "title": {
          "text": "Incidence rate"
         }
        },
        "yaxis": {
         "anchor": "x",
         "domain": [
          0,
          1
         ],
         "title": {
          "text": "Experience"
         }
        }
       }
      },
      "text/html": [
       "<div>                            <div id=\"7f3d94f8-2337-47f8-8e26-1d7ac575a968\" class=\"plotly-graph-div\" style=\"height:525px; width:100%;\"></div>            <script type=\"text/javascript\">                require([\"plotly\"], function(Plotly) {                    window.PLOTLYENV=window.PLOTLYENV || {};                                    if (document.getElementById(\"7f3d94f8-2337-47f8-8e26-1d7ac575a968\")) {                    Plotly.newPlot(                        \"7f3d94f8-2337-47f8-8e26-1d7ac575a968\",                        [{\"hovertemplate\":\"color=0<br>Incidence rate=%{x}<br>Experience=%{y}<extra></extra>\",\"legendgroup\":\"0\",\"marker\":{\"color\":\"#636efa\",\"symbol\":\"circle\"},\"mode\":\"markers\",\"name\":\"0\",\"orientation\":\"v\",\"showlegend\":true,\"x\":[49.0,37.0,33.0,28.0,23.0,19.0,18.0,14.0,14.0,14.0,13.0,12.0,12.0,12.0,11.33,10.0,10.0,9.0,8.0,8.0,8.0,8.0,7.0,6.55,6.55,6.55,6.5,6.5,6.5,6.0,6.0,6.0,5.0,5.0,4.5,4.5,4.5,4.5,4.5,4.1,4.0,4.0,4.0,4.0,3.67,3.67,3.5,3.33,3.33,3.33,3.33,3.0,3.0,3.0,3.0,2.86,2.69,2.69,2.67,2.67,2.55,2.55,2.31,2.31,2.18,2.18,2.05],\"xaxis\":\"x\",\"y\":[1.2,0.0,0.0,0.48,0.75,0.1,0.26,0.07,0.0,0.47,0.14,0.62,0.62,0.62,0.3,0.0,0.0,0.7,0.67,0.67,0.25,0.25,0.63,0.83,0.83,0.83,0.04,0.0,0.17,0.57,0.57,0.57,1.4,0.8,0.76,0.76,0.36,0.18,0.18,0.02,1.0,0.75,0.4,0.4,1.07,0.93,0.67,0.63,0.63,0.15,0.15,0.63,0.5,0.5,0.5,0.0,0.79,0.79,0.64,0.64,0.82,0.82,1.09,1.09,0.77,0.77,0.39],\"yaxis\":\"y\",\"type\":\"scatter\"},{\"hovertemplate\":\"color=1<br>Incidence rate=%{x}<br>Experience=%{y}<extra></extra>\",\"legendgroup\":\"1\",\"marker\":{\"color\":\"#EF553B\",\"symbol\":\"circle\"},\"mode\":\"markers\",\"name\":\"1\",\"orientation\":\"v\",\"showlegend\":true,\"x\":[15.0,15.0,14.0,14.0,12.0,12.0,12.0,11.0,11.0,10.0,10.0,10.0,10.0,10.0,10.0,9.0,9.0,9.0,9.0,9.0,9.0,9.0,9.0,9.0,9.0,9.0,9.0,9.0,9.0,8.0,8.0,8.0,8.0,8.0,8.0,8.0,8.0,8.0,8.0,8.0,8.0,8.0,8.0,8.0,8.0,7.5,7.0,7.0,7.0,7.0,7.0,7.0,7.0,7.0,7.0,7.0,7.0,7.0,7.0,7.0,7.0,7.0,7.0,7.0,7.0,7.0,6.6,6.5,6.0,6.0,6.0,6.0,6.0,6.0,6.0,6.0,6.0,6.0,6.0,6.0,6.0,6.0,6.0,6.0,6.0,6.0,6.0,6.0,6.0,6.0,6.0,6.0,6.0,5.75,5.67,5.5,5.5,5.25,5.0,5.0,5.0,5.0,5.0,5.0,5.0,5.0,5.0,5.0,5.0,5.0,5.0,5.0,5.0,5.0,5.0,5.0,5.0,5.0,5.0,5.0,5.0,5.0,5.0,5.0,5.0,5.0,5.0,5.0,5.0,5.0,5.0,5.0,5.0,5.0,5.0,5.0,5.0,5.0,5.0,5.0,4.75,4.5,4.5,4.5,4.5,4.4,4.4,4.33,4.33,4.2,4.0,4.0,4.0,4.0,4.0,4.0,4.0,4.0,4.0,4.0,4.0,4.0,4.0,4.0,4.0,4.0,4.0,4.0,4.0,4.0,4.0,4.0,4.0,4.0,4.0,4.0,4.0,4.0,4.0,4.0,4.0,4.0,4.0,4.0,4.0,4.0,4.0,4.0,4.0,4.0,4.0,4.0,4.0,4.0,4.0,4.0,4.0,4.0,4.0,4.0,4.0,4.0,4.0,4.0,4.0,4.0,4.0,4.0,4.0,4.0,4.0,4.0,3.83,3.67,3.67,3.67,3.67,3.67,3.67,3.6,3.5,3.5,3.5,3.5,3.5,3.5,3.5,3.5,3.5,3.5,3.33,3.33,3.33,3.33,3.33,3.33,3.25,3.25,3.0,3.0,3.0,3.0,3.0,3.0,3.0,3.0,3.0,3.0,3.0,3.0,3.0,3.0,3.0,3.0,3.0,3.0,3.0,3.0,3.0,3.0,3.0,3.0,3.0,3.0,3.0,3.0,3.0,3.0,3.0,3.0,3.0,3.0,3.0,3.0,3.0,3.0,3.0,3.0,3.0,3.0,3.0,3.0,3.0,3.0,3.0,3.0,3.0,3.0,3.0,3.0,3.0,3.0,3.0,3.0,3.0,3.0,3.0,3.0,3.0,3.0,3.0,3.0,3.0,3.0,3.0,3.0,3.0,3.0,3.0,3.0,3.0,3.0,3.0,3.0,3.0,3.0,3.0,3.0,3.0,3.0,3.0,3.0,3.0,3.0,3.0,3.0,3.0,3.0,3.0,3.0,3.0,3.0,3.0,3.0,3.0,3.0,3.0,3.0,3.0,3.0,3.0,3.0,3.0,3.0,3.0,3.0,3.0,3.0,3.0,3.0,3.0,3.0,3.0,3.0,3.0,3.0,3.0,3.0,3.0,3.0,3.0,3.0,3.0,3.0,3.0,3.0,3.0,3.0,2.89,2.86,2.83,2.83,2.8,2.8,2.78,2.75,2.75,2.67,2.67,2.67,2.67,2.67,2.67,2.6,2.56,2.5,2.5,2.5,2.5,2.5,2.5,2.5,2.5,2.5,2.5,2.5,2.5,2.5,2.5,2.4,2.33,2.33,2.33,2.33,2.33,2.33,2.33,2.33,2.33,2.33,2.33,2.33,2.25,2.25,2.25,2.25,2.25,2.2,2.17,2.14,2.13],\"xaxis\":\"x\",\"y\":[0.38,0.25,0.53,0.57,0.62,0.25,0.17,0.09,0.42,1.1,0.95,0.27,0.27,0.18,2.27,0.44,0.5,1.0,0.4,0.11,0.89,0.3,0.7,1.44,0.7,0.22,0.0,0.0,0.3,0.0,0.0,0.0,0.13,0.11,0.0,2.56,0.25,0.13,0.89,1.0,0.5,0.38,0.75,0.5,0.44,0.53,0.14,1.25,0.14,0.14,0.13,0.13,0.25,0.14,1.19,0.0,0.5,0.29,1.0,0.43,0.29,0.71,0.88,0.13,0.71,0.14,0.47,1.07,1.17,0.5,0.17,0.67,0.14,0.62,0.29,2.07,1.29,0.14,0.0,0.29,1.57,0.0,0.07,0.36,0.21,0.57,0.17,0.0,1.43,0.0,0.43,0.71,0.43,0.48,1.3,0.85,0.92,0.0,0.8,0.67,0.83,2.0,0.6,0.83,0.0,0.17,0.6,1.4,0.5,0.83,0.0,0.92,0.92,0.4,0.8,0.17,0.0,2.5,0.8,0.0,0.28,1.25,0.33,1.0,0.0,0.0,0.4,0.0,0.17,0.0,0.2,0.5,0.4,0.4,0.0,0.2,1.2,0.2,0.8,0.2,0.61,0.64,0.09,0.18,0.18,0.7,1.0,0.81,0.0,0.35,0.25,0.7,1.25,0.0,0.0,1.25,0.0,0.75,0.75,0.0,0.0,0.0,1.2,0.6,0.2,0.0,0.2,0.2,0.28,0.0,0.2,0.2,0.2,0.0,0.25,0.25,0.6,0.4,0.4,1.0,1.0,0.25,0.0,0.2,0.75,0.0,0.75,0.2,1.25,0.75,1.0,0.0,0.0,0.5,0.25,0.25,0.75,0.2,0.7,2.0,1.0,0.0,0.25,0.4,0.8,0.0,0.25,0.4,0.4,1.2,0.7,0.2,0.34,2.57,1.07,1.07,0.93,0.93,0.43,0.87,0.78,0.0,0.22,1.67,0.78,0.22,0.11,1.22,1.11,0.11,0.0,0.46,0.23,0.54,0.08,1.0,0.29,0.59,0.25,0.0,0.25,0.25,0.13,0.88,0.33,0.92,0.5,0.33,0.33,0.0,0.0,0.28,0.5,0.33,0.25,0.0,1.5,1.5,0.33,1.25,1.0,0.33,0.67,0.0,0.0,0.63,1.0,0.5,1.0,0.33,0.25,0.0,0.75,1.5,0.25,0.75,1.0,0.75,0.75,0.0,0.0,0.25,0.67,0.67,1.0,0.0,0.33,0.33,0.0,0.67,0.63,0.38,0.67,0.0,5.42,0.33,0.31,1.0,0.75,1.0,0.0,0.0,0.0,0.33,0.5,0.33,0.33,0.67,1.0,0.0,0.0,0.0,0.0,0.33,1.0,0.0,0.67,3.0,1.5,1.0,0.25,1.0,0.0,1.0,1.0,0.0,0.0,0.38,0.33,0.5,0.0,1.33,0.75,0.33,0.0,1.0,0.5,0.0,0.06,0.75,0.25,1.0,0.0,5.33,1.0,0.5,0.0,0.0,0.25,1.0,0.75,0.25,0.0,0.0,0.38,1.0,0.25,0.25,0.75,0.33,0.33,1.0,1.0,0.88,2.0,0.0,1.33,0.25,0.89,0.0,0.57,0.48,0.53,0.37,0.94,1.13,0.07,0.91,0.64,0.0,0.05,0.05,2.09,0.33,0.16,0.0,0.57,0.0,0.43,0.14,0.64,0.18,0.57,0.29,1.14,4.07,0.0,0.0,0.71,0.35,0.2,0.3,0.3,1.0,0.5,0.6,1.0,0.13,0.6,0.7,0.55,0.7,0.38,0.23,0.23,0.92,0.0,0.06,0.11,0.27,0.32],\"yaxis\":\"y\",\"type\":\"scatter\"}],                        {\"template\":{\"data\":{\"bar\":[{\"error_x\":{\"color\":\"#2a3f5f\"},\"error_y\":{\"color\":\"#2a3f5f\"},\"marker\":{\"line\":{\"color\":\"#E5ECF6\",\"width\":0.5},\"pattern\":{\"fillmode\":\"overlay\",\"size\":10,\"solidity\":0.2}},\"type\":\"bar\"}],\"barpolar\":[{\"marker\":{\"line\":{\"color\":\"#E5ECF6\",\"width\":0.5},\"pattern\":{\"fillmode\":\"overlay\",\"size\":10,\"solidity\":0.2}},\"type\":\"barpolar\"}],\"carpet\":[{\"aaxis\":{\"endlinecolor\":\"#2a3f5f\",\"gridcolor\":\"white\",\"linecolor\":\"white\",\"minorgridcolor\":\"white\",\"startlinecolor\":\"#2a3f5f\"},\"baxis\":{\"endlinecolor\":\"#2a3f5f\",\"gridcolor\":\"white\",\"linecolor\":\"white\",\"minorgridcolor\":\"white\",\"startlinecolor\":\"#2a3f5f\"},\"type\":\"carpet\"}],\"choropleth\":[{\"colorbar\":{\"outlinewidth\":0,\"ticks\":\"\"},\"type\":\"choropleth\"}],\"contour\":[{\"colorbar\":{\"outlinewidth\":0,\"ticks\":\"\"},\"colorscale\":[[0.0,\"#0d0887\"],[0.1111111111111111,\"#46039f\"],[0.2222222222222222,\"#7201a8\"],[0.3333333333333333,\"#9c179e\"],[0.4444444444444444,\"#bd3786\"],[0.5555555555555556,\"#d8576b\"],[0.6666666666666666,\"#ed7953\"],[0.7777777777777778,\"#fb9f3a\"],[0.8888888888888888,\"#fdca26\"],[1.0,\"#f0f921\"]],\"type\":\"contour\"}],\"contourcarpet\":[{\"colorbar\":{\"outlinewidth\":0,\"ticks\":\"\"},\"type\":\"contourcarpet\"}],\"heatmap\":[{\"colorbar\":{\"outlinewidth\":0,\"ticks\":\"\"},\"colorscale\":[[0.0,\"#0d0887\"],[0.1111111111111111,\"#46039f\"],[0.2222222222222222,\"#7201a8\"],[0.3333333333333333,\"#9c179e\"],[0.4444444444444444,\"#bd3786\"],[0.5555555555555556,\"#d8576b\"],[0.6666666666666666,\"#ed7953\"],[0.7777777777777778,\"#fb9f3a\"],[0.8888888888888888,\"#fdca26\"],[1.0,\"#f0f921\"]],\"type\":\"heatmap\"}],\"heatmapgl\":[{\"colorbar\":{\"outlinewidth\":0,\"ticks\":\"\"},\"colorscale\":[[0.0,\"#0d0887\"],[0.1111111111111111,\"#46039f\"],[0.2222222222222222,\"#7201a8\"],[0.3333333333333333,\"#9c179e\"],[0.4444444444444444,\"#bd3786\"],[0.5555555555555556,\"#d8576b\"],[0.6666666666666666,\"#ed7953\"],[0.7777777777777778,\"#fb9f3a\"],[0.8888888888888888,\"#fdca26\"],[1.0,\"#f0f921\"]],\"type\":\"heatmapgl\"}],\"histogram\":[{\"marker\":{\"pattern\":{\"fillmode\":\"overlay\",\"size\":10,\"solidity\":0.2}},\"type\":\"histogram\"}],\"histogram2d\":[{\"colorbar\":{\"outlinewidth\":0,\"ticks\":\"\"},\"colorscale\":[[0.0,\"#0d0887\"],[0.1111111111111111,\"#46039f\"],[0.2222222222222222,\"#7201a8\"],[0.3333333333333333,\"#9c179e\"],[0.4444444444444444,\"#bd3786\"],[0.5555555555555556,\"#d8576b\"],[0.6666666666666666,\"#ed7953\"],[0.7777777777777778,\"#fb9f3a\"],[0.8888888888888888,\"#fdca26\"],[1.0,\"#f0f921\"]],\"type\":\"histogram2d\"}],\"histogram2dcontour\":[{\"colorbar\":{\"outlinewidth\":0,\"ticks\":\"\"},\"colorscale\":[[0.0,\"#0d0887\"],[0.1111111111111111,\"#46039f\"],[0.2222222222222222,\"#7201a8\"],[0.3333333333333333,\"#9c179e\"],[0.4444444444444444,\"#bd3786\"],[0.5555555555555556,\"#d8576b\"],[0.6666666666666666,\"#ed7953\"],[0.7777777777777778,\"#fb9f3a\"],[0.8888888888888888,\"#fdca26\"],[1.0,\"#f0f921\"]],\"type\":\"histogram2dcontour\"}],\"mesh3d\":[{\"colorbar\":{\"outlinewidth\":0,\"ticks\":\"\"},\"type\":\"mesh3d\"}],\"parcoords\":[{\"line\":{\"colorbar\":{\"outlinewidth\":0,\"ticks\":\"\"}},\"type\":\"parcoords\"}],\"pie\":[{\"automargin\":true,\"type\":\"pie\"}],\"scatter\":[{\"marker\":{\"colorbar\":{\"outlinewidth\":0,\"ticks\":\"\"}},\"type\":\"scatter\"}],\"scatter3d\":[{\"line\":{\"colorbar\":{\"outlinewidth\":0,\"ticks\":\"\"}},\"marker\":{\"colorbar\":{\"outlinewidth\":0,\"ticks\":\"\"}},\"type\":\"scatter3d\"}],\"scattercarpet\":[{\"marker\":{\"colorbar\":{\"outlinewidth\":0,\"ticks\":\"\"}},\"type\":\"scattercarpet\"}],\"scattergeo\":[{\"marker\":{\"colorbar\":{\"outlinewidth\":0,\"ticks\":\"\"}},\"type\":\"scattergeo\"}],\"scattergl\":[{\"marker\":{\"colorbar\":{\"outlinewidth\":0,\"ticks\":\"\"}},\"type\":\"scattergl\"}],\"scattermapbox\":[{\"marker\":{\"colorbar\":{\"outlinewidth\":0,\"ticks\":\"\"}},\"type\":\"scattermapbox\"}],\"scatterpolar\":[{\"marker\":{\"colorbar\":{\"outlinewidth\":0,\"ticks\":\"\"}},\"type\":\"scatterpolar\"}],\"scatterpolargl\":[{\"marker\":{\"colorbar\":{\"outlinewidth\":0,\"ticks\":\"\"}},\"type\":\"scatterpolargl\"}],\"scatterternary\":[{\"marker\":{\"colorbar\":{\"outlinewidth\":0,\"ticks\":\"\"}},\"type\":\"scatterternary\"}],\"surface\":[{\"colorbar\":{\"outlinewidth\":0,\"ticks\":\"\"},\"colorscale\":[[0.0,\"#0d0887\"],[0.1111111111111111,\"#46039f\"],[0.2222222222222222,\"#7201a8\"],[0.3333333333333333,\"#9c179e\"],[0.4444444444444444,\"#bd3786\"],[0.5555555555555556,\"#d8576b\"],[0.6666666666666666,\"#ed7953\"],[0.7777777777777778,\"#fb9f3a\"],[0.8888888888888888,\"#fdca26\"],[1.0,\"#f0f921\"]],\"type\":\"surface\"}],\"table\":[{\"cells\":{\"fill\":{\"color\":\"#EBF0F8\"},\"line\":{\"color\":\"white\"}},\"header\":{\"fill\":{\"color\":\"#C8D4E3\"},\"line\":{\"color\":\"white\"}},\"type\":\"table\"}]},\"layout\":{\"annotationdefaults\":{\"arrowcolor\":\"#2a3f5f\",\"arrowhead\":0,\"arrowwidth\":1},\"autotypenumbers\":\"strict\",\"coloraxis\":{\"colorbar\":{\"outlinewidth\":0,\"ticks\":\"\"}},\"colorscale\":{\"diverging\":[[0,\"#8e0152\"],[0.1,\"#c51b7d\"],[0.2,\"#de77ae\"],[0.3,\"#f1b6da\"],[0.4,\"#fde0ef\"],[0.5,\"#f7f7f7\"],[0.6,\"#e6f5d0\"],[0.7,\"#b8e186\"],[0.8,\"#7fbc41\"],[0.9,\"#4d9221\"],[1,\"#276419\"]],\"sequential\":[[0.0,\"#0d0887\"],[0.1111111111111111,\"#46039f\"],[0.2222222222222222,\"#7201a8\"],[0.3333333333333333,\"#9c179e\"],[0.4444444444444444,\"#bd3786\"],[0.5555555555555556,\"#d8576b\"],[0.6666666666666666,\"#ed7953\"],[0.7777777777777778,\"#fb9f3a\"],[0.8888888888888888,\"#fdca26\"],[1.0,\"#f0f921\"]],\"sequentialminus\":[[0.0,\"#0d0887\"],[0.1111111111111111,\"#46039f\"],[0.2222222222222222,\"#7201a8\"],[0.3333333333333333,\"#9c179e\"],[0.4444444444444444,\"#bd3786\"],[0.5555555555555556,\"#d8576b\"],[0.6666666666666666,\"#ed7953\"],[0.7777777777777778,\"#fb9f3a\"],[0.8888888888888888,\"#fdca26\"],[1.0,\"#f0f921\"]]},\"colorway\":[\"#636efa\",\"#EF553B\",\"#00cc96\",\"#ab63fa\",\"#FFA15A\",\"#19d3f3\",\"#FF6692\",\"#B6E880\",\"#FF97FF\",\"#FECB52\"],\"font\":{\"color\":\"#2a3f5f\"},\"geo\":{\"bgcolor\":\"white\",\"lakecolor\":\"white\",\"landcolor\":\"#E5ECF6\",\"showlakes\":true,\"showland\":true,\"subunitcolor\":\"white\"},\"hoverlabel\":{\"align\":\"left\"},\"hovermode\":\"closest\",\"mapbox\":{\"style\":\"light\"},\"paper_bgcolor\":\"white\",\"plot_bgcolor\":\"#E5ECF6\",\"polar\":{\"angularaxis\":{\"gridcolor\":\"white\",\"linecolor\":\"white\",\"ticks\":\"\"},\"bgcolor\":\"#E5ECF6\",\"radialaxis\":{\"gridcolor\":\"white\",\"linecolor\":\"white\",\"ticks\":\"\"}},\"scene\":{\"xaxis\":{\"backgroundcolor\":\"#E5ECF6\",\"gridcolor\":\"white\",\"gridwidth\":2,\"linecolor\":\"white\",\"showbackground\":true,\"ticks\":\"\",\"zerolinecolor\":\"white\"},\"yaxis\":{\"backgroundcolor\":\"#E5ECF6\",\"gridcolor\":\"white\",\"gridwidth\":2,\"linecolor\":\"white\",\"showbackground\":true,\"ticks\":\"\",\"zerolinecolor\":\"white\"},\"zaxis\":{\"backgroundcolor\":\"#E5ECF6\",\"gridcolor\":\"white\",\"gridwidth\":2,\"linecolor\":\"white\",\"showbackground\":true,\"ticks\":\"\",\"zerolinecolor\":\"white\"}},\"shapedefaults\":{\"line\":{\"color\":\"#2a3f5f\"}},\"ternary\":{\"aaxis\":{\"gridcolor\":\"white\",\"linecolor\":\"white\",\"ticks\":\"\"},\"baxis\":{\"gridcolor\":\"white\",\"linecolor\":\"white\",\"ticks\":\"\"},\"bgcolor\":\"#E5ECF6\",\"caxis\":{\"gridcolor\":\"white\",\"linecolor\":\"white\",\"ticks\":\"\"}},\"title\":{\"x\":0.05},\"xaxis\":{\"automargin\":true,\"gridcolor\":\"white\",\"linecolor\":\"white\",\"ticks\":\"\",\"title\":{\"standoff\":15},\"zerolinecolor\":\"white\",\"zerolinewidth\":2},\"yaxis\":{\"automargin\":true,\"gridcolor\":\"white\",\"linecolor\":\"white\",\"ticks\":\"\",\"title\":{\"standoff\":15},\"zerolinecolor\":\"white\",\"zerolinewidth\":2}}},\"xaxis\":{\"anchor\":\"y\",\"domain\":[0.0,1.0],\"title\":{\"text\":\"Incidence rate\"}},\"yaxis\":{\"anchor\":\"x\",\"domain\":[0.0,1.0],\"title\":{\"text\":\"Experience\"}},\"legend\":{\"title\":{\"text\":\"color\"},\"tracegroupgap\":0},\"margin\":{\"t\":60}},                        {\"responsive\": true}                    ).then(function(){\n",
       "                            \n",
       "var gd = document.getElementById('7f3d94f8-2337-47f8-8e26-1d7ac575a968');\n",
       "var x = new MutationObserver(function (mutations, observer) {{\n",
       "        var display = window.getComputedStyle(gd).display;\n",
       "        if (!display || display === 'none') {{\n",
       "            console.log([gd, 'removed!']);\n",
       "            Plotly.purge(gd);\n",
       "            observer.disconnect();\n",
       "        }}\n",
       "}});\n",
       "\n",
       "// Listen for the removal of the full notebook cells\n",
       "var notebookContainer = gd.closest('#notebook-container');\n",
       "if (notebookContainer) {{\n",
       "    x.observe(notebookContainer, {childList: true});\n",
       "}}\n",
       "\n",
       "// Listen for the clearing of the current output cell\n",
       "var outputEl = gd.closest('.output');\n",
       "if (outputEl) {{\n",
       "    x.observe(outputEl, {childList: true});\n",
       "}}\n",
       "\n",
       "                        })                };                });            </script>        </div>"
      ]
     },
     "metadata": {},
     "output_type": "display_data"
    }
   ],
   "source": [
    "serve_scatter()"
   ]
  },
  {
   "cell_type": "code",
   "execution_count": 15,
   "id": "8d9f8a23",
   "metadata": {},
   "outputs": [],
   "source": [
    "@app.callback(\n",
    "    Output(\"countplot\", \"figure\"),\n",
    "    Input(\"slider\", \"value\")\n",
    ")\n",
    "\n",
    "def serve_countplot(k = 2):\n",
    "    \"\"\"Returns the count\n",
    "    for each individual rank present in a cluster\n",
    "    \n",
    "    Parameter\n",
    "    --------\n",
    "    k: int, deafult:2\n",
    "    The number of clusters that a KP \n",
    "    algorithm will use.\n",
    "    \"\"\"\n",
    "    clusters = business_model(include_rank=True, k=k, return_error=False)\n",
    "    \n",
    "    #Create copy of dataset\n",
    "    function_doctor = doctor_raw.copy()\n",
    "    function_doctor[\"clusters\"] = clusters\n",
    "    \n",
    "    #Group doctor\n",
    "    doctors_gb = (function_doctor.groupby(\"clusters\")[\"Rank\"].value_counts().rename(\"Count\")\n",
    "                  .to_frame()\n",
    "                 .reset_index())\n",
    "    \n",
    "    fig = px.bar(doctors_gb,\n",
    "                 x = \"clusters\",\n",
    "                 y = \"Count\", color=\"Rank\",\n",
    "                barmode = \"group\")\n",
    "    return fig"
   ]
  },
  {
   "cell_type": "code",
   "execution_count": 16,
   "id": "96bf60bd",
   "metadata": {},
   "outputs": [
    {
     "data": {
      "application/vnd.plotly.v1+json": {
       "config": {
        "plotlyServerURL": "https://plotly.com"
       },
       "data": [
        {
         "alignmentgroup": "True",
         "hovertemplate": "Rank=Ambassador<br>clusters=%{x}<br>Count=%{y}<extra></extra>",
         "legendgroup": "Ambassador",
         "marker": {
          "color": "#636efa",
          "pattern": {
           "shape": ""
          }
         },
         "name": "Ambassador",
         "offsetgroup": "Ambassador",
         "orientation": "v",
         "showlegend": true,
         "textposition": "auto",
         "type": "bar",
         "x": [
          0,
          1
         ],
         "xaxis": "x",
         "y": [
          34,
          99
         ],
         "yaxis": "y"
        },
        {
         "alignmentgroup": "True",
         "hovertemplate": "Rank=Titanium<br>clusters=%{x}<br>Count=%{y}<extra></extra>",
         "legendgroup": "Titanium",
         "marker": {
          "color": "#EF553B",
          "pattern": {
           "shape": ""
          }
         },
         "name": "Titanium",
         "offsetgroup": "Titanium",
         "orientation": "v",
         "showlegend": true,
         "textposition": "auto",
         "type": "bar",
         "x": [
          0,
          1
         ],
         "xaxis": "x",
         "y": [
          15,
          67
         ],
         "yaxis": "y"
        },
        {
         "alignmentgroup": "True",
         "hovertemplate": "Rank=Platinum Plus<br>clusters=%{x}<br>Count=%{y}<extra></extra>",
         "legendgroup": "Platinum Plus",
         "marker": {
          "color": "#00cc96",
          "pattern": {
           "shape": ""
          }
         },
         "name": "Platinum Plus",
         "offsetgroup": "Platinum Plus",
         "orientation": "v",
         "showlegend": true,
         "textposition": "auto",
         "type": "bar",
         "x": [
          0,
          1
         ],
         "xaxis": "x",
         "y": [
          8,
          52
         ],
         "yaxis": "y"
        },
        {
         "alignmentgroup": "True",
         "hovertemplate": "Rank=Platinum<br>clusters=%{x}<br>Count=%{y}<extra></extra>",
         "legendgroup": "Platinum",
         "marker": {
          "color": "#ab63fa",
          "pattern": {
           "shape": ""
          }
         },
         "name": "Platinum",
         "offsetgroup": "Platinum",
         "orientation": "v",
         "showlegend": true,
         "textposition": "auto",
         "type": "bar",
         "x": [
          0,
          1
         ],
         "xaxis": "x",
         "y": [
          7,
          78
         ],
         "yaxis": "y"
        },
        {
         "alignmentgroup": "True",
         "hovertemplate": "Rank=Gold Plus<br>clusters=%{x}<br>Count=%{y}<extra></extra>",
         "legendgroup": "Gold Plus",
         "marker": {
          "color": "#FFA15A",
          "pattern": {
           "shape": ""
          }
         },
         "name": "Gold Plus",
         "offsetgroup": "Gold Plus",
         "orientation": "v",
         "showlegend": true,
         "textposition": "auto",
         "type": "bar",
         "x": [
          0,
          1
         ],
         "xaxis": "x",
         "y": [
          2,
          51
         ],
         "yaxis": "y"
        },
        {
         "alignmentgroup": "True",
         "hovertemplate": "Rank=Silver Plus<br>clusters=%{x}<br>Count=%{y}<extra></extra>",
         "legendgroup": "Silver Plus",
         "marker": {
          "color": "#19d3f3",
          "pattern": {
           "shape": ""
          }
         },
         "name": "Silver Plus",
         "offsetgroup": "Silver Plus",
         "orientation": "v",
         "showlegend": true,
         "textposition": "auto",
         "type": "bar",
         "x": [
          0,
          1
         ],
         "xaxis": "x",
         "y": [
          1,
          45
         ],
         "yaxis": "y"
        },
        {
         "alignmentgroup": "True",
         "hovertemplate": "Rank=Gold<br>clusters=%{x}<br>Count=%{y}<extra></extra>",
         "legendgroup": "Gold",
         "marker": {
          "color": "#FF6692",
          "pattern": {
           "shape": ""
          }
         },
         "name": "Gold",
         "offsetgroup": "Gold",
         "orientation": "v",
         "showlegend": true,
         "textposition": "auto",
         "type": "bar",
         "x": [
          1
         ],
         "xaxis": "x",
         "y": [
          24
         ],
         "yaxis": "y"
        },
        {
         "alignmentgroup": "True",
         "hovertemplate": "Rank=Silver<br>clusters=%{x}<br>Count=%{y}<extra></extra>",
         "legendgroup": "Silver",
         "marker": {
          "color": "#B6E880",
          "pattern": {
           "shape": ""
          }
         },
         "name": "Silver",
         "offsetgroup": "Silver",
         "orientation": "v",
         "showlegend": true,
         "textposition": "auto",
         "type": "bar",
         "x": [
          1
         ],
         "xaxis": "x",
         "y": [
          4
         ],
         "yaxis": "y"
        },
        {
         "alignmentgroup": "True",
         "hovertemplate": "Rank=Titanium Plus<br>clusters=%{x}<br>Count=%{y}<extra></extra>",
         "legendgroup": "Titanium Plus",
         "marker": {
          "color": "#FF97FF",
          "pattern": {
           "shape": ""
          }
         },
         "name": "Titanium Plus",
         "offsetgroup": "Titanium Plus",
         "orientation": "v",
         "showlegend": true,
         "textposition": "auto",
         "type": "bar",
         "x": [
          1
         ],
         "xaxis": "x",
         "y": [
          1
         ],
         "yaxis": "y"
        }
       ],
       "layout": {
        "barmode": "group",
        "legend": {
         "title": {
          "text": "Rank"
         },
         "tracegroupgap": 0
        },
        "margin": {
         "t": 60
        },
        "template": {
         "data": {
          "bar": [
           {
            "error_x": {
             "color": "#2a3f5f"
            },
            "error_y": {
             "color": "#2a3f5f"
            },
            "marker": {
             "line": {
              "color": "#E5ECF6",
              "width": 0.5
             },
             "pattern": {
              "fillmode": "overlay",
              "size": 10,
              "solidity": 0.2
             }
            },
            "type": "bar"
           }
          ],
          "barpolar": [
           {
            "marker": {
             "line": {
              "color": "#E5ECF6",
              "width": 0.5
             },
             "pattern": {
              "fillmode": "overlay",
              "size": 10,
              "solidity": 0.2
             }
            },
            "type": "barpolar"
           }
          ],
          "carpet": [
           {
            "aaxis": {
             "endlinecolor": "#2a3f5f",
             "gridcolor": "white",
             "linecolor": "white",
             "minorgridcolor": "white",
             "startlinecolor": "#2a3f5f"
            },
            "baxis": {
             "endlinecolor": "#2a3f5f",
             "gridcolor": "white",
             "linecolor": "white",
             "minorgridcolor": "white",
             "startlinecolor": "#2a3f5f"
            },
            "type": "carpet"
           }
          ],
          "choropleth": [
           {
            "colorbar": {
             "outlinewidth": 0,
             "ticks": ""
            },
            "type": "choropleth"
           }
          ],
          "contour": [
           {
            "colorbar": {
             "outlinewidth": 0,
             "ticks": ""
            },
            "colorscale": [
             [
              0,
              "#0d0887"
             ],
             [
              0.1111111111111111,
              "#46039f"
             ],
             [
              0.2222222222222222,
              "#7201a8"
             ],
             [
              0.3333333333333333,
              "#9c179e"
             ],
             [
              0.4444444444444444,
              "#bd3786"
             ],
             [
              0.5555555555555556,
              "#d8576b"
             ],
             [
              0.6666666666666666,
              "#ed7953"
             ],
             [
              0.7777777777777778,
              "#fb9f3a"
             ],
             [
              0.8888888888888888,
              "#fdca26"
             ],
             [
              1,
              "#f0f921"
             ]
            ],
            "type": "contour"
           }
          ],
          "contourcarpet": [
           {
            "colorbar": {
             "outlinewidth": 0,
             "ticks": ""
            },
            "type": "contourcarpet"
           }
          ],
          "heatmap": [
           {
            "colorbar": {
             "outlinewidth": 0,
             "ticks": ""
            },
            "colorscale": [
             [
              0,
              "#0d0887"
             ],
             [
              0.1111111111111111,
              "#46039f"
             ],
             [
              0.2222222222222222,
              "#7201a8"
             ],
             [
              0.3333333333333333,
              "#9c179e"
             ],
             [
              0.4444444444444444,
              "#bd3786"
             ],
             [
              0.5555555555555556,
              "#d8576b"
             ],
             [
              0.6666666666666666,
              "#ed7953"
             ],
             [
              0.7777777777777778,
              "#fb9f3a"
             ],
             [
              0.8888888888888888,
              "#fdca26"
             ],
             [
              1,
              "#f0f921"
             ]
            ],
            "type": "heatmap"
           }
          ],
          "heatmapgl": [
           {
            "colorbar": {
             "outlinewidth": 0,
             "ticks": ""
            },
            "colorscale": [
             [
              0,
              "#0d0887"
             ],
             [
              0.1111111111111111,
              "#46039f"
             ],
             [
              0.2222222222222222,
              "#7201a8"
             ],
             [
              0.3333333333333333,
              "#9c179e"
             ],
             [
              0.4444444444444444,
              "#bd3786"
             ],
             [
              0.5555555555555556,
              "#d8576b"
             ],
             [
              0.6666666666666666,
              "#ed7953"
             ],
             [
              0.7777777777777778,
              "#fb9f3a"
             ],
             [
              0.8888888888888888,
              "#fdca26"
             ],
             [
              1,
              "#f0f921"
             ]
            ],
            "type": "heatmapgl"
           }
          ],
          "histogram": [
           {
            "marker": {
             "pattern": {
              "fillmode": "overlay",
              "size": 10,
              "solidity": 0.2
             }
            },
            "type": "histogram"
           }
          ],
          "histogram2d": [
           {
            "colorbar": {
             "outlinewidth": 0,
             "ticks": ""
            },
            "colorscale": [
             [
              0,
              "#0d0887"
             ],
             [
              0.1111111111111111,
              "#46039f"
             ],
             [
              0.2222222222222222,
              "#7201a8"
             ],
             [
              0.3333333333333333,
              "#9c179e"
             ],
             [
              0.4444444444444444,
              "#bd3786"
             ],
             [
              0.5555555555555556,
              "#d8576b"
             ],
             [
              0.6666666666666666,
              "#ed7953"
             ],
             [
              0.7777777777777778,
              "#fb9f3a"
             ],
             [
              0.8888888888888888,
              "#fdca26"
             ],
             [
              1,
              "#f0f921"
             ]
            ],
            "type": "histogram2d"
           }
          ],
          "histogram2dcontour": [
           {
            "colorbar": {
             "outlinewidth": 0,
             "ticks": ""
            },
            "colorscale": [
             [
              0,
              "#0d0887"
             ],
             [
              0.1111111111111111,
              "#46039f"
             ],
             [
              0.2222222222222222,
              "#7201a8"
             ],
             [
              0.3333333333333333,
              "#9c179e"
             ],
             [
              0.4444444444444444,
              "#bd3786"
             ],
             [
              0.5555555555555556,
              "#d8576b"
             ],
             [
              0.6666666666666666,
              "#ed7953"
             ],
             [
              0.7777777777777778,
              "#fb9f3a"
             ],
             [
              0.8888888888888888,
              "#fdca26"
             ],
             [
              1,
              "#f0f921"
             ]
            ],
            "type": "histogram2dcontour"
           }
          ],
          "mesh3d": [
           {
            "colorbar": {
             "outlinewidth": 0,
             "ticks": ""
            },
            "type": "mesh3d"
           }
          ],
          "parcoords": [
           {
            "line": {
             "colorbar": {
              "outlinewidth": 0,
              "ticks": ""
             }
            },
            "type": "parcoords"
           }
          ],
          "pie": [
           {
            "automargin": true,
            "type": "pie"
           }
          ],
          "scatter": [
           {
            "marker": {
             "colorbar": {
              "outlinewidth": 0,
              "ticks": ""
             }
            },
            "type": "scatter"
           }
          ],
          "scatter3d": [
           {
            "line": {
             "colorbar": {
              "outlinewidth": 0,
              "ticks": ""
             }
            },
            "marker": {
             "colorbar": {
              "outlinewidth": 0,
              "ticks": ""
             }
            },
            "type": "scatter3d"
           }
          ],
          "scattercarpet": [
           {
            "marker": {
             "colorbar": {
              "outlinewidth": 0,
              "ticks": ""
             }
            },
            "type": "scattercarpet"
           }
          ],
          "scattergeo": [
           {
            "marker": {
             "colorbar": {
              "outlinewidth": 0,
              "ticks": ""
             }
            },
            "type": "scattergeo"
           }
          ],
          "scattergl": [
           {
            "marker": {
             "colorbar": {
              "outlinewidth": 0,
              "ticks": ""
             }
            },
            "type": "scattergl"
           }
          ],
          "scattermapbox": [
           {
            "marker": {
             "colorbar": {
              "outlinewidth": 0,
              "ticks": ""
             }
            },
            "type": "scattermapbox"
           }
          ],
          "scatterpolar": [
           {
            "marker": {
             "colorbar": {
              "outlinewidth": 0,
              "ticks": ""
             }
            },
            "type": "scatterpolar"
           }
          ],
          "scatterpolargl": [
           {
            "marker": {
             "colorbar": {
              "outlinewidth": 0,
              "ticks": ""
             }
            },
            "type": "scatterpolargl"
           }
          ],
          "scatterternary": [
           {
            "marker": {
             "colorbar": {
              "outlinewidth": 0,
              "ticks": ""
             }
            },
            "type": "scatterternary"
           }
          ],
          "surface": [
           {
            "colorbar": {
             "outlinewidth": 0,
             "ticks": ""
            },
            "colorscale": [
             [
              0,
              "#0d0887"
             ],
             [
              0.1111111111111111,
              "#46039f"
             ],
             [
              0.2222222222222222,
              "#7201a8"
             ],
             [
              0.3333333333333333,
              "#9c179e"
             ],
             [
              0.4444444444444444,
              "#bd3786"
             ],
             [
              0.5555555555555556,
              "#d8576b"
             ],
             [
              0.6666666666666666,
              "#ed7953"
             ],
             [
              0.7777777777777778,
              "#fb9f3a"
             ],
             [
              0.8888888888888888,
              "#fdca26"
             ],
             [
              1,
              "#f0f921"
             ]
            ],
            "type": "surface"
           }
          ],
          "table": [
           {
            "cells": {
             "fill": {
              "color": "#EBF0F8"
             },
             "line": {
              "color": "white"
             }
            },
            "header": {
             "fill": {
              "color": "#C8D4E3"
             },
             "line": {
              "color": "white"
             }
            },
            "type": "table"
           }
          ]
         },
         "layout": {
          "annotationdefaults": {
           "arrowcolor": "#2a3f5f",
           "arrowhead": 0,
           "arrowwidth": 1
          },
          "autotypenumbers": "strict",
          "coloraxis": {
           "colorbar": {
            "outlinewidth": 0,
            "ticks": ""
           }
          },
          "colorscale": {
           "diverging": [
            [
             0,
             "#8e0152"
            ],
            [
             0.1,
             "#c51b7d"
            ],
            [
             0.2,
             "#de77ae"
            ],
            [
             0.3,
             "#f1b6da"
            ],
            [
             0.4,
             "#fde0ef"
            ],
            [
             0.5,
             "#f7f7f7"
            ],
            [
             0.6,
             "#e6f5d0"
            ],
            [
             0.7,
             "#b8e186"
            ],
            [
             0.8,
             "#7fbc41"
            ],
            [
             0.9,
             "#4d9221"
            ],
            [
             1,
             "#276419"
            ]
           ],
           "sequential": [
            [
             0,
             "#0d0887"
            ],
            [
             0.1111111111111111,
             "#46039f"
            ],
            [
             0.2222222222222222,
             "#7201a8"
            ],
            [
             0.3333333333333333,
             "#9c179e"
            ],
            [
             0.4444444444444444,
             "#bd3786"
            ],
            [
             0.5555555555555556,
             "#d8576b"
            ],
            [
             0.6666666666666666,
             "#ed7953"
            ],
            [
             0.7777777777777778,
             "#fb9f3a"
            ],
            [
             0.8888888888888888,
             "#fdca26"
            ],
            [
             1,
             "#f0f921"
            ]
           ],
           "sequentialminus": [
            [
             0,
             "#0d0887"
            ],
            [
             0.1111111111111111,
             "#46039f"
            ],
            [
             0.2222222222222222,
             "#7201a8"
            ],
            [
             0.3333333333333333,
             "#9c179e"
            ],
            [
             0.4444444444444444,
             "#bd3786"
            ],
            [
             0.5555555555555556,
             "#d8576b"
            ],
            [
             0.6666666666666666,
             "#ed7953"
            ],
            [
             0.7777777777777778,
             "#fb9f3a"
            ],
            [
             0.8888888888888888,
             "#fdca26"
            ],
            [
             1,
             "#f0f921"
            ]
           ]
          },
          "colorway": [
           "#636efa",
           "#EF553B",
           "#00cc96",
           "#ab63fa",
           "#FFA15A",
           "#19d3f3",
           "#FF6692",
           "#B6E880",
           "#FF97FF",
           "#FECB52"
          ],
          "font": {
           "color": "#2a3f5f"
          },
          "geo": {
           "bgcolor": "white",
           "lakecolor": "white",
           "landcolor": "#E5ECF6",
           "showlakes": true,
           "showland": true,
           "subunitcolor": "white"
          },
          "hoverlabel": {
           "align": "left"
          },
          "hovermode": "closest",
          "mapbox": {
           "style": "light"
          },
          "paper_bgcolor": "white",
          "plot_bgcolor": "#E5ECF6",
          "polar": {
           "angularaxis": {
            "gridcolor": "white",
            "linecolor": "white",
            "ticks": ""
           },
           "bgcolor": "#E5ECF6",
           "radialaxis": {
            "gridcolor": "white",
            "linecolor": "white",
            "ticks": ""
           }
          },
          "scene": {
           "xaxis": {
            "backgroundcolor": "#E5ECF6",
            "gridcolor": "white",
            "gridwidth": 2,
            "linecolor": "white",
            "showbackground": true,
            "ticks": "",
            "zerolinecolor": "white"
           },
           "yaxis": {
            "backgroundcolor": "#E5ECF6",
            "gridcolor": "white",
            "gridwidth": 2,
            "linecolor": "white",
            "showbackground": true,
            "ticks": "",
            "zerolinecolor": "white"
           },
           "zaxis": {
            "backgroundcolor": "#E5ECF6",
            "gridcolor": "white",
            "gridwidth": 2,
            "linecolor": "white",
            "showbackground": true,
            "ticks": "",
            "zerolinecolor": "white"
           }
          },
          "shapedefaults": {
           "line": {
            "color": "#2a3f5f"
           }
          },
          "ternary": {
           "aaxis": {
            "gridcolor": "white",
            "linecolor": "white",
            "ticks": ""
           },
           "baxis": {
            "gridcolor": "white",
            "linecolor": "white",
            "ticks": ""
           },
           "bgcolor": "#E5ECF6",
           "caxis": {
            "gridcolor": "white",
            "linecolor": "white",
            "ticks": ""
           }
          },
          "title": {
           "x": 0.05
          },
          "xaxis": {
           "automargin": true,
           "gridcolor": "white",
           "linecolor": "white",
           "ticks": "",
           "title": {
            "standoff": 15
           },
           "zerolinecolor": "white",
           "zerolinewidth": 2
          },
          "yaxis": {
           "automargin": true,
           "gridcolor": "white",
           "linecolor": "white",
           "ticks": "",
           "title": {
            "standoff": 15
           },
           "zerolinecolor": "white",
           "zerolinewidth": 2
          }
         }
        },
        "xaxis": {
         "anchor": "y",
         "domain": [
          0,
          1
         ],
         "title": {
          "text": "clusters"
         }
        },
        "yaxis": {
         "anchor": "x",
         "domain": [
          0,
          1
         ],
         "title": {
          "text": "Count"
         }
        }
       }
      },
      "text/html": [
       "<div>                            <div id=\"84877f9c-4b1e-4f79-ab62-eda7defe3e39\" class=\"plotly-graph-div\" style=\"height:525px; width:100%;\"></div>            <script type=\"text/javascript\">                require([\"plotly\"], function(Plotly) {                    window.PLOTLYENV=window.PLOTLYENV || {};                                    if (document.getElementById(\"84877f9c-4b1e-4f79-ab62-eda7defe3e39\")) {                    Plotly.newPlot(                        \"84877f9c-4b1e-4f79-ab62-eda7defe3e39\",                        [{\"alignmentgroup\":\"True\",\"hovertemplate\":\"Rank=Ambassador<br>clusters=%{x}<br>Count=%{y}<extra></extra>\",\"legendgroup\":\"Ambassador\",\"marker\":{\"color\":\"#636efa\",\"pattern\":{\"shape\":\"\"}},\"name\":\"Ambassador\",\"offsetgroup\":\"Ambassador\",\"orientation\":\"v\",\"showlegend\":true,\"textposition\":\"auto\",\"x\":[0,1],\"xaxis\":\"x\",\"y\":[34,99],\"yaxis\":\"y\",\"type\":\"bar\"},{\"alignmentgroup\":\"True\",\"hovertemplate\":\"Rank=Titanium<br>clusters=%{x}<br>Count=%{y}<extra></extra>\",\"legendgroup\":\"Titanium\",\"marker\":{\"color\":\"#EF553B\",\"pattern\":{\"shape\":\"\"}},\"name\":\"Titanium\",\"offsetgroup\":\"Titanium\",\"orientation\":\"v\",\"showlegend\":true,\"textposition\":\"auto\",\"x\":[0,1],\"xaxis\":\"x\",\"y\":[15,67],\"yaxis\":\"y\",\"type\":\"bar\"},{\"alignmentgroup\":\"True\",\"hovertemplate\":\"Rank=Platinum Plus<br>clusters=%{x}<br>Count=%{y}<extra></extra>\",\"legendgroup\":\"Platinum Plus\",\"marker\":{\"color\":\"#00cc96\",\"pattern\":{\"shape\":\"\"}},\"name\":\"Platinum Plus\",\"offsetgroup\":\"Platinum Plus\",\"orientation\":\"v\",\"showlegend\":true,\"textposition\":\"auto\",\"x\":[0,1],\"xaxis\":\"x\",\"y\":[8,52],\"yaxis\":\"y\",\"type\":\"bar\"},{\"alignmentgroup\":\"True\",\"hovertemplate\":\"Rank=Platinum<br>clusters=%{x}<br>Count=%{y}<extra></extra>\",\"legendgroup\":\"Platinum\",\"marker\":{\"color\":\"#ab63fa\",\"pattern\":{\"shape\":\"\"}},\"name\":\"Platinum\",\"offsetgroup\":\"Platinum\",\"orientation\":\"v\",\"showlegend\":true,\"textposition\":\"auto\",\"x\":[0,1],\"xaxis\":\"x\",\"y\":[7,78],\"yaxis\":\"y\",\"type\":\"bar\"},{\"alignmentgroup\":\"True\",\"hovertemplate\":\"Rank=Gold Plus<br>clusters=%{x}<br>Count=%{y}<extra></extra>\",\"legendgroup\":\"Gold Plus\",\"marker\":{\"color\":\"#FFA15A\",\"pattern\":{\"shape\":\"\"}},\"name\":\"Gold Plus\",\"offsetgroup\":\"Gold Plus\",\"orientation\":\"v\",\"showlegend\":true,\"textposition\":\"auto\",\"x\":[0,1],\"xaxis\":\"x\",\"y\":[2,51],\"yaxis\":\"y\",\"type\":\"bar\"},{\"alignmentgroup\":\"True\",\"hovertemplate\":\"Rank=Silver Plus<br>clusters=%{x}<br>Count=%{y}<extra></extra>\",\"legendgroup\":\"Silver Plus\",\"marker\":{\"color\":\"#19d3f3\",\"pattern\":{\"shape\":\"\"}},\"name\":\"Silver Plus\",\"offsetgroup\":\"Silver Plus\",\"orientation\":\"v\",\"showlegend\":true,\"textposition\":\"auto\",\"x\":[0,1],\"xaxis\":\"x\",\"y\":[1,45],\"yaxis\":\"y\",\"type\":\"bar\"},{\"alignmentgroup\":\"True\",\"hovertemplate\":\"Rank=Gold<br>clusters=%{x}<br>Count=%{y}<extra></extra>\",\"legendgroup\":\"Gold\",\"marker\":{\"color\":\"#FF6692\",\"pattern\":{\"shape\":\"\"}},\"name\":\"Gold\",\"offsetgroup\":\"Gold\",\"orientation\":\"v\",\"showlegend\":true,\"textposition\":\"auto\",\"x\":[1],\"xaxis\":\"x\",\"y\":[24],\"yaxis\":\"y\",\"type\":\"bar\"},{\"alignmentgroup\":\"True\",\"hovertemplate\":\"Rank=Silver<br>clusters=%{x}<br>Count=%{y}<extra></extra>\",\"legendgroup\":\"Silver\",\"marker\":{\"color\":\"#B6E880\",\"pattern\":{\"shape\":\"\"}},\"name\":\"Silver\",\"offsetgroup\":\"Silver\",\"orientation\":\"v\",\"showlegend\":true,\"textposition\":\"auto\",\"x\":[1],\"xaxis\":\"x\",\"y\":[4],\"yaxis\":\"y\",\"type\":\"bar\"},{\"alignmentgroup\":\"True\",\"hovertemplate\":\"Rank=Titanium Plus<br>clusters=%{x}<br>Count=%{y}<extra></extra>\",\"legendgroup\":\"Titanium Plus\",\"marker\":{\"color\":\"#FF97FF\",\"pattern\":{\"shape\":\"\"}},\"name\":\"Titanium Plus\",\"offsetgroup\":\"Titanium Plus\",\"orientation\":\"v\",\"showlegend\":true,\"textposition\":\"auto\",\"x\":[1],\"xaxis\":\"x\",\"y\":[1],\"yaxis\":\"y\",\"type\":\"bar\"}],                        {\"template\":{\"data\":{\"bar\":[{\"error_x\":{\"color\":\"#2a3f5f\"},\"error_y\":{\"color\":\"#2a3f5f\"},\"marker\":{\"line\":{\"color\":\"#E5ECF6\",\"width\":0.5},\"pattern\":{\"fillmode\":\"overlay\",\"size\":10,\"solidity\":0.2}},\"type\":\"bar\"}],\"barpolar\":[{\"marker\":{\"line\":{\"color\":\"#E5ECF6\",\"width\":0.5},\"pattern\":{\"fillmode\":\"overlay\",\"size\":10,\"solidity\":0.2}},\"type\":\"barpolar\"}],\"carpet\":[{\"aaxis\":{\"endlinecolor\":\"#2a3f5f\",\"gridcolor\":\"white\",\"linecolor\":\"white\",\"minorgridcolor\":\"white\",\"startlinecolor\":\"#2a3f5f\"},\"baxis\":{\"endlinecolor\":\"#2a3f5f\",\"gridcolor\":\"white\",\"linecolor\":\"white\",\"minorgridcolor\":\"white\",\"startlinecolor\":\"#2a3f5f\"},\"type\":\"carpet\"}],\"choropleth\":[{\"colorbar\":{\"outlinewidth\":0,\"ticks\":\"\"},\"type\":\"choropleth\"}],\"contour\":[{\"colorbar\":{\"outlinewidth\":0,\"ticks\":\"\"},\"colorscale\":[[0.0,\"#0d0887\"],[0.1111111111111111,\"#46039f\"],[0.2222222222222222,\"#7201a8\"],[0.3333333333333333,\"#9c179e\"],[0.4444444444444444,\"#bd3786\"],[0.5555555555555556,\"#d8576b\"],[0.6666666666666666,\"#ed7953\"],[0.7777777777777778,\"#fb9f3a\"],[0.8888888888888888,\"#fdca26\"],[1.0,\"#f0f921\"]],\"type\":\"contour\"}],\"contourcarpet\":[{\"colorbar\":{\"outlinewidth\":0,\"ticks\":\"\"},\"type\":\"contourcarpet\"}],\"heatmap\":[{\"colorbar\":{\"outlinewidth\":0,\"ticks\":\"\"},\"colorscale\":[[0.0,\"#0d0887\"],[0.1111111111111111,\"#46039f\"],[0.2222222222222222,\"#7201a8\"],[0.3333333333333333,\"#9c179e\"],[0.4444444444444444,\"#bd3786\"],[0.5555555555555556,\"#d8576b\"],[0.6666666666666666,\"#ed7953\"],[0.7777777777777778,\"#fb9f3a\"],[0.8888888888888888,\"#fdca26\"],[1.0,\"#f0f921\"]],\"type\":\"heatmap\"}],\"heatmapgl\":[{\"colorbar\":{\"outlinewidth\":0,\"ticks\":\"\"},\"colorscale\":[[0.0,\"#0d0887\"],[0.1111111111111111,\"#46039f\"],[0.2222222222222222,\"#7201a8\"],[0.3333333333333333,\"#9c179e\"],[0.4444444444444444,\"#bd3786\"],[0.5555555555555556,\"#d8576b\"],[0.6666666666666666,\"#ed7953\"],[0.7777777777777778,\"#fb9f3a\"],[0.8888888888888888,\"#fdca26\"],[1.0,\"#f0f921\"]],\"type\":\"heatmapgl\"}],\"histogram\":[{\"marker\":{\"pattern\":{\"fillmode\":\"overlay\",\"size\":10,\"solidity\":0.2}},\"type\":\"histogram\"}],\"histogram2d\":[{\"colorbar\":{\"outlinewidth\":0,\"ticks\":\"\"},\"colorscale\":[[0.0,\"#0d0887\"],[0.1111111111111111,\"#46039f\"],[0.2222222222222222,\"#7201a8\"],[0.3333333333333333,\"#9c179e\"],[0.4444444444444444,\"#bd3786\"],[0.5555555555555556,\"#d8576b\"],[0.6666666666666666,\"#ed7953\"],[0.7777777777777778,\"#fb9f3a\"],[0.8888888888888888,\"#fdca26\"],[1.0,\"#f0f921\"]],\"type\":\"histogram2d\"}],\"histogram2dcontour\":[{\"colorbar\":{\"outlinewidth\":0,\"ticks\":\"\"},\"colorscale\":[[0.0,\"#0d0887\"],[0.1111111111111111,\"#46039f\"],[0.2222222222222222,\"#7201a8\"],[0.3333333333333333,\"#9c179e\"],[0.4444444444444444,\"#bd3786\"],[0.5555555555555556,\"#d8576b\"],[0.6666666666666666,\"#ed7953\"],[0.7777777777777778,\"#fb9f3a\"],[0.8888888888888888,\"#fdca26\"],[1.0,\"#f0f921\"]],\"type\":\"histogram2dcontour\"}],\"mesh3d\":[{\"colorbar\":{\"outlinewidth\":0,\"ticks\":\"\"},\"type\":\"mesh3d\"}],\"parcoords\":[{\"line\":{\"colorbar\":{\"outlinewidth\":0,\"ticks\":\"\"}},\"type\":\"parcoords\"}],\"pie\":[{\"automargin\":true,\"type\":\"pie\"}],\"scatter\":[{\"marker\":{\"colorbar\":{\"outlinewidth\":0,\"ticks\":\"\"}},\"type\":\"scatter\"}],\"scatter3d\":[{\"line\":{\"colorbar\":{\"outlinewidth\":0,\"ticks\":\"\"}},\"marker\":{\"colorbar\":{\"outlinewidth\":0,\"ticks\":\"\"}},\"type\":\"scatter3d\"}],\"scattercarpet\":[{\"marker\":{\"colorbar\":{\"outlinewidth\":0,\"ticks\":\"\"}},\"type\":\"scattercarpet\"}],\"scattergeo\":[{\"marker\":{\"colorbar\":{\"outlinewidth\":0,\"ticks\":\"\"}},\"type\":\"scattergeo\"}],\"scattergl\":[{\"marker\":{\"colorbar\":{\"outlinewidth\":0,\"ticks\":\"\"}},\"type\":\"scattergl\"}],\"scattermapbox\":[{\"marker\":{\"colorbar\":{\"outlinewidth\":0,\"ticks\":\"\"}},\"type\":\"scattermapbox\"}],\"scatterpolar\":[{\"marker\":{\"colorbar\":{\"outlinewidth\":0,\"ticks\":\"\"}},\"type\":\"scatterpolar\"}],\"scatterpolargl\":[{\"marker\":{\"colorbar\":{\"outlinewidth\":0,\"ticks\":\"\"}},\"type\":\"scatterpolargl\"}],\"scatterternary\":[{\"marker\":{\"colorbar\":{\"outlinewidth\":0,\"ticks\":\"\"}},\"type\":\"scatterternary\"}],\"surface\":[{\"colorbar\":{\"outlinewidth\":0,\"ticks\":\"\"},\"colorscale\":[[0.0,\"#0d0887\"],[0.1111111111111111,\"#46039f\"],[0.2222222222222222,\"#7201a8\"],[0.3333333333333333,\"#9c179e\"],[0.4444444444444444,\"#bd3786\"],[0.5555555555555556,\"#d8576b\"],[0.6666666666666666,\"#ed7953\"],[0.7777777777777778,\"#fb9f3a\"],[0.8888888888888888,\"#fdca26\"],[1.0,\"#f0f921\"]],\"type\":\"surface\"}],\"table\":[{\"cells\":{\"fill\":{\"color\":\"#EBF0F8\"},\"line\":{\"color\":\"white\"}},\"header\":{\"fill\":{\"color\":\"#C8D4E3\"},\"line\":{\"color\":\"white\"}},\"type\":\"table\"}]},\"layout\":{\"annotationdefaults\":{\"arrowcolor\":\"#2a3f5f\",\"arrowhead\":0,\"arrowwidth\":1},\"autotypenumbers\":\"strict\",\"coloraxis\":{\"colorbar\":{\"outlinewidth\":0,\"ticks\":\"\"}},\"colorscale\":{\"diverging\":[[0,\"#8e0152\"],[0.1,\"#c51b7d\"],[0.2,\"#de77ae\"],[0.3,\"#f1b6da\"],[0.4,\"#fde0ef\"],[0.5,\"#f7f7f7\"],[0.6,\"#e6f5d0\"],[0.7,\"#b8e186\"],[0.8,\"#7fbc41\"],[0.9,\"#4d9221\"],[1,\"#276419\"]],\"sequential\":[[0.0,\"#0d0887\"],[0.1111111111111111,\"#46039f\"],[0.2222222222222222,\"#7201a8\"],[0.3333333333333333,\"#9c179e\"],[0.4444444444444444,\"#bd3786\"],[0.5555555555555556,\"#d8576b\"],[0.6666666666666666,\"#ed7953\"],[0.7777777777777778,\"#fb9f3a\"],[0.8888888888888888,\"#fdca26\"],[1.0,\"#f0f921\"]],\"sequentialminus\":[[0.0,\"#0d0887\"],[0.1111111111111111,\"#46039f\"],[0.2222222222222222,\"#7201a8\"],[0.3333333333333333,\"#9c179e\"],[0.4444444444444444,\"#bd3786\"],[0.5555555555555556,\"#d8576b\"],[0.6666666666666666,\"#ed7953\"],[0.7777777777777778,\"#fb9f3a\"],[0.8888888888888888,\"#fdca26\"],[1.0,\"#f0f921\"]]},\"colorway\":[\"#636efa\",\"#EF553B\",\"#00cc96\",\"#ab63fa\",\"#FFA15A\",\"#19d3f3\",\"#FF6692\",\"#B6E880\",\"#FF97FF\",\"#FECB52\"],\"font\":{\"color\":\"#2a3f5f\"},\"geo\":{\"bgcolor\":\"white\",\"lakecolor\":\"white\",\"landcolor\":\"#E5ECF6\",\"showlakes\":true,\"showland\":true,\"subunitcolor\":\"white\"},\"hoverlabel\":{\"align\":\"left\"},\"hovermode\":\"closest\",\"mapbox\":{\"style\":\"light\"},\"paper_bgcolor\":\"white\",\"plot_bgcolor\":\"#E5ECF6\",\"polar\":{\"angularaxis\":{\"gridcolor\":\"white\",\"linecolor\":\"white\",\"ticks\":\"\"},\"bgcolor\":\"#E5ECF6\",\"radialaxis\":{\"gridcolor\":\"white\",\"linecolor\":\"white\",\"ticks\":\"\"}},\"scene\":{\"xaxis\":{\"backgroundcolor\":\"#E5ECF6\",\"gridcolor\":\"white\",\"gridwidth\":2,\"linecolor\":\"white\",\"showbackground\":true,\"ticks\":\"\",\"zerolinecolor\":\"white\"},\"yaxis\":{\"backgroundcolor\":\"#E5ECF6\",\"gridcolor\":\"white\",\"gridwidth\":2,\"linecolor\":\"white\",\"showbackground\":true,\"ticks\":\"\",\"zerolinecolor\":\"white\"},\"zaxis\":{\"backgroundcolor\":\"#E5ECF6\",\"gridcolor\":\"white\",\"gridwidth\":2,\"linecolor\":\"white\",\"showbackground\":true,\"ticks\":\"\",\"zerolinecolor\":\"white\"}},\"shapedefaults\":{\"line\":{\"color\":\"#2a3f5f\"}},\"ternary\":{\"aaxis\":{\"gridcolor\":\"white\",\"linecolor\":\"white\",\"ticks\":\"\"},\"baxis\":{\"gridcolor\":\"white\",\"linecolor\":\"white\",\"ticks\":\"\"},\"bgcolor\":\"#E5ECF6\",\"caxis\":{\"gridcolor\":\"white\",\"linecolor\":\"white\",\"ticks\":\"\"}},\"title\":{\"x\":0.05},\"xaxis\":{\"automargin\":true,\"gridcolor\":\"white\",\"linecolor\":\"white\",\"ticks\":\"\",\"title\":{\"standoff\":15},\"zerolinecolor\":\"white\",\"zerolinewidth\":2},\"yaxis\":{\"automargin\":true,\"gridcolor\":\"white\",\"linecolor\":\"white\",\"ticks\":\"\",\"title\":{\"standoff\":15},\"zerolinecolor\":\"white\",\"zerolinewidth\":2}}},\"xaxis\":{\"anchor\":\"y\",\"domain\":[0.0,1.0],\"title\":{\"text\":\"clusters\"}},\"yaxis\":{\"anchor\":\"x\",\"domain\":[0.0,1.0],\"title\":{\"text\":\"Count\"}},\"legend\":{\"title\":{\"text\":\"Rank\"},\"tracegroupgap\":0},\"margin\":{\"t\":60},\"barmode\":\"group\"},                        {\"responsive\": true}                    ).then(function(){\n",
       "                            \n",
       "var gd = document.getElementById('84877f9c-4b1e-4f79-ab62-eda7defe3e39');\n",
       "var x = new MutationObserver(function (mutations, observer) {{\n",
       "        var display = window.getComputedStyle(gd).display;\n",
       "        if (!display || display === 'none') {{\n",
       "            console.log([gd, 'removed!']);\n",
       "            Plotly.purge(gd);\n",
       "            observer.disconnect();\n",
       "        }}\n",
       "}});\n",
       "\n",
       "// Listen for the removal of the full notebook cells\n",
       "var notebookContainer = gd.closest('#notebook-container');\n",
       "if (notebookContainer) {{\n",
       "    x.observe(notebookContainer, {childList: true});\n",
       "}}\n",
       "\n",
       "// Listen for the clearing of the current output cell\n",
       "var outputEl = gd.closest('.output');\n",
       "if (outputEl) {{\n",
       "    x.observe(outputEl, {childList: true});\n",
       "}}\n",
       "\n",
       "                        })                };                });            </script>        </div>"
      ]
     },
     "metadata": {},
     "output_type": "display_data"
    }
   ],
   "source": [
    "serve_countplot()"
   ]
  },
  {
   "cell_type": "code",
   "execution_count": null,
   "id": "b1feea4f",
   "metadata": {},
   "outputs": [],
   "source": []
  },
  {
   "cell_type": "code",
   "execution_count": null,
   "id": "5dec3a8f",
   "metadata": {},
   "outputs": [],
   "source": []
  },
  {
   "cell_type": "code",
   "execution_count": null,
   "id": "2313ea31",
   "metadata": {},
   "outputs": [],
   "source": []
  },
  {
   "cell_type": "code",
   "execution_count": null,
   "id": "1af5847f",
   "metadata": {},
   "outputs": [],
   "source": []
  },
  {
   "cell_type": "code",
   "execution_count": null,
   "id": "aa19a459",
   "metadata": {},
   "outputs": [],
   "source": []
  },
  {
   "cell_type": "code",
   "execution_count": null,
   "id": "69e7f29f",
   "metadata": {},
   "outputs": [],
   "source": []
  },
  {
   "cell_type": "code",
   "execution_count": 17,
   "id": "386f324f",
   "metadata": {},
   "outputs": [
    {
     "name": "stdout",
     "output_type": "stream",
     "text": [
      "Dash app running on http://localhost:8050/\n"
     ]
    }
   ],
   "source": [
    "app.run_server(host = \"localhost\", mode = \"external\")"
   ]
  }
 ],
 "metadata": {
  "kernelspec": {
   "display_name": "Python 3",
   "language": "python",
   "name": "python3"
  },
  "language_info": {
   "codemirror_mode": {
    "name": "ipython",
    "version": 3
   },
   "file_extension": ".py",
   "mimetype": "text/x-python",
   "name": "python",
   "nbconvert_exporter": "python",
   "pygments_lexer": "ipython3",
   "version": "3.8.5"
  }
 },
 "nbformat": 4,
 "nbformat_minor": 5
}
