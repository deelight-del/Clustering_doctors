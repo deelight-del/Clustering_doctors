{
 "cells": [
  {
   "cell_type": "markdown",
   "id": "f2f61f14",
   "metadata": {},
   "source": [
    "# Can you find a better way to segment your customers?\n",
    "\n",
    "## 📖 Background\n",
    "You work for a medical device manufacturer in Switzerland. Your company manufactures orthopedic devices and sells them worldwide. The company sells directly to individual doctors who use them on rehabilitation and physical therapy patients.\n",
    "\n",
    "Historically, the sales and customer support departments have grouped doctors by geography. However, the region is not a good predictor of the number of purchases a doctor will make or their support needs.\n",
    "\n",
    "Your team wants to use a data-centric approach to segmenting doctors to improve marketing, customer service, and product planning. "
   ]
  },
  {
   "cell_type": "markdown",
   "id": "09b848b6",
   "metadata": {},
   "source": [
    "## 💾 The data\n",
    "\n",
    "The company stores the information you need in the following four tables. Some of the fields are anonymized to comply with privacy regulations.\n",
    "\n",
    "#### Doctors contains information on doctors. Each row represents one doctor.\n",
    "- \"DoctorID\" - is a unique identifier for each doctor.\n",
    "- \"Region\" - the current geographical region of the doctor.\n",
    "- \"Category\" - the type of doctor, either 'Specialist' or 'General Practitioner.'\n",
    "- \"Rank\" - is an internal ranking system. It is an ordered variable: The highest level is Ambassadors, followed by Titanium Plus, Titanium, Platinum Plus, Platinum, Gold Plus, Gold, Silver Plus, and the lowest level is Silver.\n",
    "- \"Incidence rate\"  and \"R rate\" - relate to the amount of re-work each doctor generates.\n",
    "- \"Satisfaction\" - measures doctors' satisfaction with the company.\n",
    "- \"Experience\" - relates to the doctor's experience with the company.\n",
    "- \"Purchases\" - purchases over the last year.\n",
    "\n",
    "#### Orders contains details on orders. Each row represents one order; a doctor can place multiple orders.\n",
    "- \"DoctorID\" - doctor id (matches the other tables).\n",
    "- \"OrderID\" - order identifier.\n",
    "- \"OrderNum\" - order number.\n",
    "- \"Conditions A through J\" - map the different settings of the devices in each order. Each order goes to an individual patient.\n",
    "\n",
    "#### Complaints collects information on doctor complaints.\n",
    "- \"DoctorID\" - doctor id (matches the other tables).\n",
    "- \"Complaint Type\" - the company's classification of the complaints.\n",
    "- \"Qty\" - number of complaints per complaint type per doctor.\n",
    "\n",
    "#### Instructions has information on whether the doctor includes special instructions on their orders.\n",
    "- \"DoctorID\" - doctor id (matches the other tables).\n",
    "- \"Instructions\" - 'Yes' when the doctor includes special instructions, 'No' when they do not."
   ]
  },
  {
   "cell_type": "markdown",
   "id": "472a55ee",
   "metadata": {},
   "source": [
    "## 💪 Competition challenge\n",
    "\n",
    "Create a report that covers the following:\n",
    "1. How many doctors are there in each region? What is the average number of purchases per region?\n",
    "2. Can you find a relationship between purchases and complaints?\n",
    "3. Define new doctor segments that help the company improve marketing efforts and customer service.\n",
    "4. Identify which features impact the new segmentation strategy the most.\n",
    "5. Your team will need to explain the new segments to the rest of the company. Describe which characteristics distinguish the newly defined segments."
   ]
  },
  {
   "cell_type": "markdown",
   "id": "fa94d201",
   "metadata": {},
   "source": [
    "## 🧑‍⚖️ Judging criteria\n",
    "\n",
    "| CATEGORY | WEIGHTING | DETAILS                                                              |\n",
    "|:---------|:----------|:---------------------------------------------------------------------|\n",
    "| **Recommendations** | 35%       | <ul><li>Clarity of recommendations - how clear and well presented the recommendation is.</li><li>Quality of recommendations - are appropriate analytical techniques used & are the conclusions valid?</li><li>Number of relevant insights found for the target audience.</li></ul>       |\n",
    "| **Storytelling**  | 35%       | <ul><li>How well the data and insights are connected to the recommendation.</li><li>How the narrative and whole report connects together.</li><li>Balancing making the report in-depth enough but also concise.</li></ul> |\n",
    "| **Visualizations** | 20% | <ul><li>Appropriateness of visualization used.</li><li>Clarity of insight from visualization.</li></ul> |\n",
    "| **Votes** | 10% | <ul><li>Up voting - most upvoted entries get the most points.</li></ul> |"
   ]
  },
  {
   "cell_type": "code",
   "execution_count": 218,
   "id": "881089c7",
   "metadata": {},
   "outputs": [],
   "source": [
    "# Import libraries\n",
    "\n",
    "import pandas as pd\n",
    "import numpy as np\n",
    "import matplotlib.pyplot as plt\n",
    "import plotly.express as px\n",
    "import seaborn as sns\n",
    "\n",
    "from kmodes.kmodes import KModes\n",
    "from kmodes.kprototypes import KPrototypes"
   ]
  },
  {
   "cell_type": "code",
   "execution_count": 250,
   "id": "07c45ff7",
   "metadata": {},
   "outputs": [],
   "source": [
    "#Matplot lib configurations\n",
    "\n",
    "%matplotlib inline\n",
    "%config InlineBackend.figure_format='retina'"
   ]
  },
  {
   "cell_type": "code",
   "execution_count": 2,
   "id": "526da82a",
   "metadata": {},
   "outputs": [
    {
     "data": {
      "text/html": [
       "<div>\n",
       "<style scoped>\n",
       "    .dataframe tbody tr th:only-of-type {\n",
       "        vertical-align: middle;\n",
       "    }\n",
       "\n",
       "    .dataframe tbody tr th {\n",
       "        vertical-align: top;\n",
       "    }\n",
       "\n",
       "    .dataframe thead th {\n",
       "        text-align: right;\n",
       "    }\n",
       "</style>\n",
       "<table border=\"1\" class=\"dataframe\">\n",
       "  <thead>\n",
       "    <tr style=\"text-align: right;\">\n",
       "      <th></th>\n",
       "      <th>DoctorID</th>\n",
       "      <th>Region</th>\n",
       "      <th>Category</th>\n",
       "      <th>Rank</th>\n",
       "      <th>Incidence rate</th>\n",
       "      <th>R rate</th>\n",
       "      <th>Satisfaction</th>\n",
       "      <th>Experience</th>\n",
       "      <th>Purchases</th>\n",
       "    </tr>\n",
       "  </thead>\n",
       "  <tbody>\n",
       "    <tr>\n",
       "      <th>0</th>\n",
       "      <td>AHDCBA</td>\n",
       "      <td>4 15</td>\n",
       "      <td>Specialist</td>\n",
       "      <td>Ambassador</td>\n",
       "      <td>49.0</td>\n",
       "      <td>0.90</td>\n",
       "      <td>53.85</td>\n",
       "      <td>1.20</td>\n",
       "      <td>49</td>\n",
       "    </tr>\n",
       "    <tr>\n",
       "      <th>1</th>\n",
       "      <td>ABHAHF</td>\n",
       "      <td>1 8 T4</td>\n",
       "      <td>General Practitioner</td>\n",
       "      <td>Ambassador</td>\n",
       "      <td>37.0</td>\n",
       "      <td>0.00</td>\n",
       "      <td>100.00</td>\n",
       "      <td>0.00</td>\n",
       "      <td>38</td>\n",
       "    </tr>\n",
       "    <tr>\n",
       "      <th>2</th>\n",
       "      <td>FDHFJ</td>\n",
       "      <td>1 9 T4</td>\n",
       "      <td>Specialist</td>\n",
       "      <td>Ambassador</td>\n",
       "      <td>33.0</td>\n",
       "      <td>1.53</td>\n",
       "      <td>--</td>\n",
       "      <td>0.00</td>\n",
       "      <td>34</td>\n",
       "    </tr>\n",
       "    <tr>\n",
       "      <th>3</th>\n",
       "      <td>BJJHCA</td>\n",
       "      <td>1 10 T3</td>\n",
       "      <td>Specialist</td>\n",
       "      <td>Ambassador</td>\n",
       "      <td>28.0</td>\n",
       "      <td>2.03</td>\n",
       "      <td>--</td>\n",
       "      <td>0.48</td>\n",
       "      <td>29</td>\n",
       "    </tr>\n",
       "    <tr>\n",
       "      <th>4</th>\n",
       "      <td>FJBEA</td>\n",
       "      <td>1 14 T4</td>\n",
       "      <td>Specialist</td>\n",
       "      <td>Ambassador</td>\n",
       "      <td>23.0</td>\n",
       "      <td>0.96</td>\n",
       "      <td>76.79</td>\n",
       "      <td>0.75</td>\n",
       "      <td>24</td>\n",
       "    </tr>\n",
       "  </tbody>\n",
       "</table>\n",
       "</div>"
      ],
      "text/plain": [
       "  DoctorID   Region              Category        Rank  Incidence rate  R rate  \\\n",
       "0   AHDCBA     4 15            Specialist  Ambassador            49.0    0.90   \n",
       "1   ABHAHF   1 8 T4  General Practitioner  Ambassador            37.0    0.00   \n",
       "2    FDHFJ   1 9 T4            Specialist  Ambassador            33.0    1.53   \n",
       "3   BJJHCA  1 10 T3            Specialist  Ambassador            28.0    2.03   \n",
       "4    FJBEA  1 14 T4            Specialist  Ambassador            23.0    0.96   \n",
       "\n",
       "  Satisfaction  Experience  Purchases  \n",
       "0        53.85        1.20         49  \n",
       "1       100.00        0.00         38  \n",
       "2           --        0.00         34  \n",
       "3           --        0.48         29  \n",
       "4        76.79        0.75         24  "
      ]
     },
     "execution_count": 2,
     "metadata": {},
     "output_type": "execute_result"
    }
   ],
   "source": [
    "#Load datasets\n",
    "\n",
    "doctors_df = pd.read_csv(\"Data/datacamp_workspace_export_2022-07-15 12_51_52.csv\")\n",
    "doctors_df.head()"
   ]
  },
  {
   "cell_type": "code",
   "execution_count": 3,
   "id": "903c6244",
   "metadata": {},
   "outputs": [
    {
     "data": {
      "text/html": [
       "<div>\n",
       "<style scoped>\n",
       "    .dataframe tbody tr th:only-of-type {\n",
       "        vertical-align: middle;\n",
       "    }\n",
       "\n",
       "    .dataframe tbody tr th {\n",
       "        vertical-align: top;\n",
       "    }\n",
       "\n",
       "    .dataframe thead th {\n",
       "        text-align: right;\n",
       "    }\n",
       "</style>\n",
       "<table border=\"1\" class=\"dataframe\">\n",
       "  <thead>\n",
       "    <tr style=\"text-align: right;\">\n",
       "      <th></th>\n",
       "      <th>DoctorID</th>\n",
       "      <th>OrderID</th>\n",
       "      <th>OrderNum</th>\n",
       "      <th>Condition A</th>\n",
       "      <th>Condition B</th>\n",
       "      <th>Condition C</th>\n",
       "      <th>Condition D</th>\n",
       "      <th>Condition F</th>\n",
       "      <th>Condition G</th>\n",
       "      <th>Condition H</th>\n",
       "      <th>Condition I</th>\n",
       "      <th>Condition J</th>\n",
       "    </tr>\n",
       "  </thead>\n",
       "  <tbody>\n",
       "    <tr>\n",
       "      <th>0</th>\n",
       "      <td>ABJEAI</td>\n",
       "      <td>DGEJFDC</td>\n",
       "      <td>AIBEHCJ</td>\n",
       "      <td>False</td>\n",
       "      <td>False</td>\n",
       "      <td>False</td>\n",
       "      <td>False</td>\n",
       "      <td>False</td>\n",
       "      <td>True</td>\n",
       "      <td>True</td>\n",
       "      <td>False</td>\n",
       "      <td>Before</td>\n",
       "    </tr>\n",
       "    <tr>\n",
       "      <th>1</th>\n",
       "      <td>HBIEA</td>\n",
       "      <td>DGAJDAH</td>\n",
       "      <td>AIJIHGB</td>\n",
       "      <td>False</td>\n",
       "      <td>True</td>\n",
       "      <td>NaN</td>\n",
       "      <td>False</td>\n",
       "      <td>False</td>\n",
       "      <td>True</td>\n",
       "      <td>False</td>\n",
       "      <td>True</td>\n",
       "      <td>Before</td>\n",
       "    </tr>\n",
       "    <tr>\n",
       "      <th>2</th>\n",
       "      <td>GGCCD</td>\n",
       "      <td>DGBBDCB</td>\n",
       "      <td>AFEIHFB</td>\n",
       "      <td>False</td>\n",
       "      <td>False</td>\n",
       "      <td>False</td>\n",
       "      <td>False</td>\n",
       "      <td>False</td>\n",
       "      <td>False</td>\n",
       "      <td>False</td>\n",
       "      <td>False</td>\n",
       "      <td>NaN</td>\n",
       "    </tr>\n",
       "    <tr>\n",
       "      <th>3</th>\n",
       "      <td>EHHGF</td>\n",
       "      <td>DGCDCCF</td>\n",
       "      <td>AIBJJEE</td>\n",
       "      <td>False</td>\n",
       "      <td>False</td>\n",
       "      <td>False</td>\n",
       "      <td>True</td>\n",
       "      <td>False</td>\n",
       "      <td>False</td>\n",
       "      <td>True</td>\n",
       "      <td>False</td>\n",
       "      <td>Before</td>\n",
       "    </tr>\n",
       "    <tr>\n",
       "      <th>4</th>\n",
       "      <td>EHHGF</td>\n",
       "      <td>DGCFAGC</td>\n",
       "      <td>AEDBBDC</td>\n",
       "      <td>False</td>\n",
       "      <td>False</td>\n",
       "      <td>False</td>\n",
       "      <td>False</td>\n",
       "      <td>False</td>\n",
       "      <td>False</td>\n",
       "      <td>False</td>\n",
       "      <td>False</td>\n",
       "      <td>NaN</td>\n",
       "    </tr>\n",
       "  </tbody>\n",
       "</table>\n",
       "</div>"
      ],
      "text/plain": [
       "  DoctorID  OrderID OrderNum  Condition A  Condition B Condition C  \\\n",
       "0   ABJEAI  DGEJFDC  AIBEHCJ        False        False       False   \n",
       "1    HBIEA  DGAJDAH  AIJIHGB        False         True         NaN   \n",
       "2    GGCCD  DGBBDCB  AFEIHFB        False        False       False   \n",
       "3    EHHGF  DGCDCCF  AIBJJEE        False        False       False   \n",
       "4    EHHGF  DGCFAGC  AEDBBDC        False        False       False   \n",
       "\n",
       "   Condition D Condition F Condition G  Condition H  Condition I Condition J  \n",
       "0        False       False        True         True        False      Before  \n",
       "1        False       False        True        False         True      Before  \n",
       "2        False       False       False        False        False         NaN  \n",
       "3         True       False       False         True        False      Before  \n",
       "4        False       False       False        False        False         NaN  "
      ]
     },
     "execution_count": 3,
     "metadata": {},
     "output_type": "execute_result"
    }
   ],
   "source": [
    "orders_df = pd.read_csv(\"Data/datacamp_workspace_export_2022-07-15 12_52_07.csv\")\n",
    "orders_df.head()"
   ]
  },
  {
   "cell_type": "code",
   "execution_count": 4,
   "id": "7b765111",
   "metadata": {},
   "outputs": [
    {
     "data": {
      "text/html": [
       "<div>\n",
       "<style scoped>\n",
       "    .dataframe tbody tr th:only-of-type {\n",
       "        vertical-align: middle;\n",
       "    }\n",
       "\n",
       "    .dataframe tbody tr th {\n",
       "        vertical-align: top;\n",
       "    }\n",
       "\n",
       "    .dataframe thead th {\n",
       "        text-align: right;\n",
       "    }\n",
       "</style>\n",
       "<table border=\"1\" class=\"dataframe\">\n",
       "  <thead>\n",
       "    <tr style=\"text-align: right;\">\n",
       "      <th></th>\n",
       "      <th>DoctorID</th>\n",
       "      <th>Complaint Type</th>\n",
       "      <th>Qty</th>\n",
       "    </tr>\n",
       "  </thead>\n",
       "  <tbody>\n",
       "    <tr>\n",
       "      <th>0</th>\n",
       "      <td>EHAHI</td>\n",
       "      <td>Correct</td>\n",
       "      <td>10</td>\n",
       "    </tr>\n",
       "    <tr>\n",
       "      <th>1</th>\n",
       "      <td>EHDGF</td>\n",
       "      <td>Correct</td>\n",
       "      <td>2</td>\n",
       "    </tr>\n",
       "    <tr>\n",
       "      <th>2</th>\n",
       "      <td>EHDGF</td>\n",
       "      <td>Unknown</td>\n",
       "      <td>3</td>\n",
       "    </tr>\n",
       "    <tr>\n",
       "      <th>3</th>\n",
       "      <td>EHDIJ</td>\n",
       "      <td>Correct</td>\n",
       "      <td>8</td>\n",
       "    </tr>\n",
       "    <tr>\n",
       "      <th>4</th>\n",
       "      <td>EHDIJ</td>\n",
       "      <td>Incorrect</td>\n",
       "      <td>2</td>\n",
       "    </tr>\n",
       "  </tbody>\n",
       "</table>\n",
       "</div>"
      ],
      "text/plain": [
       "  DoctorID Complaint Type  Qty\n",
       "0    EHAHI        Correct   10\n",
       "1    EHDGF        Correct    2\n",
       "2    EHDGF        Unknown    3\n",
       "3    EHDIJ        Correct    8\n",
       "4    EHDIJ      Incorrect    2"
      ]
     },
     "execution_count": 4,
     "metadata": {},
     "output_type": "execute_result"
    }
   ],
   "source": [
    "complaints_df = pd.read_csv(\"Data/datacamp_workspace_export_2022-07-15 12_52_14.csv\")\n",
    "\n",
    "complaints_df.head()"
   ]
  },
  {
   "cell_type": "code",
   "execution_count": 5,
   "id": "8a50b10f",
   "metadata": {},
   "outputs": [
    {
     "data": {
      "text/html": [
       "<div>\n",
       "<style scoped>\n",
       "    .dataframe tbody tr th:only-of-type {\n",
       "        vertical-align: middle;\n",
       "    }\n",
       "\n",
       "    .dataframe tbody tr th {\n",
       "        vertical-align: top;\n",
       "    }\n",
       "\n",
       "    .dataframe thead th {\n",
       "        text-align: right;\n",
       "    }\n",
       "</style>\n",
       "<table border=\"1\" class=\"dataframe\">\n",
       "  <thead>\n",
       "    <tr style=\"text-align: right;\">\n",
       "      <th></th>\n",
       "      <th>DoctorID</th>\n",
       "      <th>Instructions</th>\n",
       "    </tr>\n",
       "  </thead>\n",
       "  <tbody>\n",
       "    <tr>\n",
       "      <th>0</th>\n",
       "      <td>ADIFBD</td>\n",
       "      <td>Yes</td>\n",
       "    </tr>\n",
       "    <tr>\n",
       "      <th>1</th>\n",
       "      <td>ABHBED</td>\n",
       "      <td>No</td>\n",
       "    </tr>\n",
       "    <tr>\n",
       "      <th>2</th>\n",
       "      <td>FJFEG</td>\n",
       "      <td>Yes</td>\n",
       "    </tr>\n",
       "    <tr>\n",
       "      <th>3</th>\n",
       "      <td>AEBDAB</td>\n",
       "      <td>No</td>\n",
       "    </tr>\n",
       "    <tr>\n",
       "      <th>4</th>\n",
       "      <td>AJCBFE</td>\n",
       "      <td>Yes</td>\n",
       "    </tr>\n",
       "  </tbody>\n",
       "</table>\n",
       "</div>"
      ],
      "text/plain": [
       "  DoctorID Instructions\n",
       "0   ADIFBD          Yes\n",
       "1   ABHBED           No\n",
       "2    FJFEG          Yes\n",
       "3   AEBDAB           No\n",
       "4   AJCBFE          Yes"
      ]
     },
     "execution_count": 5,
     "metadata": {},
     "output_type": "execute_result"
    }
   ],
   "source": [
    "instructions_df = pd.read_csv(\"Data/datacamp_workspace_export_2022-07-15 12_52_21.csv\")\n",
    "instructions_df.head()"
   ]
  },
  {
   "cell_type": "markdown",
   "id": "955bffee",
   "metadata": {},
   "source": [
    "## Data Wrangling"
   ]
  },
  {
   "cell_type": "code",
   "execution_count": 6,
   "id": "e73a8dc1",
   "metadata": {},
   "outputs": [
    {
     "name": "stdout",
     "output_type": "stream",
     "text": [
      "<class 'pandas.core.frame.DataFrame'>\n",
      "RangeIndex: 437 entries, 0 to 436\n",
      "Data columns (total 9 columns):\n",
      " #   Column          Non-Null Count  Dtype  \n",
      "---  ------          --------------  -----  \n",
      " 0   DoctorID        437 non-null    object \n",
      " 1   Region          437 non-null    object \n",
      " 2   Category        437 non-null    object \n",
      " 3   Rank            435 non-null    object \n",
      " 4   Incidence rate  437 non-null    float64\n",
      " 5   R rate          437 non-null    float64\n",
      " 6   Satisfaction    437 non-null    object \n",
      " 7   Experience      437 non-null    float64\n",
      " 8   Purchases       437 non-null    int64  \n",
      "dtypes: float64(3), int64(1), object(5)\n",
      "memory usage: 30.9+ KB\n"
     ]
    }
   ],
   "source": [
    "doctors_df.info()"
   ]
  },
  {
   "cell_type": "code",
   "execution_count": 8,
   "id": "bb3be6e4",
   "metadata": {},
   "outputs": [
    {
     "data": {
      "text/html": [
       "<div>\n",
       "<style scoped>\n",
       "    .dataframe tbody tr th:only-of-type {\n",
       "        vertical-align: middle;\n",
       "    }\n",
       "\n",
       "    .dataframe tbody tr th {\n",
       "        vertical-align: top;\n",
       "    }\n",
       "\n",
       "    .dataframe thead th {\n",
       "        text-align: right;\n",
       "    }\n",
       "</style>\n",
       "<table border=\"1\" class=\"dataframe\">\n",
       "  <thead>\n",
       "    <tr style=\"text-align: right;\">\n",
       "      <th></th>\n",
       "      <th>DoctorID</th>\n",
       "      <th>Region</th>\n",
       "      <th>Category</th>\n",
       "      <th>Rank</th>\n",
       "      <th>Incidence rate</th>\n",
       "      <th>R rate</th>\n",
       "      <th>Satisfaction</th>\n",
       "      <th>Experience</th>\n",
       "      <th>Purchases</th>\n",
       "    </tr>\n",
       "  </thead>\n",
       "  <tbody>\n",
       "    <tr>\n",
       "      <th>110</th>\n",
       "      <td>BBAHCA</td>\n",
       "      <td>5 18</td>\n",
       "      <td>Specialist</td>\n",
       "      <td>NaN</td>\n",
       "      <td>6.0</td>\n",
       "      <td>3.14</td>\n",
       "      <td>--</td>\n",
       "      <td>1.43</td>\n",
       "      <td>7</td>\n",
       "    </tr>\n",
       "    <tr>\n",
       "      <th>217</th>\n",
       "      <td>AHABIB</td>\n",
       "      <td>5 18</td>\n",
       "      <td>General Practitioner</td>\n",
       "      <td>NaN</td>\n",
       "      <td>4.0</td>\n",
       "      <td>1.00</td>\n",
       "      <td>83.33</td>\n",
       "      <td>2.00</td>\n",
       "      <td>4</td>\n",
       "    </tr>\n",
       "  </tbody>\n",
       "</table>\n",
       "</div>"
      ],
      "text/plain": [
       "    DoctorID Region              Category Rank  Incidence rate  R rate  \\\n",
       "110   BBAHCA   5 18            Specialist  NaN             6.0    3.14   \n",
       "217   AHABIB   5 18  General Practitioner  NaN             4.0    1.00   \n",
       "\n",
       "    Satisfaction  Experience  Purchases  \n",
       "110           --        1.43          7  \n",
       "217        83.33        2.00          4  "
      ]
     },
     "execution_count": 8,
     "metadata": {},
     "output_type": "execute_result"
    }
   ],
   "source": [
    "doctors_df[doctors_df.Rank.isnull()]"
   ]
  },
  {
   "cell_type": "code",
   "execution_count": 14,
   "id": "2add776e",
   "metadata": {},
   "outputs": [
    {
     "data": {
      "text/plain": [
       "187"
      ]
     },
     "execution_count": 14,
     "metadata": {},
     "output_type": "execute_result"
    }
   ],
   "source": [
    "(doctors_df[\"Satisfaction\"]==\"--\").sum() #187 missing values of experiences"
   ]
  },
  {
   "cell_type": "code",
   "execution_count": 15,
   "id": "2d47a239",
   "metadata": {},
   "outputs": [
    {
     "data": {
      "text/plain": [
       "Index(['DoctorID', 'Region', 'Category', 'Rank', 'Incidence rate', 'R rate',\n",
       "       'Satisfaction', 'Experience', 'Purchases'],\n",
       "      dtype='object')"
      ]
     },
     "execution_count": 15,
     "metadata": {},
     "output_type": "execute_result"
    }
   ],
   "source": [
    "doctors_df.columns"
   ]
  },
  {
   "cell_type": "code",
   "execution_count": 17,
   "id": "484117a8",
   "metadata": {},
   "outputs": [
    {
     "data": {
      "text/plain": [
       "0"
      ]
     },
     "execution_count": 17,
     "metadata": {},
     "output_type": "execute_result"
    }
   ],
   "source": [
    "doctors_df.DoctorID.duplicated().sum() #No duplicate value"
   ]
  },
  {
   "cell_type": "code",
   "execution_count": 19,
   "id": "005a3c8a",
   "metadata": {},
   "outputs": [
    {
     "data": {
      "text/plain": [
       "array(['4 15', '1 8 T4', '1 9 T4', '1 10 T3', '1 14 T4', '1 10', '1 8 T3',\n",
       "       '1 11', '1 12', '2 7 19', '1 19 T4', '2 11', '1 19 T3', '1 14',\n",
       "       '1 12 T3', '1 13 T3', '1 19', '1 21 T3', '2 7 13', '1 14 T3',\n",
       "       '1 12 T4', '1 13', '2 6 13', '2 7 9', '1 8', '1 9', '2 6 9',\n",
       "       '2 7 12', '17', '1 9 T3', '2 6 8', '1 4CP', '5 18', '22 18',\n",
       "       '2 7 8', '2 6 10', '2 7 14', '1 21 T4', '2 7 10', '2 6 12',\n",
       "       '2 6 19', '3 16', '2 6 14', '23 3', '1 13 T4', '1 19 20'],\n",
       "      dtype=object)"
      ]
     },
     "execution_count": 19,
     "metadata": {},
     "output_type": "execute_result"
    }
   ],
   "source": [
    "doctors_df[\"Region\"].unique()"
   ]
  },
  {
   "cell_type": "code",
   "execution_count": 22,
   "id": "3474897a",
   "metadata": {},
   "outputs": [
    {
     "data": {
      "text/plain": [
       "array(['Specialist', 'General Practitioner'], dtype=object)"
      ]
     },
     "execution_count": 22,
     "metadata": {},
     "output_type": "execute_result"
    }
   ],
   "source": [
    "doctors_df[\"Category\"].unique()"
   ]
  },
  {
   "cell_type": "code",
   "execution_count": 23,
   "id": "acc94ff0",
   "metadata": {},
   "outputs": [
    {
     "data": {
      "text/plain": [
       "array(['Ambassador', 'Platinum Plus', 'Titanium', 'Silver Plus', 'Gold',\n",
       "       'Platinum', 'Gold Plus', 'Silver', nan, 'Titanium Plus'],\n",
       "      dtype=object)"
      ]
     },
     "execution_count": 23,
     "metadata": {},
     "output_type": "execute_result"
    }
   ],
   "source": [
    "doctors_df[\"Rank\"].unique()"
   ]
  },
  {
   "cell_type": "code",
   "execution_count": 25,
   "id": "570ab077",
   "metadata": {},
   "outputs": [
    {
     "data": {
      "text/html": [
       "<div>\n",
       "<style scoped>\n",
       "    .dataframe tbody tr th:only-of-type {\n",
       "        vertical-align: middle;\n",
       "    }\n",
       "\n",
       "    .dataframe tbody tr th {\n",
       "        vertical-align: top;\n",
       "    }\n",
       "\n",
       "    .dataframe thead th {\n",
       "        text-align: right;\n",
       "    }\n",
       "</style>\n",
       "<table border=\"1\" class=\"dataframe\">\n",
       "  <thead>\n",
       "    <tr style=\"text-align: right;\">\n",
       "      <th></th>\n",
       "      <th>Incidence rate</th>\n",
       "      <th>R rate</th>\n",
       "    </tr>\n",
       "  </thead>\n",
       "  <tbody>\n",
       "    <tr>\n",
       "      <th>count</th>\n",
       "      <td>437.000000</td>\n",
       "      <td>437.000000</td>\n",
       "    </tr>\n",
       "    <tr>\n",
       "      <th>mean</th>\n",
       "      <td>5.049748</td>\n",
       "      <td>1.098627</td>\n",
       "    </tr>\n",
       "    <tr>\n",
       "      <th>std</th>\n",
       "      <td>4.179639</td>\n",
       "      <td>0.731895</td>\n",
       "    </tr>\n",
       "    <tr>\n",
       "      <th>min</th>\n",
       "      <td>2.050000</td>\n",
       "      <td>0.000000</td>\n",
       "    </tr>\n",
       "    <tr>\n",
       "      <th>25%</th>\n",
       "      <td>3.000000</td>\n",
       "      <td>0.600000</td>\n",
       "    </tr>\n",
       "    <tr>\n",
       "      <th>50%</th>\n",
       "      <td>4.000000</td>\n",
       "      <td>1.000000</td>\n",
       "    </tr>\n",
       "    <tr>\n",
       "      <th>75%</th>\n",
       "      <td>6.000000</td>\n",
       "      <td>1.500000</td>\n",
       "    </tr>\n",
       "    <tr>\n",
       "      <th>max</th>\n",
       "      <td>49.000000</td>\n",
       "      <td>4.250000</td>\n",
       "    </tr>\n",
       "  </tbody>\n",
       "</table>\n",
       "</div>"
      ],
      "text/plain": [
       "       Incidence rate      R rate\n",
       "count      437.000000  437.000000\n",
       "mean         5.049748    1.098627\n",
       "std          4.179639    0.731895\n",
       "min          2.050000    0.000000\n",
       "25%          3.000000    0.600000\n",
       "50%          4.000000    1.000000\n",
       "75%          6.000000    1.500000\n",
       "max         49.000000    4.250000"
      ]
     },
     "execution_count": 25,
     "metadata": {},
     "output_type": "execute_result"
    }
   ],
   "source": [
    "doctors_df[[\"Incidence rate\", \"R rate\"]].describe()"
   ]
  },
  {
   "cell_type": "code",
   "execution_count": 30,
   "id": "5ee038db",
   "metadata": {},
   "outputs": [
    {
     "data": {
      "text/plain": [
       "5"
      ]
     },
     "execution_count": 30,
     "metadata": {},
     "output_type": "execute_result"
    }
   ],
   "source": [
    "(doctors_df[\"Incidence rate\"] > 20).sum()"
   ]
  },
  {
   "cell_type": "code",
   "execution_count": 33,
   "id": "1a9951b4",
   "metadata": {},
   "outputs": [
    {
     "data": {
      "text/plain": [
       "<AxesSubplot:>"
      ]
     },
     "execution_count": 33,
     "metadata": {},
     "output_type": "execute_result"
    },
    {
     "data": {
      "image/png": "[encoded data removed]",
      "text/plain": [
       "<Figure size 432x288 with 1 Axes>"
      ]
     },
     "metadata": {
      "needs_background": "light"
     },
     "output_type": "display_data"
    }
   ],
   "source": [
    "doctors_df[\"Incidence rate\"].plot(kind = \"box\", vert = False)"
   ]
  },
  {
   "cell_type": "code",
   "execution_count": 42,
   "id": "df6dc50a",
   "metadata": {},
   "outputs": [
    {
     "name": "stdout",
     "output_type": "stream",
     "text": [
      "0\n"
     ]
    },
    {
     "data": {
      "image/png": "[encoded data removed]",
      "text/plain": [
       "<Figure size 432x288 with 1 Axes>"
      ]
     },
     "metadata": {
      "needs_background": "light"
     },
     "output_type": "display_data"
    }
   ],
   "source": [
    "#Check experience column\n",
    "\n",
    "doctors_df[\"Experience\"].hist()\n",
    "\n",
    "print((doctors_df[\"Experience\"] < 0).sum())"
   ]
  },
  {
   "cell_type": "code",
   "execution_count": 47,
   "id": "5a96a042",
   "metadata": {},
   "outputs": [
    {
     "data": {
      "text/plain": [
       "count    437.000000\n",
       "mean       0.534027\n",
       "std        0.603494\n",
       "min        0.000000\n",
       "25%        0.140000\n",
       "50%        0.380000\n",
       "75%        0.750000\n",
       "max        5.420000\n",
       "Name: Experience, dtype: float64"
      ]
     },
     "execution_count": 47,
     "metadata": {},
     "output_type": "execute_result"
    }
   ],
   "source": [
    "doctors_df[\"Experience\"].describe()"
   ]
  },
  {
   "cell_type": "code",
   "execution_count": 35,
   "id": "9cd237ed",
   "metadata": {},
   "outputs": [
    {
     "data": {
      "text/plain": [
       "<AxesSubplot:>"
      ]
     },
     "execution_count": 35,
     "metadata": {},
     "output_type": "execute_result"
    },
    {
     "data": {
      "image/png": "[encoded data removed]",
      "text/plain": [
       "<Figure size 432x288 with 1 Axes>"
      ]
     },
     "metadata": {
      "needs_background": "light"
     },
     "output_type": "display_data"
    }
   ],
   "source": [
    "doctors_df[\"R rate\"].plot(kind = \"box\", vert = False)"
   ]
  },
  {
   "cell_type": "code",
   "execution_count": 36,
   "id": "49431d48",
   "metadata": {},
   "outputs": [
    {
     "data": {
      "image/png": "[encoded data removed]",
      "text/plain": [
       "<Figure size 432x288 with 1 Axes>"
      ]
     },
     "metadata": {
      "needs_background": "light"
     },
     "output_type": "display_data"
    }
   ],
   "source": [
    "plt.scatter(doctors_df[\"Incidence rate\"], doctors_df[\"R rate\"]);"
   ]
  },
  {
   "cell_type": "code",
   "execution_count": 39,
   "id": "5130cf11",
   "metadata": {},
   "outputs": [
    {
     "data": {
      "text/plain": [
       "-0.0422224826866023"
      ]
     },
     "execution_count": 39,
     "metadata": {},
     "output_type": "execute_result"
    }
   ],
   "source": [
    "doctors_df[\"Incidence rate\"].corr(doctors_df[\"R rate\"])"
   ]
  },
  {
   "cell_type": "code",
   "execution_count": 50,
   "id": "76ae2420",
   "metadata": {},
   "outputs": [
    {
     "data": {
      "text/plain": [
       "4    72\n",
       "3    56\n",
       "5    41\n",
       "7    32\n",
       "8    32\n",
       "Name: Purchases, dtype: int64"
      ]
     },
     "execution_count": 50,
     "metadata": {},
     "output_type": "execute_result"
    }
   ],
   "source": [
    "doctors_df[\"Purchases\"].value_counts().head()"
   ]
  },
  {
   "cell_type": "code",
   "execution_count": 51,
   "id": "6f37ef08",
   "metadata": {},
   "outputs": [
    {
     "data": {
      "text/plain": [
       "count    437.000000\n",
       "mean      10.791762\n",
       "std       11.429686\n",
       "min        3.000000\n",
       "25%        4.000000\n",
       "50%        7.000000\n",
       "75%       13.000000\n",
       "max      129.000000\n",
       "Name: Purchases, dtype: float64"
      ]
     },
     "execution_count": 51,
     "metadata": {},
     "output_type": "execute_result"
    }
   ],
   "source": [
    "doctors_df[\"Purchases\"].describe()"
   ]
  },
  {
   "cell_type": "code",
   "execution_count": 89,
   "id": "02d657f8",
   "metadata": {},
   "outputs": [
    {
     "data": {
      "text/html": [
       "<div>\n",
       "<style scoped>\n",
       "    .dataframe tbody tr th:only-of-type {\n",
       "        vertical-align: middle;\n",
       "    }\n",
       "\n",
       "    .dataframe tbody tr th {\n",
       "        vertical-align: top;\n",
       "    }\n",
       "\n",
       "    .dataframe thead th {\n",
       "        text-align: right;\n",
       "    }\n",
       "</style>\n",
       "<table border=\"1\" class=\"dataframe\">\n",
       "  <thead>\n",
       "    <tr style=\"text-align: right;\">\n",
       "      <th></th>\n",
       "      <th>DoctorID</th>\n",
       "      <th>OrderID</th>\n",
       "      <th>OrderNum</th>\n",
       "      <th>Condition A</th>\n",
       "      <th>Condition B</th>\n",
       "      <th>Condition C</th>\n",
       "      <th>Condition D</th>\n",
       "      <th>Condition F</th>\n",
       "      <th>Condition G</th>\n",
       "      <th>Condition H</th>\n",
       "      <th>Condition I</th>\n",
       "      <th>Condition J</th>\n",
       "    </tr>\n",
       "  </thead>\n",
       "  <tbody>\n",
       "    <tr>\n",
       "      <th>0</th>\n",
       "      <td>ABJEAI</td>\n",
       "      <td>DGEJFDC</td>\n",
       "      <td>AIBEHCJ</td>\n",
       "      <td>False</td>\n",
       "      <td>False</td>\n",
       "      <td>False</td>\n",
       "      <td>False</td>\n",
       "      <td>False</td>\n",
       "      <td>True</td>\n",
       "      <td>True</td>\n",
       "      <td>False</td>\n",
       "      <td>Before</td>\n",
       "    </tr>\n",
       "    <tr>\n",
       "      <th>1</th>\n",
       "      <td>HBIEA</td>\n",
       "      <td>DGAJDAH</td>\n",
       "      <td>AIJIHGB</td>\n",
       "      <td>False</td>\n",
       "      <td>True</td>\n",
       "      <td>NaN</td>\n",
       "      <td>False</td>\n",
       "      <td>False</td>\n",
       "      <td>True</td>\n",
       "      <td>False</td>\n",
       "      <td>True</td>\n",
       "      <td>Before</td>\n",
       "    </tr>\n",
       "  </tbody>\n",
       "</table>\n",
       "</div>"
      ],
      "text/plain": [
       "  DoctorID  OrderID OrderNum  Condition A  Condition B Condition C  \\\n",
       "0   ABJEAI  DGEJFDC  AIBEHCJ        False        False       False   \n",
       "1    HBIEA  DGAJDAH  AIJIHGB        False         True         NaN   \n",
       "\n",
       "   Condition D Condition F Condition G  Condition H  Condition I Condition J  \n",
       "0        False       False        True         True        False      Before  \n",
       "1        False       False        True        False         True      Before  "
      ]
     },
     "execution_count": 89,
     "metadata": {},
     "output_type": "execute_result"
    }
   ],
   "source": [
    "orders_df.head(2)"
   ]
  },
  {
   "cell_type": "code",
   "execution_count": 91,
   "id": "9bcdb7bd",
   "metadata": {},
   "outputs": [
    {
     "name": "stdout",
     "output_type": "stream",
     "text": [
      "<class 'pandas.core.frame.DataFrame'>\n",
      "RangeIndex: 257 entries, 0 to 256\n",
      "Data columns (total 12 columns):\n",
      " #   Column       Non-Null Count  Dtype \n",
      "---  ------       --------------  ----- \n",
      " 0   DoctorID     257 non-null    object\n",
      " 1   OrderID      257 non-null    object\n",
      " 2   OrderNum     257 non-null    object\n",
      " 3   Condition A  257 non-null    bool  \n",
      " 4   Condition B  257 non-null    bool  \n",
      " 5   Condition C  248 non-null    object\n",
      " 6   Condition D  257 non-null    bool  \n",
      " 7   Condition F  254 non-null    object\n",
      " 8   Condition G  254 non-null    object\n",
      " 9   Condition H  257 non-null    bool  \n",
      " 10  Condition I  257 non-null    bool  \n",
      " 11  Condition J  149 non-null    object\n",
      "dtypes: bool(5), object(7)\n",
      "memory usage: 15.4+ KB\n"
     ]
    }
   ],
   "source": [
    "orders_df.info()"
   ]
  },
  {
   "cell_type": "code",
   "execution_count": 90,
   "id": "f060b030",
   "metadata": {},
   "outputs": [
    {
     "data": {
      "text/plain": [
       "DoctorID         0\n",
       "OrderID          0\n",
       "OrderNum         0\n",
       "Condition A      0\n",
       "Condition B      0\n",
       "Condition C      9\n",
       "Condition D      0\n",
       "Condition F      3\n",
       "Condition G      3\n",
       "Condition H      0\n",
       "Condition I      0\n",
       "Condition J    108\n",
       "dtype: int64"
      ]
     },
     "execution_count": 90,
     "metadata": {},
     "output_type": "execute_result"
    }
   ],
   "source": [
    "orders_df.isnull().sum()"
   ]
  },
  {
   "cell_type": "code",
   "execution_count": 93,
   "id": "ce89f224",
   "metadata": {},
   "outputs": [
    {
     "data": {
      "text/plain": [
       "array([False, nan, True], dtype=object)"
      ]
     },
     "execution_count": 93,
     "metadata": {},
     "output_type": "execute_result"
    }
   ],
   "source": [
    "#Inspecting columns for condition c\n",
    "\n",
    "orders_df[\"Condition C\"].unique()"
   ]
  },
  {
   "cell_type": "code",
   "execution_count": 94,
   "id": "096d0bb3",
   "metadata": {},
   "outputs": [
    {
     "data": {
      "text/plain": [
       "array([False, nan, True], dtype=object)"
      ]
     },
     "execution_count": 94,
     "metadata": {},
     "output_type": "execute_result"
    }
   ],
   "source": [
    "orders_df[\"Condition F\"].unique()"
   ]
  },
  {
   "cell_type": "code",
   "execution_count": 95,
   "id": "b048a63b",
   "metadata": {},
   "outputs": [
    {
     "data": {
      "text/plain": [
       "array([True, False, nan], dtype=object)"
      ]
     },
     "execution_count": 95,
     "metadata": {},
     "output_type": "execute_result"
    }
   ],
   "source": [
    "orders_df[\"Condition G\"].unique()"
   ]
  },
  {
   "cell_type": "code",
   "execution_count": 96,
   "id": "d6aa5aaa",
   "metadata": {},
   "outputs": [
    {
     "data": {
      "text/plain": [
       "array(['Before', nan, 'After'], dtype=object)"
      ]
     },
     "execution_count": 96,
     "metadata": {},
     "output_type": "execute_result"
    }
   ],
   "source": [
    "orders_df[\"Condition J\"].unique()"
   ]
  },
  {
   "cell_type": "code",
   "execution_count": 101,
   "id": "c9aa49cc",
   "metadata": {},
   "outputs": [],
   "source": [
    "#Checking the complaints table"
   ]
  },
  {
   "cell_type": "code",
   "execution_count": 102,
   "id": "79debf55",
   "metadata": {},
   "outputs": [
    {
     "name": "stdout",
     "output_type": "stream",
     "text": [
      "<class 'pandas.core.frame.DataFrame'>\n",
      "RangeIndex: 435 entries, 0 to 434\n",
      "Data columns (total 3 columns):\n",
      " #   Column          Non-Null Count  Dtype \n",
      "---  ------          --------------  ----- \n",
      " 0   DoctorID        435 non-null    object\n",
      " 1   Complaint Type  433 non-null    object\n",
      " 2   Qty             435 non-null    int64 \n",
      "dtypes: int64(1), object(2)\n",
      "memory usage: 10.3+ KB\n"
     ]
    }
   ],
   "source": [
    "complaints_df.info()"
   ]
  },
  {
   "cell_type": "code",
   "execution_count": 105,
   "id": "782207f7",
   "metadata": {},
   "outputs": [
    {
     "data": {
      "text/plain": [
       "Correct      205\n",
       "Incorrect    118\n",
       "Unknown      103\n",
       "Specific       6\n",
       "R&R            1\n",
       "Name: Complaint Type, dtype: int64"
      ]
     },
     "execution_count": 105,
     "metadata": {},
     "output_type": "execute_result"
    }
   ],
   "source": [
    "complaints_df[\"Complaint Type\"].value_counts()"
   ]
  },
  {
   "cell_type": "code",
   "execution_count": 111,
   "id": "024fa386",
   "metadata": {},
   "outputs": [
    {
     "data": {
      "text/plain": [
       "284"
      ]
     },
     "execution_count": 111,
     "metadata": {},
     "output_type": "execute_result"
    }
   ],
   "source": [
    "complaints_df.DoctorID.nunique()"
   ]
  },
  {
   "cell_type": "code",
   "execution_count": 114,
   "id": "23b5e25b",
   "metadata": {},
   "outputs": [
    {
     "name": "stdout",
     "output_type": "stream",
     "text": [
      "<class 'pandas.core.frame.DataFrame'>\n",
      "RangeIndex: 77 entries, 0 to 76\n",
      "Data columns (total 2 columns):\n",
      " #   Column        Non-Null Count  Dtype \n",
      "---  ------        --------------  ----- \n",
      " 0   DoctorID      77 non-null     object\n",
      " 1   Instructions  77 non-null     object\n",
      "dtypes: object(2)\n",
      "memory usage: 1.3+ KB\n"
     ]
    }
   ],
   "source": [
    "#Instructions Df\n",
    "\n",
    "instructions_df.info()"
   ]
  },
  {
   "cell_type": "code",
   "execution_count": 115,
   "id": "ea703164",
   "metadata": {},
   "outputs": [
    {
     "data": {
      "text/plain": [
       "array(['Yes', 'No'], dtype=object)"
      ]
     },
     "execution_count": 115,
     "metadata": {},
     "output_type": "execute_result"
    }
   ],
   "source": [
    "instructions_df[\"Instructions\"].unique()"
   ]
  },
  {
   "cell_type": "markdown",
   "id": "99ed033f",
   "metadata": {},
   "source": [
    "### Assessments\n",
    "#### Doctors_df\n",
    "- Missing values in Rank\n",
    "- Satisfaction contains dashes as missing values and should be marked as float\n",
    "- Category type of Rank should be ordered\n",
    "- Outlier of Incidence Rate greater than 40\n",
    "- Outlier of R rate greater than 4\n",
    "\n",
    "#### Orders_df\n",
    "- Missing values in condition C\n",
    "- Missing values in Condition F\n",
    "- Missing values in Condition G\n",
    "- Missing values in Condition J\n",
    "\n",
    "#### Complaints df\n",
    "- Missing values in complaints type columns."
   ]
  },
  {
   "cell_type": "markdown",
   "id": "0084a45c",
   "metadata": {},
   "source": [
    "### Cleaning"
   ]
  },
  {
   "cell_type": "code",
   "execution_count": 61,
   "id": "acf8f782",
   "metadata": {},
   "outputs": [],
   "source": [
    "#create copy of dataframe for keep\n",
    "\n",
    "doctors_df_copy = doctors_df.copy()"
   ]
  },
  {
   "cell_type": "code",
   "execution_count": 52,
   "id": "13f0c313",
   "metadata": {},
   "outputs": [
    {
     "data": {
      "text/plain": [
       "Ambassador       115\n",
       "Platinum          77\n",
       "Titanium          69\n",
       "Platinum Plus     54\n",
       "Gold Plus         50\n",
       "Silver Plus       44\n",
       "Gold              22\n",
       "Silver             3\n",
       "Titanium Plus      1\n",
       "Name: Rank, dtype: int64"
      ]
     },
     "execution_count": 52,
     "metadata": {},
     "output_type": "execute_result"
    }
   ],
   "source": [
    "doctors_df[\"Rank\"].value_counts()"
   ]
  },
  {
   "cell_type": "code",
   "execution_count": 75,
   "id": "f43c45cf",
   "metadata": {
    "scrolled": true
   },
   "outputs": [
    {
     "data": {
      "text/plain": [
       "Rank\n",
       "Ambassador       16.0\n",
       "Titanium Plus    14.0\n",
       "Titanium         10.0\n",
       "Platinum Plus     8.0\n",
       "Silver            7.0\n",
       "Gold Plus         5.0\n",
       "Platinum          5.0\n",
       "Gold              4.0\n",
       "Silver Plus       4.0\n",
       "Name: Purchases, dtype: float64"
      ]
     },
     "execution_count": 75,
     "metadata": {},
     "output_type": "execute_result"
    }
   ],
   "source": [
    "doctors_df[\"Purchases\"].groupby(doctors_df[\"Rank\"]).quantile(0.5).sort_values(ascending = False)"
   ]
  },
  {
   "cell_type": "markdown",
   "id": "3a8cfbeb",
   "metadata": {},
   "source": [
    "From the above ordering we can spot that the number of purchases relates well with the Rank a person is, we will use this fill the missing values of the Rank column."
   ]
  },
  {
   "cell_type": "code",
   "execution_count": 62,
   "id": "2e7aeede",
   "metadata": {},
   "outputs": [
    {
     "data": {
      "text/html": [
       "<div>\n",
       "<style scoped>\n",
       "    .dataframe tbody tr th:only-of-type {\n",
       "        vertical-align: middle;\n",
       "    }\n",
       "\n",
       "    .dataframe tbody tr th {\n",
       "        vertical-align: top;\n",
       "    }\n",
       "\n",
       "    .dataframe thead th {\n",
       "        text-align: right;\n",
       "    }\n",
       "</style>\n",
       "<table border=\"1\" class=\"dataframe\">\n",
       "  <thead>\n",
       "    <tr style=\"text-align: right;\">\n",
       "      <th></th>\n",
       "      <th>DoctorID</th>\n",
       "      <th>Region</th>\n",
       "      <th>Category</th>\n",
       "      <th>Rank</th>\n",
       "      <th>Incidence rate</th>\n",
       "      <th>R rate</th>\n",
       "      <th>Satisfaction</th>\n",
       "      <th>Experience</th>\n",
       "      <th>Purchases</th>\n",
       "    </tr>\n",
       "  </thead>\n",
       "  <tbody>\n",
       "    <tr>\n",
       "      <th>110</th>\n",
       "      <td>BBAHCA</td>\n",
       "      <td>5 18</td>\n",
       "      <td>Specialist</td>\n",
       "      <td>NaN</td>\n",
       "      <td>6.0</td>\n",
       "      <td>3.14</td>\n",
       "      <td>--</td>\n",
       "      <td>1.43</td>\n",
       "      <td>7</td>\n",
       "    </tr>\n",
       "    <tr>\n",
       "      <th>217</th>\n",
       "      <td>AHABIB</td>\n",
       "      <td>5 18</td>\n",
       "      <td>General Practitioner</td>\n",
       "      <td>NaN</td>\n",
       "      <td>4.0</td>\n",
       "      <td>1.00</td>\n",
       "      <td>83.33</td>\n",
       "      <td>2.00</td>\n",
       "      <td>4</td>\n",
       "    </tr>\n",
       "  </tbody>\n",
       "</table>\n",
       "</div>"
      ],
      "text/plain": [
       "    DoctorID Region              Category Rank  Incidence rate  R rate  \\\n",
       "110   BBAHCA   5 18            Specialist  NaN             6.0    3.14   \n",
       "217   AHABIB   5 18  General Practitioner  NaN             4.0    1.00   \n",
       "\n",
       "    Satisfaction  Experience  Purchases  \n",
       "110           --        1.43          7  \n",
       "217        83.33        2.00          4  "
      ]
     },
     "execution_count": 62,
     "metadata": {},
     "output_type": "execute_result"
    }
   ],
   "source": [
    "doctors_df[doctors_df[\"Rank\"].isnull()]"
   ]
  },
  {
   "cell_type": "markdown",
   "id": "528ae5c6",
   "metadata": {},
   "source": [
    "#### Define\n",
    "\n",
    "- Fill missing values in index 110 with silver and fill with Silver and index 217 as Silver plus"
   ]
  },
  {
   "cell_type": "markdown",
   "id": "d6657160",
   "metadata": {},
   "source": [
    "#### Code"
   ]
  },
  {
   "cell_type": "code",
   "execution_count": 79,
   "id": "5e73654d",
   "metadata": {},
   "outputs": [],
   "source": [
    "doctors_df.loc[110, \"Rank\"] = \"Silver\"\n",
    "doctors_df.loc[217, \"Rank\"] = \"Silver Plus\""
   ]
  },
  {
   "cell_type": "markdown",
   "id": "8c48a130",
   "metadata": {},
   "source": [
    "#### Test"
   ]
  },
  {
   "cell_type": "code",
   "execution_count": 81,
   "id": "107c7e93",
   "metadata": {},
   "outputs": [
    {
     "data": {
      "text/html": [
       "<div>\n",
       "<style scoped>\n",
       "    .dataframe tbody tr th:only-of-type {\n",
       "        vertical-align: middle;\n",
       "    }\n",
       "\n",
       "    .dataframe tbody tr th {\n",
       "        vertical-align: top;\n",
       "    }\n",
       "\n",
       "    .dataframe thead th {\n",
       "        text-align: right;\n",
       "    }\n",
       "</style>\n",
       "<table border=\"1\" class=\"dataframe\">\n",
       "  <thead>\n",
       "    <tr style=\"text-align: right;\">\n",
       "      <th></th>\n",
       "      <th>DoctorID</th>\n",
       "      <th>Region</th>\n",
       "      <th>Category</th>\n",
       "      <th>Rank</th>\n",
       "      <th>Incidence rate</th>\n",
       "      <th>R rate</th>\n",
       "      <th>Satisfaction</th>\n",
       "      <th>Experience</th>\n",
       "      <th>Purchases</th>\n",
       "    </tr>\n",
       "  </thead>\n",
       "  <tbody>\n",
       "    <tr>\n",
       "      <th>110</th>\n",
       "      <td>BBAHCA</td>\n",
       "      <td>5 18</td>\n",
       "      <td>Specialist</td>\n",
       "      <td>Silver</td>\n",
       "      <td>6.0</td>\n",
       "      <td>3.14</td>\n",
       "      <td>--</td>\n",
       "      <td>1.43</td>\n",
       "      <td>7</td>\n",
       "    </tr>\n",
       "    <tr>\n",
       "      <th>217</th>\n",
       "      <td>AHABIB</td>\n",
       "      <td>5 18</td>\n",
       "      <td>General Practitioner</td>\n",
       "      <td>Silver Plus</td>\n",
       "      <td>4.0</td>\n",
       "      <td>1.00</td>\n",
       "      <td>83.33</td>\n",
       "      <td>2.00</td>\n",
       "      <td>4</td>\n",
       "    </tr>\n",
       "  </tbody>\n",
       "</table>\n",
       "</div>"
      ],
      "text/plain": [
       "    DoctorID Region              Category         Rank  Incidence rate  \\\n",
       "110   BBAHCA   5 18            Specialist       Silver             6.0   \n",
       "217   AHABIB   5 18  General Practitioner  Silver Plus             4.0   \n",
       "\n",
       "     R rate Satisfaction  Experience  Purchases  \n",
       "110    3.14           --        1.43          7  \n",
       "217    1.00        83.33        2.00          4  "
      ]
     },
     "execution_count": 81,
     "metadata": {},
     "output_type": "execute_result"
    }
   ],
   "source": [
    "doctors_df.loc[[110, 217], :]"
   ]
  },
  {
   "cell_type": "markdown",
   "id": "db3575b3",
   "metadata": {},
   "source": [
    "Satisfaction contains dashes as missing values and should be marked as float"
   ]
  },
  {
   "cell_type": "code",
   "execution_count": 85,
   "id": "7cd3f8e9",
   "metadata": {},
   "outputs": [
    {
     "data": {
      "text/plain": [
       "0.4279176201372998"
      ]
     },
     "execution_count": 85,
     "metadata": {},
     "output_type": "execute_result"
    }
   ],
   "source": [
    "(doctors_df[\"Satisfaction\"] == \"--\").sum()/len(doctors_df)"
   ]
  },
  {
   "cell_type": "markdown",
   "id": "5012b906",
   "metadata": {},
   "source": [
    "#### Define\n",
    "\n",
    "> With up to 43% of the values in the columns missing, it would be preferred that the satisfaction column be dropped."
   ]
  },
  {
   "cell_type": "markdown",
   "id": "7593c380",
   "metadata": {},
   "source": [
    "#### Code"
   ]
  },
  {
   "cell_type": "code",
   "execution_count": 87,
   "id": "d5ae9a0e",
   "metadata": {},
   "outputs": [],
   "source": [
    "doctors_df.drop(columns = \"Satisfaction\", inplace = True)"
   ]
  },
  {
   "cell_type": "markdown",
   "id": "5c6b19d5",
   "metadata": {},
   "source": [
    "#### Test"
   ]
  },
  {
   "cell_type": "code",
   "execution_count": 88,
   "id": "ce441257",
   "metadata": {},
   "outputs": [
    {
     "data": {
      "text/plain": [
       "False"
      ]
     },
     "execution_count": 88,
     "metadata": {},
     "output_type": "execute_result"
    }
   ],
   "source": [
    "\"Satisfaction\" in doctors_df.columns"
   ]
  },
  {
   "cell_type": "markdown",
   "id": "0a6c8f89",
   "metadata": {},
   "source": [
    "##### Category type of Rank should be ordered"
   ]
  },
  {
   "cell_type": "code",
   "execution_count": 141,
   "id": "2f8cac51",
   "metadata": {},
   "outputs": [
    {
     "data": {
      "text/plain": [
       "array(['Ambassador', 'Platinum Plus', 'Titanium', 'Silver Plus', 'Gold',\n",
       "       'Platinum', 'Gold Plus', 'Silver', 'Titanium Plus'], dtype=object)"
      ]
     },
     "execution_count": 141,
     "metadata": {},
     "output_type": "execute_result"
    }
   ],
   "source": [
    "doctors_df[\"Rank\"].unique()\n",
    "\n",
    "#Ambassadors, followed by Titanium Plus, \n",
    "#Titanium, Platinum Plus, Platinum, Gold Plus, Gold, Silver Plus, and the lowest level is Silver."
   ]
  },
  {
   "cell_type": "code",
   "execution_count": 149,
   "id": "d033ac0e",
   "metadata": {},
   "outputs": [
    {
     "data": {
      "text/plain": [
       "437"
      ]
     },
     "execution_count": 149,
     "metadata": {},
     "output_type": "execute_result"
    }
   ],
   "source": [
    "len(doctors_df[\"Rank\"])"
   ]
  },
  {
   "cell_type": "code",
   "execution_count": 153,
   "id": "9008fe16",
   "metadata": {},
   "outputs": [],
   "source": [
    "ordered_list = [\"Silver\", \"Silver Plus\", \"Gold\", \"Gold Plus\", \n",
    "                \"Platinum\", \"Platinum Plus\", \"Titanium\",\n",
    "               \"Titanium Plus\", \"Ambassador\"]\n",
    "\n",
    "rank_type = pd.CategoricalDtype(ordered_list, ordered = True)\n",
    "rank_type\n",
    "\n",
    "doctors_df[\"Rank\"] = doctors_df[\"Rank\"].astype(rank_type)"
   ]
  },
  {
   "cell_type": "code",
   "execution_count": 154,
   "id": "2bd2da60",
   "metadata": {},
   "outputs": [
    {
     "data": {
      "text/plain": [
       "['Ambassador', 'Platinum Plus', 'Titanium', 'Silver Plus', 'Gold', 'Platinum', 'Gold Plus', 'Silver', 'Titanium Plus']\n",
       "Categories (9, object): ['Silver' < 'Silver Plus' < 'Gold' < 'Gold Plus' ... 'Platinum Plus' < 'Titanium' < 'Titanium Plus' < 'Ambassador']"
      ]
     },
     "execution_count": 154,
     "metadata": {},
     "output_type": "execute_result"
    }
   ],
   "source": [
    "doctors_df[\"Rank\"].unique()"
   ]
  },
  {
   "cell_type": "markdown",
   "id": "e6cddbe5",
   "metadata": {},
   "source": [
    "### Orders_df cleaning"
   ]
  },
  {
   "cell_type": "markdown",
   "id": "c0ce227a",
   "metadata": {},
   "source": [
    "#### Define\n",
    "- Orders df - condition C, F, G, missing values to be droppedCondition Ce\n",
    "- Condition j column to dropped"
   ]
  },
  {
   "cell_type": "markdown",
   "id": "3e8865f7",
   "metadata": {},
   "source": [
    "#### Code"
   ]
  },
  {
   "cell_type": "code",
   "execution_count": 117,
   "id": "9d99cd9b",
   "metadata": {},
   "outputs": [
    {
     "data": {
      "text/plain": [
       "(257, 12)"
      ]
     },
     "execution_count": 117,
     "metadata": {},
     "output_type": "execute_result"
    }
   ],
   "source": [
    "orders_df.shape"
   ]
  },
  {
   "cell_type": "code",
   "execution_count": 118,
   "id": "9ecc8be5",
   "metadata": {},
   "outputs": [],
   "source": [
    "col_drop = [\"Condition C\", \"Condition F\", \"Condition G\"]\n",
    "\n",
    "for col in col_drop:\n",
    "    orders_df = orders_df[~orders_df[col].isnull()]"
   ]
  },
  {
   "cell_type": "code",
   "execution_count": 121,
   "id": "3900f6e8",
   "metadata": {},
   "outputs": [],
   "source": [
    "orders_df.drop(columns = \"Condition J\", inplace = True)"
   ]
  },
  {
   "cell_type": "code",
   "execution_count": 123,
   "id": "adf5d2a3",
   "metadata": {},
   "outputs": [],
   "source": [
    "for col in col_drop:\n",
    "    orders_df[col] = orders_df[col].astype(bool)"
   ]
  },
  {
   "cell_type": "markdown",
   "id": "ab845a86",
   "metadata": {},
   "source": [
    "#### Test"
   ]
  },
  {
   "cell_type": "code",
   "execution_count": 122,
   "id": "f5fe05ce",
   "metadata": {},
   "outputs": [
    {
     "data": {
      "text/plain": [
       "(248, 11)"
      ]
     },
     "execution_count": 122,
     "metadata": {},
     "output_type": "execute_result"
    }
   ],
   "source": [
    "orders_df.shape"
   ]
  },
  {
   "cell_type": "code",
   "execution_count": 124,
   "id": "6576122f",
   "metadata": {},
   "outputs": [
    {
     "name": "stdout",
     "output_type": "stream",
     "text": [
      "<class 'pandas.core.frame.DataFrame'>\n",
      "Int64Index: 248 entries, 0 to 256\n",
      "Data columns (total 11 columns):\n",
      " #   Column       Non-Null Count  Dtype \n",
      "---  ------       --------------  ----- \n",
      " 0   DoctorID     248 non-null    object\n",
      " 1   OrderID      248 non-null    object\n",
      " 2   OrderNum     248 non-null    object\n",
      " 3   Condition A  248 non-null    bool  \n",
      " 4   Condition B  248 non-null    bool  \n",
      " 5   Condition C  248 non-null    bool  \n",
      " 6   Condition D  248 non-null    bool  \n",
      " 7   Condition F  248 non-null    bool  \n",
      " 8   Condition G  248 non-null    bool  \n",
      " 9   Condition H  248 non-null    bool  \n",
      " 10  Condition I  248 non-null    bool  \n",
      "dtypes: bool(8), object(3)\n",
      "memory usage: 9.7+ KB\n"
     ]
    }
   ],
   "source": [
    "orders_df.info()"
   ]
  },
  {
   "cell_type": "markdown",
   "id": "891b9ace",
   "metadata": {},
   "source": [
    "#### Define\n",
    "\n",
    "- Rename missing values in the Compaints Type column in complaints_df to Unknown"
   ]
  },
  {
   "cell_type": "markdown",
   "id": "152b6a67",
   "metadata": {},
   "source": [
    "#### Code"
   ]
  },
  {
   "cell_type": "code",
   "execution_count": 128,
   "id": "922f650d",
   "metadata": {},
   "outputs": [],
   "source": [
    "complaints_df[\"Complaint Type\"].replace({np.nan: \"Unknown\"}, inplace=True)"
   ]
  },
  {
   "cell_type": "markdown",
   "id": "c1551229",
   "metadata": {},
   "source": [
    "#### Test"
   ]
  },
  {
   "cell_type": "code",
   "execution_count": 129,
   "id": "db4149f3",
   "metadata": {},
   "outputs": [
    {
     "data": {
      "text/plain": [
       "array(['Correct', 'Unknown', 'Incorrect', 'Specific', 'R&R'], dtype=object)"
      ]
     },
     "execution_count": 129,
     "metadata": {},
     "output_type": "execute_result"
    }
   ],
   "source": [
    "complaints_df[\"Complaint Type\"].unique()"
   ]
  },
  {
   "cell_type": "markdown",
   "id": "65b4bd42",
   "metadata": {},
   "source": [
    "### Exploratory Data Analysis"
   ]
  },
  {
   "cell_type": "code",
   "execution_count": 137,
   "id": "df6590d6",
   "metadata": {},
   "outputs": [
    {
     "data": {
      "text/html": [
       "<div>\n",
       "<style scoped>\n",
       "    .dataframe tbody tr th:only-of-type {\n",
       "        vertical-align: middle;\n",
       "    }\n",
       "\n",
       "    .dataframe tbody tr th {\n",
       "        vertical-align: top;\n",
       "    }\n",
       "\n",
       "    .dataframe thead th {\n",
       "        text-align: right;\n",
       "    }\n",
       "</style>\n",
       "<table border=\"1\" class=\"dataframe\">\n",
       "  <thead>\n",
       "    <tr style=\"text-align: right;\">\n",
       "      <th></th>\n",
       "      <th>DoctorID</th>\n",
       "      <th>Region</th>\n",
       "      <th>Category</th>\n",
       "      <th>Rank</th>\n",
       "      <th>Incidence rate</th>\n",
       "      <th>R rate</th>\n",
       "      <th>Experience</th>\n",
       "      <th>Purchases</th>\n",
       "    </tr>\n",
       "  </thead>\n",
       "  <tbody>\n",
       "    <tr>\n",
       "      <th>0</th>\n",
       "      <td>AHDCBA</td>\n",
       "      <td>4 15</td>\n",
       "      <td>Specialist</td>\n",
       "      <td>Ambassador</td>\n",
       "      <td>49.0</td>\n",
       "      <td>0.9</td>\n",
       "      <td>1.2</td>\n",
       "      <td>49</td>\n",
       "    </tr>\n",
       "  </tbody>\n",
       "</table>\n",
       "</div>"
      ],
      "text/plain": [
       "  DoctorID Region    Category        Rank  Incidence rate  R rate  Experience  \\\n",
       "0   AHDCBA   4 15  Specialist  Ambassador            49.0     0.9         1.2   \n",
       "\n",
       "   Purchases  \n",
       "0         49  "
      ]
     },
     "execution_count": 137,
     "metadata": {},
     "output_type": "execute_result"
    }
   ],
   "source": [
    "doctors_df.head(1)"
   ]
  },
  {
   "cell_type": "code",
   "execution_count": 133,
   "id": "037513f7",
   "metadata": {},
   "outputs": [
    {
     "data": {
      "text/html": [
       "<div>\n",
       "<style scoped>\n",
       "    .dataframe tbody tr th:only-of-type {\n",
       "        vertical-align: middle;\n",
       "    }\n",
       "\n",
       "    .dataframe tbody tr th {\n",
       "        vertical-align: top;\n",
       "    }\n",
       "\n",
       "    .dataframe thead th {\n",
       "        text-align: right;\n",
       "    }\n",
       "</style>\n",
       "<table border=\"1\" class=\"dataframe\">\n",
       "  <thead>\n",
       "    <tr style=\"text-align: right;\">\n",
       "      <th></th>\n",
       "      <th>DoctorID</th>\n",
       "      <th>Region</th>\n",
       "      <th>Category</th>\n",
       "      <th>Rank</th>\n",
       "    </tr>\n",
       "  </thead>\n",
       "  <tbody>\n",
       "    <tr>\n",
       "      <th>count</th>\n",
       "      <td>437</td>\n",
       "      <td>437</td>\n",
       "      <td>437</td>\n",
       "      <td>437</td>\n",
       "    </tr>\n",
       "    <tr>\n",
       "      <th>unique</th>\n",
       "      <td>437</td>\n",
       "      <td>46</td>\n",
       "      <td>2</td>\n",
       "      <td>9</td>\n",
       "    </tr>\n",
       "    <tr>\n",
       "      <th>top</th>\n",
       "      <td>AHDCBA</td>\n",
       "      <td>1 13</td>\n",
       "      <td>Specialist</td>\n",
       "      <td>Ambassador</td>\n",
       "    </tr>\n",
       "    <tr>\n",
       "      <th>freq</th>\n",
       "      <td>1</td>\n",
       "      <td>34</td>\n",
       "      <td>367</td>\n",
       "      <td>115</td>\n",
       "    </tr>\n",
       "  </tbody>\n",
       "</table>\n",
       "</div>"
      ],
      "text/plain": [
       "       DoctorID Region    Category        Rank\n",
       "count       437    437         437         437\n",
       "unique      437     46           2           9\n",
       "top      AHDCBA   1 13  Specialist  Ambassador\n",
       "freq          1     34         367         115"
      ]
     },
     "execution_count": 133,
     "metadata": {},
     "output_type": "execute_result"
    }
   ],
   "source": [
    "doctors_df.describe(include = \"object\")"
   ]
  },
  {
   "cell_type": "code",
   "execution_count": 134,
   "id": "025dee7d",
   "metadata": {},
   "outputs": [
    {
     "data": {
      "text/html": [
       "<div>\n",
       "<style scoped>\n",
       "    .dataframe tbody tr th:only-of-type {\n",
       "        vertical-align: middle;\n",
       "    }\n",
       "\n",
       "    .dataframe tbody tr th {\n",
       "        vertical-align: top;\n",
       "    }\n",
       "\n",
       "    .dataframe thead th {\n",
       "        text-align: right;\n",
       "    }\n",
       "</style>\n",
       "<table border=\"1\" class=\"dataframe\">\n",
       "  <thead>\n",
       "    <tr style=\"text-align: right;\">\n",
       "      <th></th>\n",
       "      <th>DoctorID</th>\n",
       "      <th>OrderID</th>\n",
       "      <th>OrderNum</th>\n",
       "      <th>Condition A</th>\n",
       "      <th>Condition B</th>\n",
       "      <th>Condition C</th>\n",
       "      <th>Condition D</th>\n",
       "      <th>Condition F</th>\n",
       "      <th>Condition G</th>\n",
       "      <th>Condition H</th>\n",
       "      <th>Condition I</th>\n",
       "    </tr>\n",
       "  </thead>\n",
       "  <tbody>\n",
       "    <tr>\n",
       "      <th>0</th>\n",
       "      <td>ABJEAI</td>\n",
       "      <td>DGEJFDC</td>\n",
       "      <td>AIBEHCJ</td>\n",
       "      <td>False</td>\n",
       "      <td>False</td>\n",
       "      <td>False</td>\n",
       "      <td>False</td>\n",
       "      <td>False</td>\n",
       "      <td>True</td>\n",
       "      <td>True</td>\n",
       "      <td>False</td>\n",
       "    </tr>\n",
       "  </tbody>\n",
       "</table>\n",
       "</div>"
      ],
      "text/plain": [
       "  DoctorID  OrderID OrderNum  Condition A  Condition B  Condition C  \\\n",
       "0   ABJEAI  DGEJFDC  AIBEHCJ        False        False        False   \n",
       "\n",
       "   Condition D  Condition F  Condition G  Condition H  Condition I  \n",
       "0        False        False         True         True        False  "
      ]
     },
     "execution_count": 134,
     "metadata": {},
     "output_type": "execute_result"
    }
   ],
   "source": [
    "orders_df.head(1)"
   ]
  },
  {
   "cell_type": "code",
   "execution_count": 135,
   "id": "1f2c8f5e",
   "metadata": {},
   "outputs": [
    {
     "data": {
      "text/html": [
       "<div>\n",
       "<style scoped>\n",
       "    .dataframe tbody tr th:only-of-type {\n",
       "        vertical-align: middle;\n",
       "    }\n",
       "\n",
       "    .dataframe tbody tr th {\n",
       "        vertical-align: top;\n",
       "    }\n",
       "\n",
       "    .dataframe thead th {\n",
       "        text-align: right;\n",
       "    }\n",
       "</style>\n",
       "<table border=\"1\" class=\"dataframe\">\n",
       "  <thead>\n",
       "    <tr style=\"text-align: right;\">\n",
       "      <th></th>\n",
       "      <th>DoctorID</th>\n",
       "      <th>Complaint Type</th>\n",
       "      <th>Qty</th>\n",
       "    </tr>\n",
       "  </thead>\n",
       "  <tbody>\n",
       "    <tr>\n",
       "      <th>0</th>\n",
       "      <td>EHAHI</td>\n",
       "      <td>Correct</td>\n",
       "      <td>10</td>\n",
       "    </tr>\n",
       "  </tbody>\n",
       "</table>\n",
       "</div>"
      ],
      "text/plain": [
       "  DoctorID Complaint Type  Qty\n",
       "0    EHAHI        Correct   10"
      ]
     },
     "execution_count": 135,
     "metadata": {},
     "output_type": "execute_result"
    }
   ],
   "source": [
    "complaints_df.head(1)"
   ]
  },
  {
   "cell_type": "code",
   "execution_count": 136,
   "id": "8b47a642",
   "metadata": {},
   "outputs": [
    {
     "data": {
      "text/html": [
       "<div>\n",
       "<style scoped>\n",
       "    .dataframe tbody tr th:only-of-type {\n",
       "        vertical-align: middle;\n",
       "    }\n",
       "\n",
       "    .dataframe tbody tr th {\n",
       "        vertical-align: top;\n",
       "    }\n",
       "\n",
       "    .dataframe thead th {\n",
       "        text-align: right;\n",
       "    }\n",
       "</style>\n",
       "<table border=\"1\" class=\"dataframe\">\n",
       "  <thead>\n",
       "    <tr style=\"text-align: right;\">\n",
       "      <th></th>\n",
       "      <th>DoctorID</th>\n",
       "      <th>Instructions</th>\n",
       "    </tr>\n",
       "  </thead>\n",
       "  <tbody>\n",
       "    <tr>\n",
       "      <th>0</th>\n",
       "      <td>ADIFBD</td>\n",
       "      <td>Yes</td>\n",
       "    </tr>\n",
       "  </tbody>\n",
       "</table>\n",
       "</div>"
      ],
      "text/plain": [
       "  DoctorID Instructions\n",
       "0   ADIFBD          Yes"
      ]
     },
     "execution_count": 136,
     "metadata": {},
     "output_type": "execute_result"
    }
   ],
   "source": [
    "instructions_df.head(1)"
   ]
  },
  {
   "cell_type": "markdown",
   "id": "34e85c8b",
   "metadata": {},
   "source": [
    "### Questions\n",
    "\n",
    "- How many doctors are there in each region? What is the average number of purchases per region?\n",
    "- Can you find a relationship between purchases and complaints?\n",
    "- Define new doctor segments that help the company improve marketing efforts and customer service.\n",
    "- Identify which features impact the new segmentation strategy the most.\n",
    "- Your team will need to explain the new segments to the rest of the company. \n",
    "- Describe which characteristics distinguish the newly defined segments."
   ]
  },
  {
   "cell_type": "markdown",
   "id": "078ac4ea",
   "metadata": {},
   "source": [
    "#### How many doctors are there in each region? What is the average number of purchases per region?"
   ]
  },
  {
   "cell_type": "code",
   "execution_count": 199,
   "id": "3073424a",
   "metadata": {},
   "outputs": [],
   "source": [
    "#Let us seperate the dataframe between the Specialist and General types of doctors, if there is difference\n",
    "\n",
    "specialist_df = doctors_df[doctors_df[\"Category\"] == \"Specialist\"]\n",
    "general_df = doctors_df[doctors_df[\"Category\"] == \"General Practitioner\"]"
   ]
  },
  {
   "cell_type": "code",
   "execution_count": 211,
   "id": "2fa71bc8",
   "metadata": {},
   "outputs": [
    {
     "data": {
      "image/png": "[encoded data removed]",
      "text/plain": [
       "<Figure size 864x504 with 1 Axes>"
      ]
     },
     "metadata": {
      "needs_background": "light"
     },
     "output_type": "display_data"
    }
   ],
   "source": [
    "#Check the distribution of purchase of the different category\n",
    "bins = np.arange(0, 125, 5)\n",
    "doctors_df[\"Purchases\"].hist(bins = bins, figsize=[12,7])\n",
    "plt.xlim(-0.5, 60.5)\n",
    "plt.xticks(bins, bins);"
   ]
  },
  {
   "cell_type": "markdown",
   "id": "567622cf",
   "metadata": {},
   "source": [
    "**Observation**\n",
    "\n",
    "- From this histogram plot we see that most of the purchases are between 0 to 30, with a mode purchase between 5 and 10."
   ]
  },
  {
   "cell_type": "markdown",
   "id": "301e721b",
   "metadata": {},
   "source": [
    "#### What is the distribution of Categories in the data"
   ]
  },
  {
   "cell_type": "code",
   "execution_count": 221,
   "id": "cb5c21b1",
   "metadata": {},
   "outputs": [
    {
     "data": {
      "image/png": "[encoded data removed]",
      "text/plain": [
       "<Figure size 432x288 with 1 Axes>"
      ]
     },
     "metadata": {
      "needs_background": "light"
     },
     "output_type": "display_data"
    }
   ],
   "source": [
    "sns.countplot(data=doctors_df, \n",
    "             x = \"Category\", color=\"b\");"
   ]
  },
  {
   "cell_type": "code",
   "execution_count": 232,
   "id": "1df01a72",
   "metadata": {},
   "outputs": [
    {
     "data": {
      "image/png": "[encoded data removed]",
      "text/plain": [
       "<Figure size 432x288 with 1 Axes>"
      ]
     },
     "metadata": {
      "needs_background": "light"
     },
     "output_type": "display_data"
    }
   ],
   "source": [
    "doctors_df[\"Category\"].value_counts(normalize = True).plot(kind = \"bar\", color = \"b\")\n",
    "plt.xticks(rotation = 0)\n",
    "plt.grid(axis = \"y\", alpha = 0.3);"
   ]
  },
  {
   "cell_type": "markdown",
   "id": "eb0e6cfd",
   "metadata": {},
   "source": [
    "**Observation:**\n",
    "\n",
    "- There are definitely more Specialist than General Practictioners. With about more than 80% being specialist."
   ]
  },
  {
   "cell_type": "code",
   "execution_count": 156,
   "id": "fb1f900b",
   "metadata": {},
   "outputs": [
    {
     "data": {
      "text/plain": [
       "Index(['DoctorID', 'Region', 'Category', 'Rank', 'Incidence rate', 'R rate',\n",
       "       'Experience', 'Purchases'],\n",
       "      dtype='object')"
      ]
     },
     "execution_count": 156,
     "metadata": {},
     "output_type": "execute_result"
    }
   ],
   "source": [
    "doctors_df.columns"
   ]
  },
  {
   "cell_type": "code",
   "execution_count": 180,
   "id": "a8ad06b3",
   "metadata": {},
   "outputs": [],
   "source": [
    "#Using the groupby to group doctor counts and the average purchase by region\n",
    "\n",
    "region_gb = (doctors_df.groupby(\"Region\")[\"Purchases\"].aggregate([\"mean\", \"count\"])\n",
    " .rename(columns = {\"mean\": \"Average Purchase\", \"count\": \"Number of doctors\"}))"
   ]
  },
  {
   "cell_type": "code",
   "execution_count": 233,
   "id": "d29560dd",
   "metadata": {},
   "outputs": [
    {
     "data": {
      "image/png": "[encoded data removed]",
      "text/plain": [
       "<Figure size 432x288 with 1 Axes>"
      ]
     },
     "metadata": {
      "needs_background": "light"
     },
     "output_type": "display_data"
    }
   ],
   "source": [
    "region_gb.sort_values(\"Number of doctors\", ascending = True).tail(15).plot(kind = \"bar\")\n",
    "plt.ylabel(\"Frequency\");"
   ]
  },
  {
   "cell_type": "code",
   "execution_count": 234,
   "id": "6c04e563",
   "metadata": {},
   "outputs": [
    {
     "data": {
      "image/png": "[encoded data removed]",
      "text/plain": [
       "<Figure size 432x288 with 1 Axes>"
      ]
     },
     "metadata": {
      "needs_background": "light"
     },
     "output_type": "display_data"
    }
   ],
   "source": [
    "region_gb.sort_values(\"Average Purchase\", ascending = True).tail(15).plot(kind = \"bar\")\n",
    "plt.xlim(-0.5, 13.5)\n",
    "plt.ylim(0, 40)\n",
    "plt.ylabel(\"Frequency\");"
   ]
  },
  {
   "cell_type": "markdown",
   "id": "0b862d7f",
   "metadata": {},
   "source": [
    "**Observation:**\n",
    "- From the plots above, although we expected that as the number of doctors increased, the average number of devices ordered would increase, but these plots do not appear a pattern of such."
   ]
  },
  {
   "cell_type": "markdown",
   "id": "6eede7d9",
   "metadata": {},
   "source": [
    "#### The realtionship between purchases of specialist and doctors"
   ]
  },
  {
   "cell_type": "code",
   "execution_count": 253,
   "id": "5ac17ea4",
   "metadata": {},
   "outputs": [
    {
     "data": {
      "image/png": "[encoded data removed]",
      "text/plain": [
       "<Figure size 1152x576 with 2 Axes>"
      ]
     },
     "metadata": {
      "image/png": {
       "height": 479,
       "width": 946
      },
      "needs_background": "light"
     },
     "output_type": "display_data"
    }
   ],
   "source": [
    "plt.figure(figsize = [16, 8])\n",
    "\n",
    "plt.subplot(1, 2, 1)\n",
    "sns.boxplot(x = doctors_df[\"Category\"],\n",
    "           y = doctors_df[\"Purchases\"],\n",
    "           color=\"white\")\n",
    "\n",
    "plt.subplot(1, 2, 2)\n",
    "sns.violinplot(x = doctors_df[\"Category\"],\n",
    "           y = doctors_df[\"Purchases\"], \n",
    "              color = \"white\", inner = \"quartile\")\n",
    "plt.grid(axis = \"y\");"
   ]
  },
  {
   "cell_type": "code",
   "execution_count": 255,
   "id": "dd95d897",
   "metadata": {},
   "outputs": [
    {
     "name": "stdout",
     "output_type": "stream",
     "text": [
      "8.0\n",
      "4.0\n"
     ]
    }
   ],
   "source": [
    "print(specialist_df[\"Purchases\"].median())\n",
    "print(general_df[\"Purchases\"].median())"
   ]
  },
  {
   "cell_type": "markdown",
   "id": "67ff094a",
   "metadata": {},
   "source": [
    "**Observation**\n",
    "\n",
    "- From the above, we see that there is a slight difference between the purchases made by Specialist and General Practicitioner.\n",
    "- With a median of 4.0 for general practitioners and 8.0 for specialist.\n",
    "- Also we see that most/mode purchases of general practictioners are so close to their median as 4.0 also\n",
    "- But we see that specialist have a median higher than their mode and higher than 4.0 with a greater spread than general practictioners which we expect given the number of specialist that we have in the dataset when compared with the general practictioners."
   ]
  },
  {
   "cell_type": "markdown",
   "id": "aa498879",
   "metadata": {},
   "source": [
    "#### Relationship between Complaints and Number of purchases"
   ]
  },
  {
   "cell_type": "code",
   "execution_count": 257,
   "id": "223b656d",
   "metadata": {},
   "outputs": [
    {
     "data": {
      "text/html": [
       "<div>\n",
       "<style scoped>\n",
       "    .dataframe tbody tr th:only-of-type {\n",
       "        vertical-align: middle;\n",
       "    }\n",
       "\n",
       "    .dataframe tbody tr th {\n",
       "        vertical-align: top;\n",
       "    }\n",
       "\n",
       "    .dataframe thead th {\n",
       "        text-align: right;\n",
       "    }\n",
       "</style>\n",
       "<table border=\"1\" class=\"dataframe\">\n",
       "  <thead>\n",
       "    <tr style=\"text-align: right;\">\n",
       "      <th></th>\n",
       "      <th>DoctorID</th>\n",
       "      <th>Complaint Type</th>\n",
       "      <th>Qty</th>\n",
       "    </tr>\n",
       "  </thead>\n",
       "  <tbody>\n",
       "    <tr>\n",
       "      <th>0</th>\n",
       "      <td>EHAHI</td>\n",
       "      <td>Correct</td>\n",
       "      <td>10</td>\n",
       "    </tr>\n",
       "  </tbody>\n",
       "</table>\n",
       "</div>"
      ],
      "text/plain": [
       "  DoctorID Complaint Type  Qty\n",
       "0    EHAHI        Correct   10"
      ]
     },
     "execution_count": 257,
     "metadata": {},
     "output_type": "execute_result"
    }
   ],
   "source": [
    "complaints_df.head(1)"
   ]
  },
  {
   "cell_type": "code",
   "execution_count": 258,
   "id": "6c455ee4",
   "metadata": {},
   "outputs": [
    {
     "data": {
      "text/html": [
       "<div>\n",
       "<style scoped>\n",
       "    .dataframe tbody tr th:only-of-type {\n",
       "        vertical-align: middle;\n",
       "    }\n",
       "\n",
       "    .dataframe tbody tr th {\n",
       "        vertical-align: top;\n",
       "    }\n",
       "\n",
       "    .dataframe thead th {\n",
       "        text-align: right;\n",
       "    }\n",
       "</style>\n",
       "<table border=\"1\" class=\"dataframe\">\n",
       "  <thead>\n",
       "    <tr style=\"text-align: right;\">\n",
       "      <th></th>\n",
       "      <th>DoctorID</th>\n",
       "      <th>Region</th>\n",
       "      <th>Category</th>\n",
       "      <th>Rank</th>\n",
       "      <th>Incidence rate</th>\n",
       "      <th>R rate</th>\n",
       "      <th>Experience</th>\n",
       "      <th>Purchases</th>\n",
       "    </tr>\n",
       "  </thead>\n",
       "  <tbody>\n",
       "    <tr>\n",
       "      <th>0</th>\n",
       "      <td>AHDCBA</td>\n",
       "      <td>4 15</td>\n",
       "      <td>Specialist</td>\n",
       "      <td>Ambassador</td>\n",
       "      <td>49.0</td>\n",
       "      <td>0.9</td>\n",
       "      <td>1.2</td>\n",
       "      <td>49</td>\n",
       "    </tr>\n",
       "  </tbody>\n",
       "</table>\n",
       "</div>"
      ],
      "text/plain": [
       "  DoctorID Region    Category        Rank  Incidence rate  R rate  Experience  \\\n",
       "0   AHDCBA   4 15  Specialist  Ambassador            49.0     0.9         1.2   \n",
       "\n",
       "   Purchases  \n",
       "0         49  "
      ]
     },
     "execution_count": 258,
     "metadata": {},
     "output_type": "execute_result"
    }
   ],
   "source": [
    "doctors_df.head(1)"
   ]
  },
  {
   "cell_type": "code",
   "execution_count": 289,
   "id": "7bee5207",
   "metadata": {},
   "outputs": [],
   "source": [
    "#merge both table together\n",
    "\n",
    "complaint_pur = pd.merge(complaints_df, doctors_df, how = \"inner\", on = \"DoctorID\")"
   ]
  },
  {
   "cell_type": "code",
   "execution_count": 296,
   "id": "6c3c7948",
   "metadata": {},
   "outputs": [
    {
     "data": {
      "text/html": [
       "<div>\n",
       "<style scoped>\n",
       "    .dataframe tbody tr th:only-of-type {\n",
       "        vertical-align: middle;\n",
       "    }\n",
       "\n",
       "    .dataframe tbody tr th {\n",
       "        vertical-align: top;\n",
       "    }\n",
       "\n",
       "    .dataframe thead th {\n",
       "        text-align: right;\n",
       "    }\n",
       "</style>\n",
       "<table border=\"1\" class=\"dataframe\">\n",
       "  <thead>\n",
       "    <tr style=\"text-align: right;\">\n",
       "      <th></th>\n",
       "      <th>DoctorID</th>\n",
       "      <th>Complaint Type</th>\n",
       "      <th>Qty</th>\n",
       "      <th>Region</th>\n",
       "      <th>Category</th>\n",
       "      <th>Rank</th>\n",
       "      <th>Incidence rate</th>\n",
       "      <th>R rate</th>\n",
       "      <th>Experience</th>\n",
       "      <th>Purchases</th>\n",
       "    </tr>\n",
       "  </thead>\n",
       "  <tbody>\n",
       "    <tr>\n",
       "      <th>0</th>\n",
       "      <td>EHEGI</td>\n",
       "      <td>Correct</td>\n",
       "      <td>1</td>\n",
       "      <td>1 8</td>\n",
       "      <td>Specialist</td>\n",
       "      <td>Platinum</td>\n",
       "      <td>3.00</td>\n",
       "      <td>1.50</td>\n",
       "      <td>0.25</td>\n",
       "      <td>4</td>\n",
       "    </tr>\n",
       "    <tr>\n",
       "      <th>1</th>\n",
       "      <td>EHEGI</td>\n",
       "      <td>Unknown</td>\n",
       "      <td>1</td>\n",
       "      <td>1 8</td>\n",
       "      <td>Specialist</td>\n",
       "      <td>Platinum</td>\n",
       "      <td>3.00</td>\n",
       "      <td>1.50</td>\n",
       "      <td>0.25</td>\n",
       "      <td>4</td>\n",
       "    </tr>\n",
       "    <tr>\n",
       "      <th>2</th>\n",
       "      <td>EHHGF</td>\n",
       "      <td>Correct</td>\n",
       "      <td>1</td>\n",
       "      <td>1 12 T3</td>\n",
       "      <td>Specialist</td>\n",
       "      <td>Titanium</td>\n",
       "      <td>2.50</td>\n",
       "      <td>1.86</td>\n",
       "      <td>0.57</td>\n",
       "      <td>7</td>\n",
       "    </tr>\n",
       "    <tr>\n",
       "      <th>3</th>\n",
       "      <td>EIFEJ</td>\n",
       "      <td>Correct</td>\n",
       "      <td>2</td>\n",
       "      <td>1 9 T4</td>\n",
       "      <td>Specialist</td>\n",
       "      <td>Ambassador</td>\n",
       "      <td>2.86</td>\n",
       "      <td>0.81</td>\n",
       "      <td>0.00</td>\n",
       "      <td>27</td>\n",
       "    </tr>\n",
       "    <tr>\n",
       "      <th>4</th>\n",
       "      <td>EIFEJ</td>\n",
       "      <td>Unknown</td>\n",
       "      <td>1</td>\n",
       "      <td>1 9 T4</td>\n",
       "      <td>Specialist</td>\n",
       "      <td>Ambassador</td>\n",
       "      <td>2.86</td>\n",
       "      <td>0.81</td>\n",
       "      <td>0.00</td>\n",
       "      <td>27</td>\n",
       "    </tr>\n",
       "  </tbody>\n",
       "</table>\n",
       "</div>"
      ],
      "text/plain": [
       "  DoctorID Complaint Type  Qty   Region    Category        Rank  \\\n",
       "0    EHEGI        Correct    1      1 8  Specialist    Platinum   \n",
       "1    EHEGI        Unknown    1      1 8  Specialist    Platinum   \n",
       "2    EHHGF        Correct    1  1 12 T3  Specialist    Titanium   \n",
       "3    EIFEJ        Correct    2   1 9 T4  Specialist  Ambassador   \n",
       "4    EIFEJ        Unknown    1   1 9 T4  Specialist  Ambassador   \n",
       "\n",
       "   Incidence rate  R rate  Experience  Purchases  \n",
       "0            3.00    1.50        0.25          4  \n",
       "1            3.00    1.50        0.25          4  \n",
       "2            2.50    1.86        0.57          7  \n",
       "3            2.86    0.81        0.00         27  \n",
       "4            2.86    0.81        0.00         27  "
      ]
     },
     "execution_count": 296,
     "metadata": {},
     "output_type": "execute_result"
    }
   ],
   "source": [
    "complaint_pur.head()"
   ]
  },
  {
   "cell_type": "code",
   "execution_count": 291,
   "id": "c2064775",
   "metadata": {},
   "outputs": [],
   "source": [
    "complaint_group = complaint_pur.groupby(\"DoctorID\")[[\"Qty\", \"Purchases\"]].mean()"
   ]
  },
  {
   "cell_type": "code",
   "execution_count": 307,
   "id": "bba2b4d0",
   "metadata": {},
   "outputs": [],
   "source": [
    "complaint_group_add = complaint_pur.groupby(\"DoctorID\")[[\"Qty\", \"Purchases\"]].sum()"
   ]
  },
  {
   "cell_type": "code",
   "execution_count": 308,
   "id": "fd633699",
   "metadata": {},
   "outputs": [
    {
     "data": {
      "image/png": "[encoded data removed]",
      "text/plain": [
       "<Figure size 1152x576 with 1 Axes>"
      ]
     },
     "metadata": {
      "image/png": {
       "height": 479,
       "width": 940
      },
      "needs_background": "light"
     },
     "output_type": "display_data"
    }
   ],
   "source": [
    "plt.figure(figsize = [16, 8])\n",
    "sns.lineplot(x = complaint_group_add[\"Purchases\"],\n",
    "            y = complaint_group_add[\"Qty\"], ci = None);"
   ]
  },
  {
   "cell_type": "code",
   "execution_count": 300,
   "id": "51df70b9",
   "metadata": {},
   "outputs": [
    {
     "data": {
      "application/vnd.plotly.v1+json": {
       "config": {
        "plotlyServerURL": "https://plotly.com"
       },
       "data": [
        {
         "hovertemplate": "Region=1 8<br>Purchases=%{x}<br>Qty=%{y}<extra></extra>",
         "legendgroup": "1 8",
         "line": {
          "color": "#636efa",
          "dash": "solid"
         },
         "marker": {
          "symbol": "circle"
         },
         "mode": "lines",
         "name": "1 8",
         "orientation": "v",
         "showlegend": true,
         "type": "scatter",
         "x": [
          4,
          4,
          8,
          8,
          83,
          83,
          83
         ],
         "xaxis": "x",
         "y": [
          1,
          1,
          4,
          3,
          8,
          1,
          1
         ],
         "yaxis": "y"
        },
        {
         "hovertemplate": "Region=1 12 T3<br>Purchases=%{x}<br>Qty=%{y}<extra></extra>",
         "legendgroup": "1 12 T3",
         "line": {
          "color": "#EF553B",
          "dash": "solid"
         },
         "marker": {
          "symbol": "circle"
         },
         "mode": "lines",
         "name": "1 12 T3",
         "orientation": "v",
         "showlegend": true,
         "type": "scatter",
         "x": [
          7,
          7,
          7
         ],
         "xaxis": "x",
         "y": [
          1,
          1,
          1
         ],
         "yaxis": "y"
        },
        {
         "hovertemplate": "Region=1 9 T4<br>Purchases=%{x}<br>Qty=%{y}<extra></extra>",
         "legendgroup": "1 9 T4",
         "line": {
          "color": "#00cc96",
          "dash": "solid"
         },
         "marker": {
          "symbol": "circle"
         },
         "mode": "lines",
         "name": "1 9 T4",
         "orientation": "v",
         "showlegend": true,
         "type": "scatter",
         "x": [
          27,
          27,
          19
         ],
         "xaxis": "x",
         "y": [
          2,
          1,
          1
         ],
         "yaxis": "y"
        },
        {
         "hovertemplate": "Region=1 21 T3<br>Purchases=%{x}<br>Qty=%{y}<extra></extra>",
         "legendgroup": "1 21 T3",
         "line": {
          "color": "#ab63fa",
          "dash": "solid"
         },
         "marker": {
          "symbol": "circle"
         },
         "mode": "lines",
         "name": "1 21 T3",
         "orientation": "v",
         "showlegend": true,
         "type": "scatter",
         "x": [
          8
         ],
         "xaxis": "x",
         "y": [
          2
         ],
         "yaxis": "y"
        },
        {
         "hovertemplate": "Region=1 14<br>Purchases=%{x}<br>Qty=%{y}<extra></extra>",
         "legendgroup": "1 14",
         "line": {
          "color": "#FFA15A",
          "dash": "solid"
         },
         "marker": {
          "symbol": "circle"
         },
         "mode": "lines",
         "name": "1 14",
         "orientation": "v",
         "showlegend": true,
         "type": "scatter",
         "x": [
          52,
          52,
          39,
          39,
          14,
          14,
          14,
          5,
          5,
          13,
          13,
          13,
          48,
          48,
          5
         ],
         "xaxis": "x",
         "y": [
          1,
          1,
          1,
          1,
          3,
          2,
          1,
          6,
          2,
          4,
          4,
          1,
          3,
          3,
          1
         ],
         "yaxis": "y"
        },
        {
         "hovertemplate": "Region=1 19<br>Purchases=%{x}<br>Qty=%{y}<extra></extra>",
         "legendgroup": "1 19",
         "line": {
          "color": "#19d3f3",
          "dash": "solid"
         },
         "marker": {
          "symbol": "circle"
         },
         "mode": "lines",
         "name": "1 19",
         "orientation": "v",
         "showlegend": true,
         "type": "scatter",
         "x": [
          4,
          33,
          33,
          4,
          4,
          4,
          20,
          10,
          10
         ],
         "xaxis": "x",
         "y": [
          1,
          4,
          2,
          5,
          2,
          2,
          1,
          5,
          1
         ],
         "yaxis": "y"
        },
        {
         "hovertemplate": "Region=3 16<br>Purchases=%{x}<br>Qty=%{y}<extra></extra>",
         "legendgroup": "3 16",
         "line": {
          "color": "#FF6692",
          "dash": "solid"
         },
         "marker": {
          "symbol": "circle"
         },
         "mode": "lines",
         "name": "3 16",
         "orientation": "v",
         "showlegend": true,
         "type": "scatter",
         "x": [
          14,
          14,
          14
         ],
         "xaxis": "x",
         "y": [
          1,
          4,
          1
         ],
         "yaxis": "y"
        },
        {
         "hovertemplate": "Region=1 10<br>Purchases=%{x}<br>Qty=%{y}<extra></extra>",
         "legendgroup": "1 10",
         "line": {
          "color": "#B6E880",
          "dash": "solid"
         },
         "marker": {
          "symbol": "circle"
         },
         "mode": "lines",
         "name": "1 10",
         "orientation": "v",
         "showlegend": true,
         "type": "scatter",
         "x": [
          4,
          4,
          5,
          5,
          11,
          35,
          35
         ],
         "xaxis": "x",
         "y": [
          2,
          2,
          1,
          1,
          1,
          1,
          1
         ],
         "yaxis": "y"
        },
        {
         "hovertemplate": "Region=2 7 14<br>Purchases=%{x}<br>Qty=%{y}<extra></extra>",
         "legendgroup": "2 7 14",
         "line": {
          "color": "#FF97FF",
          "dash": "solid"
         },
         "marker": {
          "symbol": "circle"
         },
         "mode": "lines",
         "name": "2 7 14",
         "orientation": "v",
         "showlegend": true,
         "type": "scatter",
         "x": [
          4,
          4
         ],
         "xaxis": "x",
         "y": [
          1,
          1
         ],
         "yaxis": "y"
        },
        {
         "hovertemplate": "Region=1 10 T3<br>Purchases=%{x}<br>Qty=%{y}<extra></extra>",
         "legendgroup": "1 10 T3",
         "line": {
          "color": "#FECB52",
          "dash": "solid"
         },
         "marker": {
          "symbol": "circle"
         },
         "mode": "lines",
         "name": "1 10 T3",
         "orientation": "v",
         "showlegend": true,
         "type": "scatter",
         "x": [
          11,
          11,
          11,
          5
         ],
         "xaxis": "x",
         "y": [
          8,
          3,
          1,
          4
         ],
         "yaxis": "y"
        },
        {
         "hovertemplate": "Region=1 8 T4<br>Purchases=%{x}<br>Qty=%{y}<extra></extra>",
         "legendgroup": "1 8 T4",
         "line": {
          "color": "#636efa",
          "dash": "solid"
         },
         "marker": {
          "symbol": "circle"
         },
         "mode": "lines",
         "name": "1 8 T4",
         "orientation": "v",
         "showlegend": true,
         "type": "scatter",
         "x": [
          15,
          8,
          16
         ],
         "xaxis": "x",
         "y": [
          2,
          1,
          1
         ],
         "yaxis": "y"
        },
        {
         "hovertemplate": "Region=2 7 19<br>Purchases=%{x}<br>Qty=%{y}<extra></extra>",
         "legendgroup": "2 7 19",
         "line": {
          "color": "#EF553B",
          "dash": "solid"
         },
         "marker": {
          "symbol": "circle"
         },
         "mode": "lines",
         "name": "2 7 19",
         "orientation": "v",
         "showlegend": true,
         "type": "scatter",
         "x": [
          14,
          3,
          3,
          5,
          5,
          5
         ],
         "xaxis": "x",
         "y": [
          1,
          2,
          1,
          2,
          3,
          3
         ],
         "yaxis": "y"
        },
        {
         "hovertemplate": "Region=1 12<br>Purchases=%{x}<br>Qty=%{y}<extra></extra>",
         "legendgroup": "1 12",
         "line": {
          "color": "#00cc96",
          "dash": "solid"
         },
         "marker": {
          "symbol": "circle"
         },
         "mode": "lines",
         "name": "1 12",
         "orientation": "v",
         "showlegend": true,
         "type": "scatter",
         "x": [
          20,
          32,
          7,
          26,
          26,
          6,
          37
         ],
         "xaxis": "x",
         "y": [
          1,
          1,
          1,
          3,
          4,
          1,
          1
         ],
         "yaxis": "y"
        },
        {
         "hovertemplate": "Region=1 13<br>Purchases=%{x}<br>Qty=%{y}<extra></extra>",
         "legendgroup": "1 13",
         "line": {
          "color": "#ab63fa",
          "dash": "solid"
         },
         "marker": {
          "symbol": "circle"
         },
         "mode": "lines",
         "name": "1 13",
         "orientation": "v",
         "showlegend": true,
         "type": "scatter",
         "x": [
          16,
          16,
          12,
          12,
          9,
          9,
          10,
          7,
          7,
          7,
          5,
          5
         ],
         "xaxis": "x",
         "y": [
          4,
          1,
          1,
          1,
          3,
          1,
          1,
          4,
          4,
          6,
          1,
          2
         ],
         "yaxis": "y"
        },
        {
         "hovertemplate": "Region=1 14 T3<br>Purchases=%{x}<br>Qty=%{y}<extra></extra>",
         "legendgroup": "1 14 T3",
         "line": {
          "color": "#FFA15A",
          "dash": "solid"
         },
         "marker": {
          "symbol": "circle"
         },
         "mode": "lines",
         "name": "1 14 T3",
         "orientation": "v",
         "showlegend": true,
         "type": "scatter",
         "x": [
          18,
          18,
          8
         ],
         "xaxis": "x",
         "y": [
          4,
          4,
          1
         ],
         "yaxis": "y"
        },
        {
         "hovertemplate": "Region=2 7 9<br>Purchases=%{x}<br>Qty=%{y}<extra></extra>",
         "legendgroup": "2 7 9",
         "line": {
          "color": "#19d3f3",
          "dash": "solid"
         },
         "marker": {
          "symbol": "circle"
         },
         "mode": "lines",
         "name": "2 7 9",
         "orientation": "v",
         "showlegend": true,
         "type": "scatter",
         "x": [
          3,
          3
         ],
         "xaxis": "x",
         "y": [
          1,
          2
         ],
         "yaxis": "y"
        },
        {
         "hovertemplate": "Region=1 8 T3<br>Purchases=%{x}<br>Qty=%{y}<extra></extra>",
         "legendgroup": "1 8 T3",
         "line": {
          "color": "#FF6692",
          "dash": "solid"
         },
         "marker": {
          "symbol": "circle"
         },
         "mode": "lines",
         "name": "1 8 T3",
         "orientation": "v",
         "showlegend": true,
         "type": "scatter",
         "x": [
          11,
          4,
          4,
          11,
          11,
          11,
          11,
          8,
          8,
          8,
          8,
          5
         ],
         "xaxis": "x",
         "y": [
          1,
          3,
          1,
          15,
          1,
          1,
          3,
          3,
          1,
          4,
          4,
          1
         ],
         "yaxis": "y"
        },
        {
         "hovertemplate": "Region=1 9<br>Purchases=%{x}<br>Qty=%{y}<extra></extra>",
         "legendgroup": "1 9",
         "line": {
          "color": "#B6E880",
          "dash": "solid"
         },
         "marker": {
          "symbol": "circle"
         },
         "mode": "lines",
         "name": "1 9",
         "orientation": "v",
         "showlegend": true,
         "type": "scatter",
         "x": [
          44,
          6,
          18,
          5,
          5
         ],
         "xaxis": "x",
         "y": [
          1,
          1,
          1,
          1,
          2
         ],
         "yaxis": "y"
        },
        {
         "hovertemplate": "Region=1 19 T4<br>Purchases=%{x}<br>Qty=%{y}<extra></extra>",
         "legendgroup": "1 19 T4",
         "line": {
          "color": "#FF97FF",
          "dash": "solid"
         },
         "marker": {
          "symbol": "circle"
         },
         "mode": "lines",
         "name": "1 19 T4",
         "orientation": "v",
         "showlegend": true,
         "type": "scatter",
         "x": [
          22,
          22
         ],
         "xaxis": "x",
         "y": [
          1,
          1
         ],
         "yaxis": "y"
        },
        {
         "hovertemplate": "Region=1 19 T3<br>Purchases=%{x}<br>Qty=%{y}<extra></extra>",
         "legendgroup": "1 19 T3",
         "line": {
          "color": "#FECB52",
          "dash": "solid"
         },
         "marker": {
          "symbol": "circle"
         },
         "mode": "lines",
         "name": "1 19 T3",
         "orientation": "v",
         "showlegend": true,
         "type": "scatter",
         "x": [
          10,
          10,
          10,
          14,
          10,
          10
         ],
         "xaxis": "x",
         "y": [
          2,
          1,
          1,
          1,
          8,
          2
         ],
         "yaxis": "y"
        },
        {
         "hovertemplate": "Region=1 19 20<br>Purchases=%{x}<br>Qty=%{y}<extra></extra>",
         "legendgroup": "1 19 20",
         "line": {
          "color": "#636efa",
          "dash": "solid"
         },
         "marker": {
          "symbol": "circle"
         },
         "mode": "lines",
         "name": "1 19 20",
         "orientation": "v",
         "showlegend": true,
         "type": "scatter",
         "x": [
          129,
          129
         ],
         "xaxis": "x",
         "y": [
          3,
          1
         ],
         "yaxis": "y"
        },
        {
         "hovertemplate": "Region=1 9 T3<br>Purchases=%{x}<br>Qty=%{y}<extra></extra>",
         "legendgroup": "1 9 T3",
         "line": {
          "color": "#EF553B",
          "dash": "solid"
         },
         "marker": {
          "symbol": "circle"
         },
         "mode": "lines",
         "name": "1 9 T3",
         "orientation": "v",
         "showlegend": true,
         "type": "scatter",
         "x": [
          5,
          7
         ],
         "xaxis": "x",
         "y": [
          1,
          1
         ],
         "yaxis": "y"
        },
        {
         "hovertemplate": "Region=1 11<br>Purchases=%{x}<br>Qty=%{y}<extra></extra>",
         "legendgroup": "1 11",
         "line": {
          "color": "#00cc96",
          "dash": "solid"
         },
         "marker": {
          "symbol": "circle"
         },
         "mode": "lines",
         "name": "1 11",
         "orientation": "v",
         "showlegend": true,
         "type": "scatter",
         "x": [
          5,
          4
         ],
         "xaxis": "x",
         "y": [
          1,
          1
         ],
         "yaxis": "y"
        },
        {
         "hovertemplate": "Region=2 7 8<br>Purchases=%{x}<br>Qty=%{y}<extra></extra>",
         "legendgroup": "2 7 8",
         "line": {
          "color": "#ab63fa",
          "dash": "solid"
         },
         "marker": {
          "symbol": "circle"
         },
         "mode": "lines",
         "name": "2 7 8",
         "orientation": "v",
         "showlegend": true,
         "type": "scatter",
         "x": [
          3,
          3,
          3
         ],
         "xaxis": "x",
         "y": [
          3,
          1,
          2
         ],
         "yaxis": "y"
        },
        {
         "hovertemplate": "Region=1 13 T3<br>Purchases=%{x}<br>Qty=%{y}<extra></extra>",
         "legendgroup": "1 13 T3",
         "line": {
          "color": "#FFA15A",
          "dash": "solid"
         },
         "marker": {
          "symbol": "circle"
         },
         "mode": "lines",
         "name": "1 13 T3",
         "orientation": "v",
         "showlegend": true,
         "type": "scatter",
         "x": [
          30,
          4
         ],
         "xaxis": "x",
         "y": [
          1,
          1
         ],
         "yaxis": "y"
        },
        {
         "hovertemplate": "Region=2 11<br>Purchases=%{x}<br>Qty=%{y}<extra></extra>",
         "legendgroup": "2 11",
         "line": {
          "color": "#19d3f3",
          "dash": "solid"
         },
         "marker": {
          "symbol": "circle"
         },
         "mode": "lines",
         "name": "2 11",
         "orientation": "v",
         "showlegend": true,
         "type": "scatter",
         "x": [
          4
         ],
         "xaxis": "x",
         "y": [
          1
         ],
         "yaxis": "y"
        },
        {
         "hovertemplate": "Region=2 6 12<br>Purchases=%{x}<br>Qty=%{y}<extra></extra>",
         "legendgroup": "2 6 12",
         "line": {
          "color": "#FF6692",
          "dash": "solid"
         },
         "marker": {
          "symbol": "circle"
         },
         "mode": "lines",
         "name": "2 6 12",
         "orientation": "v",
         "showlegend": true,
         "type": "scatter",
         "x": [
          3
         ],
         "xaxis": "x",
         "y": [
          1
         ],
         "yaxis": "y"
        }
       ],
       "layout": {
        "legend": {
         "title": {
          "text": "Region"
         },
         "tracegroupgap": 0
        },
        "margin": {
         "t": 60
        },
        "template": {
         "data": {
          "bar": [
           {
            "error_x": {
             "color": "#2a3f5f"
            },
            "error_y": {
             "color": "#2a3f5f"
            },
            "marker": {
             "line": {
              "color": "#E5ECF6",
              "width": 0.5
             },
             "pattern": {
              "fillmode": "overlay",
              "size": 10,
              "solidity": 0.2
             }
            },
            "type": "bar"
           }
          ],
          "barpolar": [
           {
            "marker": {
             "line": {
              "color": "#E5ECF6",
              "width": 0.5
             },
             "pattern": {
              "fillmode": "overlay",
              "size": 10,
              "solidity": 0.2
             }
            },
            "type": "barpolar"
           }
          ],
          "carpet": [
           {
            "aaxis": {
             "endlinecolor": "#2a3f5f",
             "gridcolor": "white",
             "linecolor": "white",
             "minorgridcolor": "white",
             "startlinecolor": "#2a3f5f"
            },
            "baxis": {
             "endlinecolor": "#2a3f5f",
             "gridcolor": "white",
             "linecolor": "white",
             "minorgridcolor": "white",
             "startlinecolor": "#2a3f5f"
            },
            "type": "carpet"
           }
          ],
          "choropleth": [
           {
            "colorbar": {
             "outlinewidth": 0,
             "ticks": ""
            },
            "type": "choropleth"
           }
          ],
          "contour": [
           {
            "colorbar": {
             "outlinewidth": 0,
             "ticks": ""
            },
            "colorscale": [
             [
              0,
              "#0d0887"
             ],
             [
              0.1111111111111111,
              "#46039f"
             ],
             [
              0.2222222222222222,
              "#7201a8"
             ],
             [
              0.3333333333333333,
              "#9c179e"
             ],
             [
              0.4444444444444444,
              "#bd3786"
             ],
             [
              0.5555555555555556,
              "#d8576b"
             ],
             [
              0.6666666666666666,
              "#ed7953"
             ],
             [
              0.7777777777777778,
              "#fb9f3a"
             ],
             [
              0.8888888888888888,
              "#fdca26"
             ],
             [
              1,
              "#f0f921"
             ]
            ],
            "type": "contour"
           }
          ],
          "contourcarpet": [
           {
            "colorbar": {
             "outlinewidth": 0,
             "ticks": ""
            },
            "type": "contourcarpet"
           }
          ],
          "heatmap": [
           {
            "colorbar": {
             "outlinewidth": 0,
             "ticks": ""
            },
            "colorscale": [
             [
              0,
              "#0d0887"
             ],
             [
              0.1111111111111111,
              "#46039f"
             ],
             [
              0.2222222222222222,
              "#7201a8"
             ],
             [
              0.3333333333333333,
              "#9c179e"
             ],
             [
              0.4444444444444444,
              "#bd3786"
             ],
             [
              0.5555555555555556,
              "#d8576b"
             ],
             [
              0.6666666666666666,
              "#ed7953"
             ],
             [
              0.7777777777777778,
              "#fb9f3a"
             ],
             [
              0.8888888888888888,
              "#fdca26"
             ],
             [
              1,
              "#f0f921"
             ]
            ],
            "type": "heatmap"
           }
          ],
          "heatmapgl": [
           {
            "colorbar": {
             "outlinewidth": 0,
             "ticks": ""
            },
            "colorscale": [
             [
              0,
              "#0d0887"
             ],
             [
              0.1111111111111111,
              "#46039f"
             ],
             [
              0.2222222222222222,
              "#7201a8"
             ],
             [
              0.3333333333333333,
              "#9c179e"
             ],
             [
              0.4444444444444444,
              "#bd3786"
             ],
             [
              0.5555555555555556,
              "#d8576b"
             ],
             [
              0.6666666666666666,
              "#ed7953"
             ],
             [
              0.7777777777777778,
              "#fb9f3a"
             ],
             [
              0.8888888888888888,
              "#fdca26"
             ],
             [
              1,
              "#f0f921"
             ]
            ],
            "type": "heatmapgl"
           }
          ],
          "histogram": [
           {
            "marker": {
             "pattern": {
              "fillmode": "overlay",
              "size": 10,
              "solidity": 0.2
             }
            },
            "type": "histogram"
           }
          ],
          "histogram2d": [
           {
            "colorbar": {
             "outlinewidth": 0,
             "ticks": ""
            },
            "colorscale": [
             [
              0,
              "#0d0887"
             ],
             [
              0.1111111111111111,
              "#46039f"
             ],
             [
              0.2222222222222222,
              "#7201a8"
             ],
             [
              0.3333333333333333,
              "#9c179e"
             ],
             [
              0.4444444444444444,
              "#bd3786"
             ],
             [
              0.5555555555555556,
              "#d8576b"
             ],
             [
              0.6666666666666666,
              "#ed7953"
             ],
             [
              0.7777777777777778,
              "#fb9f3a"
             ],
             [
              0.8888888888888888,
              "#fdca26"
             ],
             [
              1,
              "#f0f921"
             ]
            ],
            "type": "histogram2d"
           }
          ],
          "histogram2dcontour": [
           {
            "colorbar": {
             "outlinewidth": 0,
             "ticks": ""
            },
            "colorscale": [
             [
              0,
              "#0d0887"
             ],
             [
              0.1111111111111111,
              "#46039f"
             ],
             [
              0.2222222222222222,
              "#7201a8"
             ],
             [
              0.3333333333333333,
              "#9c179e"
             ],
             [
              0.4444444444444444,
              "#bd3786"
             ],
             [
              0.5555555555555556,
              "#d8576b"
             ],
             [
              0.6666666666666666,
              "#ed7953"
             ],
             [
              0.7777777777777778,
              "#fb9f3a"
             ],
             [
              0.8888888888888888,
              "#fdca26"
             ],
             [
              1,
              "#f0f921"
             ]
            ],
            "type": "histogram2dcontour"
           }
          ],
          "mesh3d": [
           {
            "colorbar": {
             "outlinewidth": 0,
             "ticks": ""
            },
            "type": "mesh3d"
           }
          ],
          "parcoords": [
           {
            "line": {
             "colorbar": {
              "outlinewidth": 0,
              "ticks": ""
             }
            },
            "type": "parcoords"
           }
          ],
          "pie": [
           {
            "automargin": true,
            "type": "pie"
           }
          ],
          "scatter": [
           {
            "marker": {
             "colorbar": {
              "outlinewidth": 0,
              "ticks": ""
             }
            },
            "type": "scatter"
           }
          ],
          "scatter3d": [
           {
            "line": {
             "colorbar": {
              "outlinewidth": 0,
              "ticks": ""
             }
            },
            "marker": {
             "colorbar": {
              "outlinewidth": 0,
              "ticks": ""
             }
            },
            "type": "scatter3d"
           }
          ],
          "scattercarpet": [
           {
            "marker": {
             "colorbar": {
              "outlinewidth": 0,
              "ticks": ""
             }
            },
            "type": "scattercarpet"
           }
          ],
          "scattergeo": [
           {
            "marker": {
             "colorbar": {
              "outlinewidth": 0,
              "ticks": ""
             }
            },
            "type": "scattergeo"
           }
          ],
          "scattergl": [
           {
            "marker": {
             "colorbar": {
              "outlinewidth": 0,
              "ticks": ""
             }
            },
            "type": "scattergl"
           }
          ],
          "scattermapbox": [
           {
            "marker": {
             "colorbar": {
              "outlinewidth": 0,
              "ticks": ""
             }
            },
            "type": "scattermapbox"
           }
          ],
          "scatterpolar": [
           {
            "marker": {
             "colorbar": {
              "outlinewidth": 0,
              "ticks": ""
             }
            },
            "type": "scatterpolar"
           }
          ],
          "scatterpolargl": [
           {
            "marker": {
             "colorbar": {
              "outlinewidth": 0,
              "ticks": ""
             }
            },
            "type": "scatterpolargl"
           }
          ],
          "scatterternary": [
           {
            "marker": {
             "colorbar": {
              "outlinewidth": 0,
              "ticks": ""
             }
            },
            "type": "scatterternary"
           }
          ],
          "surface": [
           {
            "colorbar": {
             "outlinewidth": 0,
             "ticks": ""
            },
            "colorscale": [
             [
              0,
              "#0d0887"
             ],
             [
              0.1111111111111111,
              "#46039f"
             ],
             [
              0.2222222222222222,
              "#7201a8"
             ],
             [
              0.3333333333333333,
              "#9c179e"
             ],
             [
              0.4444444444444444,
              "#bd3786"
             ],
             [
              0.5555555555555556,
              "#d8576b"
             ],
             [
              0.6666666666666666,
              "#ed7953"
             ],
             [
              0.7777777777777778,
              "#fb9f3a"
             ],
             [
              0.8888888888888888,
              "#fdca26"
             ],
             [
              1,
              "#f0f921"
             ]
            ],
            "type": "surface"
           }
          ],
          "table": [
           {
            "cells": {
             "fill": {
              "color": "#EBF0F8"
             },
             "line": {
              "color": "white"
             }
            },
            "header": {
             "fill": {
              "color": "#C8D4E3"
             },
             "line": {
              "color": "white"
             }
            },
            "type": "table"
           }
          ]
         },
         "layout": {
          "annotationdefaults": {
           "arrowcolor": "#2a3f5f",
           "arrowhead": 0,
           "arrowwidth": 1
          },
          "autotypenumbers": "strict",
          "coloraxis": {
           "colorbar": {
            "outlinewidth": 0,
            "ticks": ""
           }
          },
          "colorscale": {
           "diverging": [
            [
             0,
             "#8e0152"
            ],
            [
             0.1,
             "#c51b7d"
            ],
            [
             0.2,
             "#de77ae"
            ],
            [
             0.3,
             "#f1b6da"
            ],
            [
             0.4,
             "#fde0ef"
            ],
            [
             0.5,
             "#f7f7f7"
            ],
            [
             0.6,
             "#e6f5d0"
            ],
            [
             0.7,
             "#b8e186"
            ],
            [
             0.8,
             "#7fbc41"
            ],
            [
             0.9,
             "#4d9221"
            ],
            [
             1,
             "#276419"
            ]
           ],
           "sequential": [
            [
             0,
             "#0d0887"
            ],
            [
             0.1111111111111111,
             "#46039f"
            ],
            [
             0.2222222222222222,
             "#7201a8"
            ],
            [
             0.3333333333333333,
             "#9c179e"
            ],
            [
             0.4444444444444444,
             "#bd3786"
            ],
            [
             0.5555555555555556,
             "#d8576b"
            ],
            [
             0.6666666666666666,
             "#ed7953"
            ],
            [
             0.7777777777777778,
             "#fb9f3a"
            ],
            [
             0.8888888888888888,
             "#fdca26"
            ],
            [
             1,
             "#f0f921"
            ]
           ],
           "sequentialminus": [
            [
             0,
             "#0d0887"
            ],
            [
             0.1111111111111111,
             "#46039f"
            ],
            [
             0.2222222222222222,
             "#7201a8"
            ],
            [
             0.3333333333333333,
             "#9c179e"
            ],
            [
             0.4444444444444444,
             "#bd3786"
            ],
            [
             0.5555555555555556,
             "#d8576b"
            ],
            [
             0.6666666666666666,
             "#ed7953"
            ],
            [
             0.7777777777777778,
             "#fb9f3a"
            ],
            [
             0.8888888888888888,
             "#fdca26"
            ],
            [
             1,
             "#f0f921"
            ]
           ]
          },
          "colorway": [
           "#636efa",
           "#EF553B",
           "#00cc96",
           "#ab63fa",
           "#FFA15A",
           "#19d3f3",
           "#FF6692",
           "#B6E880",
           "#FF97FF",
           "#FECB52"
          ],
          "font": {
           "color": "#2a3f5f"
          },
          "geo": {
           "bgcolor": "white",
           "lakecolor": "white",
           "landcolor": "#E5ECF6",
           "showlakes": true,
           "showland": true,
           "subunitcolor": "white"
          },
          "hoverlabel": {
           "align": "left"
          },
          "hovermode": "closest",
          "mapbox": {
           "style": "light"
          },
          "paper_bgcolor": "white",
          "plot_bgcolor": "#E5ECF6",
          "polar": {
           "angularaxis": {
            "gridcolor": "white",
            "linecolor": "white",
            "ticks": ""
           },
           "bgcolor": "#E5ECF6",
           "radialaxis": {
            "gridcolor": "white",
            "linecolor": "white",
            "ticks": ""
           }
          },
          "scene": {
           "xaxis": {
            "backgroundcolor": "#E5ECF6",
            "gridcolor": "white",
            "gridwidth": 2,
            "linecolor": "white",
            "showbackground": true,
            "ticks": "",
            "zerolinecolor": "white"
           },
           "yaxis": {
            "backgroundcolor": "#E5ECF6",
            "gridcolor": "white",
            "gridwidth": 2,
            "linecolor": "white",
            "showbackground": true,
            "ticks": "",
            "zerolinecolor": "white"
           },
           "zaxis": {
            "backgroundcolor": "#E5ECF6",
            "gridcolor": "white",
            "gridwidth": 2,
            "linecolor": "white",
            "showbackground": true,
            "ticks": "",
            "zerolinecolor": "white"
           }
          },
          "shapedefaults": {
           "line": {
            "color": "#2a3f5f"
           }
          },
          "ternary": {
           "aaxis": {
            "gridcolor": "white",
            "linecolor": "white",
            "ticks": ""
           },
           "baxis": {
            "gridcolor": "white",
            "linecolor": "white",
            "ticks": ""
           },
           "bgcolor": "#E5ECF6",
           "caxis": {
            "gridcolor": "white",
            "linecolor": "white",
            "ticks": ""
           }
          },
          "title": {
           "x": 0.05
          },
          "xaxis": {
           "automargin": true,
           "gridcolor": "white",
           "linecolor": "white",
           "ticks": "",
           "title": {
            "standoff": 15
           },
           "zerolinecolor": "white",
           "zerolinewidth": 2
          },
          "yaxis": {
           "automargin": true,
           "gridcolor": "white",
           "linecolor": "white",
           "ticks": "",
           "title": {
            "standoff": 15
           },
           "zerolinecolor": "white",
           "zerolinewidth": 2
          }
         }
        },
        "xaxis": {
         "anchor": "y",
         "domain": [
          0,
          1
         ],
         "title": {
          "text": "Purchases"
         }
        },
        "yaxis": {
         "anchor": "x",
         "domain": [
          0,
          1
         ],
         "title": {
          "text": "Qty"
         }
        }
       }
      },
      "text/html": [
       "<div>                            <div id=\"6b52a096-90c0-4ec5-b570-968a01a191a7\" class=\"plotly-graph-div\" style=\"height:525px; width:100%;\"></div>            <script type=\"text/javascript\">                require([\"plotly\"], function(Plotly) {                    window.PLOTLYENV=window.PLOTLYENV || {};                                    if (document.getElementById(\"6b52a096-90c0-4ec5-b570-968a01a191a7\")) {                    Plotly.newPlot(                        \"6b52a096-90c0-4ec5-b570-968a01a191a7\",                        [{\"hovertemplate\":\"Region=1 8<br>Purchases=%{x}<br>Qty=%{y}<extra></extra>\",\"legendgroup\":\"1 8\",\"line\":{\"color\":\"#636efa\",\"dash\":\"solid\"},\"marker\":{\"symbol\":\"circle\"},\"mode\":\"lines\",\"name\":\"1 8\",\"orientation\":\"v\",\"showlegend\":true,\"x\":[4,4,8,8,83,83,83],\"xaxis\":\"x\",\"y\":[1,1,4,3,8,1,1],\"yaxis\":\"y\",\"type\":\"scatter\"},{\"hovertemplate\":\"Region=1 12 T3<br>Purchases=%{x}<br>Qty=%{y}<extra></extra>\",\"legendgroup\":\"1 12 T3\",\"line\":{\"color\":\"#EF553B\",\"dash\":\"solid\"},\"marker\":{\"symbol\":\"circle\"},\"mode\":\"lines\",\"name\":\"1 12 T3\",\"orientation\":\"v\",\"showlegend\":true,\"x\":[7,7,7],\"xaxis\":\"x\",\"y\":[1,1,1],\"yaxis\":\"y\",\"type\":\"scatter\"},{\"hovertemplate\":\"Region=1 9 T4<br>Purchases=%{x}<br>Qty=%{y}<extra></extra>\",\"legendgroup\":\"1 9 T4\",\"line\":{\"color\":\"#00cc96\",\"dash\":\"solid\"},\"marker\":{\"symbol\":\"circle\"},\"mode\":\"lines\",\"name\":\"1 9 T4\",\"orientation\":\"v\",\"showlegend\":true,\"x\":[27,27,19],\"xaxis\":\"x\",\"y\":[2,1,1],\"yaxis\":\"y\",\"type\":\"scatter\"},{\"hovertemplate\":\"Region=1 21 T3<br>Purchases=%{x}<br>Qty=%{y}<extra></extra>\",\"legendgroup\":\"1 21 T3\",\"line\":{\"color\":\"#ab63fa\",\"dash\":\"solid\"},\"marker\":{\"symbol\":\"circle\"},\"mode\":\"lines\",\"name\":\"1 21 T3\",\"orientation\":\"v\",\"showlegend\":true,\"x\":[8],\"xaxis\":\"x\",\"y\":[2],\"yaxis\":\"y\",\"type\":\"scatter\"},{\"hovertemplate\":\"Region=1 14<br>Purchases=%{x}<br>Qty=%{y}<extra></extra>\",\"legendgroup\":\"1 14\",\"line\":{\"color\":\"#FFA15A\",\"dash\":\"solid\"},\"marker\":{\"symbol\":\"circle\"},\"mode\":\"lines\",\"name\":\"1 14\",\"orientation\":\"v\",\"showlegend\":true,\"x\":[52,52,39,39,14,14,14,5,5,13,13,13,48,48,5],\"xaxis\":\"x\",\"y\":[1,1,1,1,3,2,1,6,2,4,4,1,3,3,1],\"yaxis\":\"y\",\"type\":\"scatter\"},{\"hovertemplate\":\"Region=1 19<br>Purchases=%{x}<br>Qty=%{y}<extra></extra>\",\"legendgroup\":\"1 19\",\"line\":{\"color\":\"#19d3f3\",\"dash\":\"solid\"},\"marker\":{\"symbol\":\"circle\"},\"mode\":\"lines\",\"name\":\"1 19\",\"orientation\":\"v\",\"showlegend\":true,\"x\":[4,33,33,4,4,4,20,10,10],\"xaxis\":\"x\",\"y\":[1,4,2,5,2,2,1,5,1],\"yaxis\":\"y\",\"type\":\"scatter\"},{\"hovertemplate\":\"Region=3 16<br>Purchases=%{x}<br>Qty=%{y}<extra></extra>\",\"legendgroup\":\"3 16\",\"line\":{\"color\":\"#FF6692\",\"dash\":\"solid\"},\"marker\":{\"symbol\":\"circle\"},\"mode\":\"lines\",\"name\":\"3 16\",\"orientation\":\"v\",\"showlegend\":true,\"x\":[14,14,14],\"xaxis\":\"x\",\"y\":[1,4,1],\"yaxis\":\"y\",\"type\":\"scatter\"},{\"hovertemplate\":\"Region=1 10<br>Purchases=%{x}<br>Qty=%{y}<extra></extra>\",\"legendgroup\":\"1 10\",\"line\":{\"color\":\"#B6E880\",\"dash\":\"solid\"},\"marker\":{\"symbol\":\"circle\"},\"mode\":\"lines\",\"name\":\"1 10\",\"orientation\":\"v\",\"showlegend\":true,\"x\":[4,4,5,5,11,35,35],\"xaxis\":\"x\",\"y\":[2,2,1,1,1,1,1],\"yaxis\":\"y\",\"type\":\"scatter\"},{\"hovertemplate\":\"Region=2 7 14<br>Purchases=%{x}<br>Qty=%{y}<extra></extra>\",\"legendgroup\":\"2 7 14\",\"line\":{\"color\":\"#FF97FF\",\"dash\":\"solid\"},\"marker\":{\"symbol\":\"circle\"},\"mode\":\"lines\",\"name\":\"2 7 14\",\"orientation\":\"v\",\"showlegend\":true,\"x\":[4,4],\"xaxis\":\"x\",\"y\":[1,1],\"yaxis\":\"y\",\"type\":\"scatter\"},{\"hovertemplate\":\"Region=1 10 T3<br>Purchases=%{x}<br>Qty=%{y}<extra></extra>\",\"legendgroup\":\"1 10 T3\",\"line\":{\"color\":\"#FECB52\",\"dash\":\"solid\"},\"marker\":{\"symbol\":\"circle\"},\"mode\":\"lines\",\"name\":\"1 10 T3\",\"orientation\":\"v\",\"showlegend\":true,\"x\":[11,11,11,5],\"xaxis\":\"x\",\"y\":[8,3,1,4],\"yaxis\":\"y\",\"type\":\"scatter\"},{\"hovertemplate\":\"Region=1 8 T4<br>Purchases=%{x}<br>Qty=%{y}<extra></extra>\",\"legendgroup\":\"1 8 T4\",\"line\":{\"color\":\"#636efa\",\"dash\":\"solid\"},\"marker\":{\"symbol\":\"circle\"},\"mode\":\"lines\",\"name\":\"1 8 T4\",\"orientation\":\"v\",\"showlegend\":true,\"x\":[15,8,16],\"xaxis\":\"x\",\"y\":[2,1,1],\"yaxis\":\"y\",\"type\":\"scatter\"},{\"hovertemplate\":\"Region=2 7 19<br>Purchases=%{x}<br>Qty=%{y}<extra></extra>\",\"legendgroup\":\"2 7 19\",\"line\":{\"color\":\"#EF553B\",\"dash\":\"solid\"},\"marker\":{\"symbol\":\"circle\"},\"mode\":\"lines\",\"name\":\"2 7 19\",\"orientation\":\"v\",\"showlegend\":true,\"x\":[14,3,3,5,5,5],\"xaxis\":\"x\",\"y\":[1,2,1,2,3,3],\"yaxis\":\"y\",\"type\":\"scatter\"},{\"hovertemplate\":\"Region=1 12<br>Purchases=%{x}<br>Qty=%{y}<extra></extra>\",\"legendgroup\":\"1 12\",\"line\":{\"color\":\"#00cc96\",\"dash\":\"solid\"},\"marker\":{\"symbol\":\"circle\"},\"mode\":\"lines\",\"name\":\"1 12\",\"orientation\":\"v\",\"showlegend\":true,\"x\":[20,32,7,26,26,6,37],\"xaxis\":\"x\",\"y\":[1,1,1,3,4,1,1],\"yaxis\":\"y\",\"type\":\"scatter\"},{\"hovertemplate\":\"Region=1 13<br>Purchases=%{x}<br>Qty=%{y}<extra></extra>\",\"legendgroup\":\"1 13\",\"line\":{\"color\":\"#ab63fa\",\"dash\":\"solid\"},\"marker\":{\"symbol\":\"circle\"},\"mode\":\"lines\",\"name\":\"1 13\",\"orientation\":\"v\",\"showlegend\":true,\"x\":[16,16,12,12,9,9,10,7,7,7,5,5],\"xaxis\":\"x\",\"y\":[4,1,1,1,3,1,1,4,4,6,1,2],\"yaxis\":\"y\",\"type\":\"scatter\"},{\"hovertemplate\":\"Region=1 14 T3<br>Purchases=%{x}<br>Qty=%{y}<extra></extra>\",\"legendgroup\":\"1 14 T3\",\"line\":{\"color\":\"#FFA15A\",\"dash\":\"solid\"},\"marker\":{\"symbol\":\"circle\"},\"mode\":\"lines\",\"name\":\"1 14 T3\",\"orientation\":\"v\",\"showlegend\":true,\"x\":[18,18,8],\"xaxis\":\"x\",\"y\":[4,4,1],\"yaxis\":\"y\",\"type\":\"scatter\"},{\"hovertemplate\":\"Region=2 7 9<br>Purchases=%{x}<br>Qty=%{y}<extra></extra>\",\"legendgroup\":\"2 7 9\",\"line\":{\"color\":\"#19d3f3\",\"dash\":\"solid\"},\"marker\":{\"symbol\":\"circle\"},\"mode\":\"lines\",\"name\":\"2 7 9\",\"orientation\":\"v\",\"showlegend\":true,\"x\":[3,3],\"xaxis\":\"x\",\"y\":[1,2],\"yaxis\":\"y\",\"type\":\"scatter\"},{\"hovertemplate\":\"Region=1 8 T3<br>Purchases=%{x}<br>Qty=%{y}<extra></extra>\",\"legendgroup\":\"1 8 T3\",\"line\":{\"color\":\"#FF6692\",\"dash\":\"solid\"},\"marker\":{\"symbol\":\"circle\"},\"mode\":\"lines\",\"name\":\"1 8 T3\",\"orientation\":\"v\",\"showlegend\":true,\"x\":[11,4,4,11,11,11,11,8,8,8,8,5],\"xaxis\":\"x\",\"y\":[1,3,1,15,1,1,3,3,1,4,4,1],\"yaxis\":\"y\",\"type\":\"scatter\"},{\"hovertemplate\":\"Region=1 9<br>Purchases=%{x}<br>Qty=%{y}<extra></extra>\",\"legendgroup\":\"1 9\",\"line\":{\"color\":\"#B6E880\",\"dash\":\"solid\"},\"marker\":{\"symbol\":\"circle\"},\"mode\":\"lines\",\"name\":\"1 9\",\"orientation\":\"v\",\"showlegend\":true,\"x\":[44,6,18,5,5],\"xaxis\":\"x\",\"y\":[1,1,1,1,2],\"yaxis\":\"y\",\"type\":\"scatter\"},{\"hovertemplate\":\"Region=1 19 T4<br>Purchases=%{x}<br>Qty=%{y}<extra></extra>\",\"legendgroup\":\"1 19 T4\",\"line\":{\"color\":\"#FF97FF\",\"dash\":\"solid\"},\"marker\":{\"symbol\":\"circle\"},\"mode\":\"lines\",\"name\":\"1 19 T4\",\"orientation\":\"v\",\"showlegend\":true,\"x\":[22,22],\"xaxis\":\"x\",\"y\":[1,1],\"yaxis\":\"y\",\"type\":\"scatter\"},{\"hovertemplate\":\"Region=1 19 T3<br>Purchases=%{x}<br>Qty=%{y}<extra></extra>\",\"legendgroup\":\"1 19 T3\",\"line\":{\"color\":\"#FECB52\",\"dash\":\"solid\"},\"marker\":{\"symbol\":\"circle\"},\"mode\":\"lines\",\"name\":\"1 19 T3\",\"orientation\":\"v\",\"showlegend\":true,\"x\":[10,10,10,14,10,10],\"xaxis\":\"x\",\"y\":[2,1,1,1,8,2],\"yaxis\":\"y\",\"type\":\"scatter\"},{\"hovertemplate\":\"Region=1 19 20<br>Purchases=%{x}<br>Qty=%{y}<extra></extra>\",\"legendgroup\":\"1 19 20\",\"line\":{\"color\":\"#636efa\",\"dash\":\"solid\"},\"marker\":{\"symbol\":\"circle\"},\"mode\":\"lines\",\"name\":\"1 19 20\",\"orientation\":\"v\",\"showlegend\":true,\"x\":[129,129],\"xaxis\":\"x\",\"y\":[3,1],\"yaxis\":\"y\",\"type\":\"scatter\"},{\"hovertemplate\":\"Region=1 9 T3<br>Purchases=%{x}<br>Qty=%{y}<extra></extra>\",\"legendgroup\":\"1 9 T3\",\"line\":{\"color\":\"#EF553B\",\"dash\":\"solid\"},\"marker\":{\"symbol\":\"circle\"},\"mode\":\"lines\",\"name\":\"1 9 T3\",\"orientation\":\"v\",\"showlegend\":true,\"x\":[5,7],\"xaxis\":\"x\",\"y\":[1,1],\"yaxis\":\"y\",\"type\":\"scatter\"},{\"hovertemplate\":\"Region=1 11<br>Purchases=%{x}<br>Qty=%{y}<extra></extra>\",\"legendgroup\":\"1 11\",\"line\":{\"color\":\"#00cc96\",\"dash\":\"solid\"},\"marker\":{\"symbol\":\"circle\"},\"mode\":\"lines\",\"name\":\"1 11\",\"orientation\":\"v\",\"showlegend\":true,\"x\":[5,4],\"xaxis\":\"x\",\"y\":[1,1],\"yaxis\":\"y\",\"type\":\"scatter\"},{\"hovertemplate\":\"Region=2 7 8<br>Purchases=%{x}<br>Qty=%{y}<extra></extra>\",\"legendgroup\":\"2 7 8\",\"line\":{\"color\":\"#ab63fa\",\"dash\":\"solid\"},\"marker\":{\"symbol\":\"circle\"},\"mode\":\"lines\",\"name\":\"2 7 8\",\"orientation\":\"v\",\"showlegend\":true,\"x\":[3,3,3],\"xaxis\":\"x\",\"y\":[3,1,2],\"yaxis\":\"y\",\"type\":\"scatter\"},{\"hovertemplate\":\"Region=1 13 T3<br>Purchases=%{x}<br>Qty=%{y}<extra></extra>\",\"legendgroup\":\"1 13 T3\",\"line\":{\"color\":\"#FFA15A\",\"dash\":\"solid\"},\"marker\":{\"symbol\":\"circle\"},\"mode\":\"lines\",\"name\":\"1 13 T3\",\"orientation\":\"v\",\"showlegend\":true,\"x\":[30,4],\"xaxis\":\"x\",\"y\":[1,1],\"yaxis\":\"y\",\"type\":\"scatter\"},{\"hovertemplate\":\"Region=2 11<br>Purchases=%{x}<br>Qty=%{y}<extra></extra>\",\"legendgroup\":\"2 11\",\"line\":{\"color\":\"#19d3f3\",\"dash\":\"solid\"},\"marker\":{\"symbol\":\"circle\"},\"mode\":\"lines\",\"name\":\"2 11\",\"orientation\":\"v\",\"showlegend\":true,\"x\":[4],\"xaxis\":\"x\",\"y\":[1],\"yaxis\":\"y\",\"type\":\"scatter\"},{\"hovertemplate\":\"Region=2 6 12<br>Purchases=%{x}<br>Qty=%{y}<extra></extra>\",\"legendgroup\":\"2 6 12\",\"line\":{\"color\":\"#FF6692\",\"dash\":\"solid\"},\"marker\":{\"symbol\":\"circle\"},\"mode\":\"lines\",\"name\":\"2 6 12\",\"orientation\":\"v\",\"showlegend\":true,\"x\":[3],\"xaxis\":\"x\",\"y\":[1],\"yaxis\":\"y\",\"type\":\"scatter\"}],                        {\"template\":{\"data\":{\"bar\":[{\"error_x\":{\"color\":\"#2a3f5f\"},\"error_y\":{\"color\":\"#2a3f5f\"},\"marker\":{\"line\":{\"color\":\"#E5ECF6\",\"width\":0.5},\"pattern\":{\"fillmode\":\"overlay\",\"size\":10,\"solidity\":0.2}},\"type\":\"bar\"}],\"barpolar\":[{\"marker\":{\"line\":{\"color\":\"#E5ECF6\",\"width\":0.5},\"pattern\":{\"fillmode\":\"overlay\",\"size\":10,\"solidity\":0.2}},\"type\":\"barpolar\"}],\"carpet\":[{\"aaxis\":{\"endlinecolor\":\"#2a3f5f\",\"gridcolor\":\"white\",\"linecolor\":\"white\",\"minorgridcolor\":\"white\",\"startlinecolor\":\"#2a3f5f\"},\"baxis\":{\"endlinecolor\":\"#2a3f5f\",\"gridcolor\":\"white\",\"linecolor\":\"white\",\"minorgridcolor\":\"white\",\"startlinecolor\":\"#2a3f5f\"},\"type\":\"carpet\"}],\"choropleth\":[{\"colorbar\":{\"outlinewidth\":0,\"ticks\":\"\"},\"type\":\"choropleth\"}],\"contour\":[{\"colorbar\":{\"outlinewidth\":0,\"ticks\":\"\"},\"colorscale\":[[0.0,\"#0d0887\"],[0.1111111111111111,\"#46039f\"],[0.2222222222222222,\"#7201a8\"],[0.3333333333333333,\"#9c179e\"],[0.4444444444444444,\"#bd3786\"],[0.5555555555555556,\"#d8576b\"],[0.6666666666666666,\"#ed7953\"],[0.7777777777777778,\"#fb9f3a\"],[0.8888888888888888,\"#fdca26\"],[1.0,\"#f0f921\"]],\"type\":\"contour\"}],\"contourcarpet\":[{\"colorbar\":{\"outlinewidth\":0,\"ticks\":\"\"},\"type\":\"contourcarpet\"}],\"heatmap\":[{\"colorbar\":{\"outlinewidth\":0,\"ticks\":\"\"},\"colorscale\":[[0.0,\"#0d0887\"],[0.1111111111111111,\"#46039f\"],[0.2222222222222222,\"#7201a8\"],[0.3333333333333333,\"#9c179e\"],[0.4444444444444444,\"#bd3786\"],[0.5555555555555556,\"#d8576b\"],[0.6666666666666666,\"#ed7953\"],[0.7777777777777778,\"#fb9f3a\"],[0.8888888888888888,\"#fdca26\"],[1.0,\"#f0f921\"]],\"type\":\"heatmap\"}],\"heatmapgl\":[{\"colorbar\":{\"outlinewidth\":0,\"ticks\":\"\"},\"colorscale\":[[0.0,\"#0d0887\"],[0.1111111111111111,\"#46039f\"],[0.2222222222222222,\"#7201a8\"],[0.3333333333333333,\"#9c179e\"],[0.4444444444444444,\"#bd3786\"],[0.5555555555555556,\"#d8576b\"],[0.6666666666666666,\"#ed7953\"],[0.7777777777777778,\"#fb9f3a\"],[0.8888888888888888,\"#fdca26\"],[1.0,\"#f0f921\"]],\"type\":\"heatmapgl\"}],\"histogram\":[{\"marker\":{\"pattern\":{\"fillmode\":\"overlay\",\"size\":10,\"solidity\":0.2}},\"type\":\"histogram\"}],\"histogram2d\":[{\"colorbar\":{\"outlinewidth\":0,\"ticks\":\"\"},\"colorscale\":[[0.0,\"#0d0887\"],[0.1111111111111111,\"#46039f\"],[0.2222222222222222,\"#7201a8\"],[0.3333333333333333,\"#9c179e\"],[0.4444444444444444,\"#bd3786\"],[0.5555555555555556,\"#d8576b\"],[0.6666666666666666,\"#ed7953\"],[0.7777777777777778,\"#fb9f3a\"],[0.8888888888888888,\"#fdca26\"],[1.0,\"#f0f921\"]],\"type\":\"histogram2d\"}],\"histogram2dcontour\":[{\"colorbar\":{\"outlinewidth\":0,\"ticks\":\"\"},\"colorscale\":[[0.0,\"#0d0887\"],[0.1111111111111111,\"#46039f\"],[0.2222222222222222,\"#7201a8\"],[0.3333333333333333,\"#9c179e\"],[0.4444444444444444,\"#bd3786\"],[0.5555555555555556,\"#d8576b\"],[0.6666666666666666,\"#ed7953\"],[0.7777777777777778,\"#fb9f3a\"],[0.8888888888888888,\"#fdca26\"],[1.0,\"#f0f921\"]],\"type\":\"histogram2dcontour\"}],\"mesh3d\":[{\"colorbar\":{\"outlinewidth\":0,\"ticks\":\"\"},\"type\":\"mesh3d\"}],\"parcoords\":[{\"line\":{\"colorbar\":{\"outlinewidth\":0,\"ticks\":\"\"}},\"type\":\"parcoords\"}],\"pie\":[{\"automargin\":true,\"type\":\"pie\"}],\"scatter\":[{\"marker\":{\"colorbar\":{\"outlinewidth\":0,\"ticks\":\"\"}},\"type\":\"scatter\"}],\"scatter3d\":[{\"line\":{\"colorbar\":{\"outlinewidth\":0,\"ticks\":\"\"}},\"marker\":{\"colorbar\":{\"outlinewidth\":0,\"ticks\":\"\"}},\"type\":\"scatter3d\"}],\"scattercarpet\":[{\"marker\":{\"colorbar\":{\"outlinewidth\":0,\"ticks\":\"\"}},\"type\":\"scattercarpet\"}],\"scattergeo\":[{\"marker\":{\"colorbar\":{\"outlinewidth\":0,\"ticks\":\"\"}},\"type\":\"scattergeo\"}],\"scattergl\":[{\"marker\":{\"colorbar\":{\"outlinewidth\":0,\"ticks\":\"\"}},\"type\":\"scattergl\"}],\"scattermapbox\":[{\"marker\":{\"colorbar\":{\"outlinewidth\":0,\"ticks\":\"\"}},\"type\":\"scattermapbox\"}],\"scatterpolar\":[{\"marker\":{\"colorbar\":{\"outlinewidth\":0,\"ticks\":\"\"}},\"type\":\"scatterpolar\"}],\"scatterpolargl\":[{\"marker\":{\"colorbar\":{\"outlinewidth\":0,\"ticks\":\"\"}},\"type\":\"scatterpolargl\"}],\"scatterternary\":[{\"marker\":{\"colorbar\":{\"outlinewidth\":0,\"ticks\":\"\"}},\"type\":\"scatterternary\"}],\"surface\":[{\"colorbar\":{\"outlinewidth\":0,\"ticks\":\"\"},\"colorscale\":[[0.0,\"#0d0887\"],[0.1111111111111111,\"#46039f\"],[0.2222222222222222,\"#7201a8\"],[0.3333333333333333,\"#9c179e\"],[0.4444444444444444,\"#bd3786\"],[0.5555555555555556,\"#d8576b\"],[0.6666666666666666,\"#ed7953\"],[0.7777777777777778,\"#fb9f3a\"],[0.8888888888888888,\"#fdca26\"],[1.0,\"#f0f921\"]],\"type\":\"surface\"}],\"table\":[{\"cells\":{\"fill\":{\"color\":\"#EBF0F8\"},\"line\":{\"color\":\"white\"}},\"header\":{\"fill\":{\"color\":\"#C8D4E3\"},\"line\":{\"color\":\"white\"}},\"type\":\"table\"}]},\"layout\":{\"annotationdefaults\":{\"arrowcolor\":\"#2a3f5f\",\"arrowhead\":0,\"arrowwidth\":1},\"autotypenumbers\":\"strict\",\"coloraxis\":{\"colorbar\":{\"outlinewidth\":0,\"ticks\":\"\"}},\"colorscale\":{\"diverging\":[[0,\"#8e0152\"],[0.1,\"#c51b7d\"],[0.2,\"#de77ae\"],[0.3,\"#f1b6da\"],[0.4,\"#fde0ef\"],[0.5,\"#f7f7f7\"],[0.6,\"#e6f5d0\"],[0.7,\"#b8e186\"],[0.8,\"#7fbc41\"],[0.9,\"#4d9221\"],[1,\"#276419\"]],\"sequential\":[[0.0,\"#0d0887\"],[0.1111111111111111,\"#46039f\"],[0.2222222222222222,\"#7201a8\"],[0.3333333333333333,\"#9c179e\"],[0.4444444444444444,\"#bd3786\"],[0.5555555555555556,\"#d8576b\"],[0.6666666666666666,\"#ed7953\"],[0.7777777777777778,\"#fb9f3a\"],[0.8888888888888888,\"#fdca26\"],[1.0,\"#f0f921\"]],\"sequentialminus\":[[0.0,\"#0d0887\"],[0.1111111111111111,\"#46039f\"],[0.2222222222222222,\"#7201a8\"],[0.3333333333333333,\"#9c179e\"],[0.4444444444444444,\"#bd3786\"],[0.5555555555555556,\"#d8576b\"],[0.6666666666666666,\"#ed7953\"],[0.7777777777777778,\"#fb9f3a\"],[0.8888888888888888,\"#fdca26\"],[1.0,\"#f0f921\"]]},\"colorway\":[\"#636efa\",\"#EF553B\",\"#00cc96\",\"#ab63fa\",\"#FFA15A\",\"#19d3f3\",\"#FF6692\",\"#B6E880\",\"#FF97FF\",\"#FECB52\"],\"font\":{\"color\":\"#2a3f5f\"},\"geo\":{\"bgcolor\":\"white\",\"lakecolor\":\"white\",\"landcolor\":\"#E5ECF6\",\"showlakes\":true,\"showland\":true,\"subunitcolor\":\"white\"},\"hoverlabel\":{\"align\":\"left\"},\"hovermode\":\"closest\",\"mapbox\":{\"style\":\"light\"},\"paper_bgcolor\":\"white\",\"plot_bgcolor\":\"#E5ECF6\",\"polar\":{\"angularaxis\":{\"gridcolor\":\"white\",\"linecolor\":\"white\",\"ticks\":\"\"},\"bgcolor\":\"#E5ECF6\",\"radialaxis\":{\"gridcolor\":\"white\",\"linecolor\":\"white\",\"ticks\":\"\"}},\"scene\":{\"xaxis\":{\"backgroundcolor\":\"#E5ECF6\",\"gridcolor\":\"white\",\"gridwidth\":2,\"linecolor\":\"white\",\"showbackground\":true,\"ticks\":\"\",\"zerolinecolor\":\"white\"},\"yaxis\":{\"backgroundcolor\":\"#E5ECF6\",\"gridcolor\":\"white\",\"gridwidth\":2,\"linecolor\":\"white\",\"showbackground\":true,\"ticks\":\"\",\"zerolinecolor\":\"white\"},\"zaxis\":{\"backgroundcolor\":\"#E5ECF6\",\"gridcolor\":\"white\",\"gridwidth\":2,\"linecolor\":\"white\",\"showbackground\":true,\"ticks\":\"\",\"zerolinecolor\":\"white\"}},\"shapedefaults\":{\"line\":{\"color\":\"#2a3f5f\"}},\"ternary\":{\"aaxis\":{\"gridcolor\":\"white\",\"linecolor\":\"white\",\"ticks\":\"\"},\"baxis\":{\"gridcolor\":\"white\",\"linecolor\":\"white\",\"ticks\":\"\"},\"bgcolor\":\"#E5ECF6\",\"caxis\":{\"gridcolor\":\"white\",\"linecolor\":\"white\",\"ticks\":\"\"}},\"title\":{\"x\":0.05},\"xaxis\":{\"automargin\":true,\"gridcolor\":\"white\",\"linecolor\":\"white\",\"ticks\":\"\",\"title\":{\"standoff\":15},\"zerolinecolor\":\"white\",\"zerolinewidth\":2},\"yaxis\":{\"automargin\":true,\"gridcolor\":\"white\",\"linecolor\":\"white\",\"ticks\":\"\",\"title\":{\"standoff\":15},\"zerolinecolor\":\"white\",\"zerolinewidth\":2}}},\"xaxis\":{\"anchor\":\"y\",\"domain\":[0.0,1.0],\"title\":{\"text\":\"Purchases\"}},\"yaxis\":{\"anchor\":\"x\",\"domain\":[0.0,1.0],\"title\":{\"text\":\"Qty\"}},\"legend\":{\"title\":{\"text\":\"Region\"},\"tracegroupgap\":0},\"margin\":{\"t\":60}},                        {\"responsive\": true}                    ).then(function(){\n",
       "                            \n",
       "var gd = document.getElementById('6b52a096-90c0-4ec5-b570-968a01a191a7');\n",
       "var x = new MutationObserver(function (mutations, observer) {{\n",
       "        var display = window.getComputedStyle(gd).display;\n",
       "        if (!display || display === 'none') {{\n",
       "            console.log([gd, 'removed!']);\n",
       "            Plotly.purge(gd);\n",
       "            observer.disconnect();\n",
       "        }}\n",
       "}});\n",
       "\n",
       "// Listen for the removal of the full notebook cells\n",
       "var notebookContainer = gd.closest('#notebook-container');\n",
       "if (notebookContainer) {{\n",
       "    x.observe(notebookContainer, {childList: true});\n",
       "}}\n",
       "\n",
       "// Listen for the clearing of the current output cell\n",
       "var outputEl = gd.closest('.output');\n",
       "if (outputEl) {{\n",
       "    x.observe(outputEl, {childList: true});\n",
       "}}\n",
       "\n",
       "                        })                };                });            </script>        </div>"
      ]
     },
     "metadata": {},
     "output_type": "display_data"
    }
   ],
   "source": [
    "px.line(data_frame=complaint_pur,\n",
    "       x = \"Purchases\", y = \"Qty\", color=\"Region\")"
   ]
  },
  {
   "cell_type": "markdown",
   "id": "e46f1241",
   "metadata": {},
   "source": [
    "**Observation**\n",
    "- From the plots above, it is really hard and inconvinient to be able to pick out a trend or pattern that exists between the quantity of complaints and the amount of services purchases."
   ]
  },
  {
   "cell_type": "markdown",
   "id": "402cfd4b",
   "metadata": {},
   "source": [
    "### Using kprototype for clustering"
   ]
  },
  {
   "cell_type": "code",
   "execution_count": 302,
   "id": "beda1b61",
   "metadata": {},
   "outputs": [
    {
     "data": {
      "text/html": [
       "<div>\n",
       "<style scoped>\n",
       "    .dataframe tbody tr th:only-of-type {\n",
       "        vertical-align: middle;\n",
       "    }\n",
       "\n",
       "    .dataframe tbody tr th {\n",
       "        vertical-align: top;\n",
       "    }\n",
       "\n",
       "    .dataframe thead th {\n",
       "        text-align: right;\n",
       "    }\n",
       "</style>\n",
       "<table border=\"1\" class=\"dataframe\">\n",
       "  <thead>\n",
       "    <tr style=\"text-align: right;\">\n",
       "      <th></th>\n",
       "      <th>DoctorID</th>\n",
       "      <th>Region</th>\n",
       "      <th>Category</th>\n",
       "      <th>Rank</th>\n",
       "      <th>Incidence rate</th>\n",
       "      <th>R rate</th>\n",
       "      <th>Experience</th>\n",
       "      <th>Purchases</th>\n",
       "    </tr>\n",
       "  </thead>\n",
       "  <tbody>\n",
       "    <tr>\n",
       "      <th>0</th>\n",
       "      <td>AHDCBA</td>\n",
       "      <td>4 15</td>\n",
       "      <td>Specialist</td>\n",
       "      <td>Ambassador</td>\n",
       "      <td>49.0</td>\n",
       "      <td>0.9</td>\n",
       "      <td>1.2</td>\n",
       "      <td>49</td>\n",
       "    </tr>\n",
       "  </tbody>\n",
       "</table>\n",
       "</div>"
      ],
      "text/plain": [
       "  DoctorID Region    Category        Rank  Incidence rate  R rate  Experience  \\\n",
       "0   AHDCBA   4 15  Specialist  Ambassador            49.0     0.9         1.2   \n",
       "\n",
       "   Purchases  \n",
       "0         49  "
      ]
     },
     "execution_count": 302,
     "metadata": {},
     "output_type": "execute_result"
    }
   ],
   "source": [
    "doctors_df.head(1)"
   ]
  },
  {
   "cell_type": "code",
   "execution_count": 303,
   "id": "4e2ce682",
   "metadata": {},
   "outputs": [
    {
     "data": {
      "text/plain": [
       "count    437.000000\n",
       "mean       0.534027\n",
       "std        0.603494\n",
       "min        0.000000\n",
       "25%        0.140000\n",
       "50%        0.380000\n",
       "75%        0.750000\n",
       "max        5.420000\n",
       "Name: Experience, dtype: float64"
      ]
     },
     "execution_count": 303,
     "metadata": {},
     "output_type": "execute_result"
    }
   ],
   "source": [
    "doctors_df[\"Experience\"].describe()"
   ]
  },
  {
   "cell_type": "code",
   "execution_count": null,
   "id": "bc400bfa",
   "metadata": {},
   "outputs": [],
   "source": []
  },
  {
   "cell_type": "code",
   "execution_count": 301,
   "id": "9073c702",
   "metadata": {},
   "outputs": [],
   "source": [
    "#Splitting and choosing the columns for clustring"
   ]
  },
  {
   "cell_type": "code",
   "execution_count": null,
   "id": "048e147e",
   "metadata": {},
   "outputs": [],
   "source": []
  }
 ],
 "metadata": {
  "kernelspec": {
   "display_name": "Python 3",
   "language": "python",
   "name": "python3"
  },
  "language_info": {
   "codemirror_mode": {
    "name": "ipython",
    "version": 3
   },
   "file_extension": ".py",
   "mimetype": "text/x-python",
   "name": "python",
   "nbconvert_exporter": "python",
   "pygments_lexer": "ipython3",
   "version": "3.8.5"
  }
 },
 "nbformat": 4,
 "nbformat_minor": 5
}
