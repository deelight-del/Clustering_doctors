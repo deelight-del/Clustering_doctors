{
 "cells": [
  {
   "cell_type": "code",
   "execution_count": 1,
   "id": "f65c57a8",
   "metadata": {},
   "outputs": [],
   "source": [
    "#Import libraries\n",
    "\n",
    "import pandas as pd\n",
    "import numpy as np\n",
    "\n",
    "from dash import Input, Output, dcc, html\n",
    "from jupyter_dash import JupyterDash\n",
    "\n",
    "from kmodes.kprototypes import KPrototypes"
   ]
  },
  {
   "cell_type": "code",
   "execution_count": 2,
   "id": "02f9d1de",
   "metadata": {},
   "outputs": [
    {
     "data": {
      "text/html": [
       "<div>\n",
       "<style scoped>\n",
       "    .dataframe tbody tr th:only-of-type {\n",
       "        vertical-align: middle;\n",
       "    }\n",
       "\n",
       "    .dataframe tbody tr th {\n",
       "        vertical-align: top;\n",
       "    }\n",
       "\n",
       "    .dataframe thead th {\n",
       "        text-align: right;\n",
       "    }\n",
       "</style>\n",
       "<table border=\"1\" class=\"dataframe\">\n",
       "  <thead>\n",
       "    <tr style=\"text-align: right;\">\n",
       "      <th></th>\n",
       "      <th>Complaint Type</th>\n",
       "      <th>Qty</th>\n",
       "      <th>Region</th>\n",
       "      <th>Category</th>\n",
       "      <th>Rank</th>\n",
       "      <th>Incidence rate</th>\n",
       "      <th>R rate</th>\n",
       "      <th>Experience</th>\n",
       "      <th>Purchases</th>\n",
       "    </tr>\n",
       "  </thead>\n",
       "  <tbody>\n",
       "    <tr>\n",
       "      <th>0</th>\n",
       "      <td>No Complaints</td>\n",
       "      <td>-0.404304</td>\n",
       "      <td>4 15</td>\n",
       "      <td>Specialist</td>\n",
       "      <td>Ambassador</td>\n",
       "      <td>10.941947</td>\n",
       "      <td>-0.297160</td>\n",
       "      <td>1.137682</td>\n",
       "      <td>2.796951</td>\n",
       "    </tr>\n",
       "    <tr>\n",
       "      <th>1</th>\n",
       "      <td>No Complaints</td>\n",
       "      <td>-0.404304</td>\n",
       "      <td>1 8 T4</td>\n",
       "      <td>General Practitioner</td>\n",
       "      <td>Ambassador</td>\n",
       "      <td>7.958297</td>\n",
       "      <td>-1.528994</td>\n",
       "      <td>-0.920733</td>\n",
       "      <td>1.975615</td>\n",
       "    </tr>\n",
       "    <tr>\n",
       "      <th>2</th>\n",
       "      <td>No Complaints</td>\n",
       "      <td>-0.404304</td>\n",
       "      <td>1 9 T4</td>\n",
       "      <td>Specialist</td>\n",
       "      <td>Ambassador</td>\n",
       "      <td>6.963747</td>\n",
       "      <td>0.565124</td>\n",
       "      <td>-0.920733</td>\n",
       "      <td>1.676947</td>\n",
       "    </tr>\n",
       "    <tr>\n",
       "      <th>3</th>\n",
       "      <td>No Complaints</td>\n",
       "      <td>-0.404304</td>\n",
       "      <td>1 10 T3</td>\n",
       "      <td>Specialist</td>\n",
       "      <td>Ambassador</td>\n",
       "      <td>5.720559</td>\n",
       "      <td>1.249476</td>\n",
       "      <td>-0.097367</td>\n",
       "      <td>1.303612</td>\n",
       "    </tr>\n",
       "    <tr>\n",
       "      <th>4</th>\n",
       "      <td>No Complaints</td>\n",
       "      <td>-0.404304</td>\n",
       "      <td>1 14 T4</td>\n",
       "      <td>Specialist</td>\n",
       "      <td>Ambassador</td>\n",
       "      <td>4.477371</td>\n",
       "      <td>-0.215038</td>\n",
       "      <td>0.365776</td>\n",
       "      <td>0.930277</td>\n",
       "    </tr>\n",
       "  </tbody>\n",
       "</table>\n",
       "</div>"
      ],
      "text/plain": [
       "  Complaint Type       Qty   Region              Category        Rank  \\\n",
       "0  No Complaints -0.404304     4 15            Specialist  Ambassador   \n",
       "1  No Complaints -0.404304   1 8 T4  General Practitioner  Ambassador   \n",
       "2  No Complaints -0.404304   1 9 T4            Specialist  Ambassador   \n",
       "3  No Complaints -0.404304  1 10 T3            Specialist  Ambassador   \n",
       "4  No Complaints -0.404304  1 14 T4            Specialist  Ambassador   \n",
       "\n",
       "   Incidence rate    R rate  Experience  Purchases  \n",
       "0       10.941947 -0.297160    1.137682   2.796951  \n",
       "1        7.958297 -1.528994   -0.920733   1.975615  \n",
       "2        6.963747  0.565124   -0.920733   1.676947  \n",
       "3        5.720559  1.249476   -0.097367   1.303612  \n",
       "4        4.477371 -0.215038    0.365776   0.930277  "
      ]
     },
     "execution_count": 2,
     "metadata": {},
     "output_type": "execute_result"
    }
   ],
   "source": [
    "#Import dataset, all scaled and wrangled from second notebook\n",
    "\n",
    "doctor_data = pd.read_csv(\"Data/doctor_data_merge\")\n",
    "doctor_data.head()"
   ]
  },
  {
   "cell_type": "code",
   "execution_count": 3,
   "id": "5803286d",
   "metadata": {},
   "outputs": [],
   "source": [
    "#Instantiate application\n",
    "app = JupyterDash(__name__)"
   ]
  },
  {
   "cell_type": "code",
   "execution_count": 11,
   "id": "eed3226e",
   "metadata": {},
   "outputs": [],
   "source": [
    "#Begin to create layout\n",
    "\n",
    "app.layout = html.Div(\n",
    "    [\n",
    "        #Create H1 header for title of app\n",
    "        html.H1(\"Doctors Clusters according to selected features\"),\n",
    "        #Create H2 Header for subtitle for error_metric\n",
    "        html.H2(\"Error metric\"),\n",
    "        #radio item for switching btw rank and w/o rank\n",
    "        html.H3(\"With or without Rank\"),\n",
    "        dcc.RadioItems(\n",
    "            options = [{\"label\": \"Include Rank features\", \"value\": True},\n",
    "                      {\"label\": \"Without Rank feature\", \"value\": False}],\n",
    "            value = True,\n",
    "            id = \"On/Off Rank\"\n",
    "        ),\n",
    "        #Create dcc Slider for switching number of clusters\n",
    "        html.H3(\"Slider for controlling number of clusters\"),\n",
    "        dcc.Slider(min = 2, max = 16, step = 1, value =2, id = \"slider\"),\n",
    "        html.H3(\"Error Metric below\"),\n",
    "        html.H5(\"Note: It takes a little while to load up\"),\n",
    "        html.Div(id = \"error-metric\")\n",
    "    ]\n",
    "    \n",
    ")"
   ]
  },
  {
   "cell_type": "code",
   "execution_count": 5,
   "id": "f9dc52b4",
   "metadata": {},
   "outputs": [],
   "source": [
    "#Define business layer to generate column names based on with/without rank\n",
    "\n",
    "def business_rank(include_rank = True):\n",
    "    \"\"\"Returns features with/without rank column\n",
    "    \n",
    "    Parameters\n",
    "    ----------\n",
    "    include_rank: bool, default=True \n",
    "    \n",
    "    If ``True`` return feat names with the rank\n",
    "    column, If ``False`` return feat names without rank\n",
    "    \"\"\"\n",
    "    \n",
    "    if include_rank:\n",
    "        feat_names = doctor_data.columns.to_list()\n",
    "        #Generate categorical index for algorithm\n",
    "        cat_index = [0, 2, 3, 4]\n",
    "        #Create dataset\n",
    "        X = doctor_data[feat_names]\n",
    "        X = X.values\n",
    "        X[:, 1] = X[:, 1].astype(float)\n",
    "        X[:, 5] = X[:, 5].astype(float)\n",
    "        X[:, 6] = X[:, 6].astype(float)\n",
    "        X[:, 7] = X[:, 7].astype(float)\n",
    "        X[:, 8] = X[:, 8].astype(float)\n",
    "        \n",
    "    else:\n",
    "        feat_names = doctor_data.drop(columns = \"Rank\")\n",
    "        feat_names = feat_names.columns.to_list()\n",
    "        cat_index = [0, 2, 3]\n",
    "        #Create dataset\n",
    "        X = doctor_data[feat_names]\n",
    "        X = X.values\n",
    "        X[:, 1] = X[:, 1].astype(float)\n",
    "        X[:, 4] = X[:, 4].astype(float)\n",
    "        X[:, 5] = X[:, 5].astype(float)\n",
    "        X[:, 6] = X[:, 6].astype(float)\n",
    "        X[:, 7] = X[:, 7].astype(float)\n",
    "    return X, cat_index"
   ]
  },
  {
   "cell_type": "code",
   "execution_count": 6,
   "id": "5f63721a",
   "metadata": {},
   "outputs": [],
   "source": [
    "def business_model(include_rank=True, k = 2, return_error = False):\n",
    "    \"\"\"\n",
    "    Rrturns kprototype model or error from model\n",
    "    \n",
    "    Parameters\n",
    "    ----------\n",
    "    include_rank: bool, default=True\n",
    "    If ``True`` it will include rank column\n",
    "    and categorical index needed for algorithm \n",
    "    If ``False`` exclude the rank column\n",
    "    and categorical index needed for algorithm\n",
    "    \n",
    "    return_error: bool, default=False\n",
    "    If ``True`` returns model errors\n",
    "    If ``False`` returns only the model\n",
    "    \n",
    "    k: int, default=2\n",
    "    Number of clusters that model should use\n",
    "    for training model\n",
    "    \"\"\"\n",
    "    #Extract features and cat_index\n",
    "    data, cat_index = business_rank(include_rank=include_rank)\n",
    "    \n",
    "    #Fit predict model with k\n",
    "    model = KPrototypes(n_clusters=k, init=\"Huang\", random_state = 42)\n",
    "    clusters = model.fit_predict(data, categorical = cat_index)\n",
    "    \n",
    "    if return_error:\n",
    "        error = model.cost_\n",
    "        return error\n",
    "    else:\n",
    "        return clusters"
   ]
  },
  {
   "cell_type": "code",
   "execution_count": 7,
   "id": "18ea8b27",
   "metadata": {},
   "outputs": [
    {
     "data": {
      "text/plain": [
       "2378.349799664885"
      ]
     },
     "execution_count": 7,
     "metadata": {},
     "output_type": "execute_result"
    }
   ],
   "source": [
    "business_model(include_rank=False, return_error=True)"
   ]
  },
  {
   "cell_type": "code",
   "execution_count": 8,
   "id": "fa3efcb6",
   "metadata": {},
   "outputs": [],
   "source": [
    "@app.callback(\n",
    "    Output(\"error-metric\", \"children\"),\n",
    "    Input(\"On/Off Rank\", \"value\"),\n",
    "    Input(\"slider\", \"value\")\n",
    ")\n",
    "def print_error(include_rank=True, k = 2):\n",
    "    \"\"\"Print the errot metric from KP model\n",
    "    \n",
    "    Parameter\n",
    "    --------\n",
    "    include_rank: bool, default:True\n",
    "    ``If True`` includes the rank column\n",
    "    ``If False`` does not include rank column\n",
    "    k: int, deafult:2\n",
    "    The number of clusters that a KP \n",
    "    algorithm will use.\n",
    "    \"\"\"\n",
    "    error = business_model(k=k, include_rank=include_rank, return_error=True)\n",
    "    \n",
    "    return html.H3(error)"
   ]
  },
  {
   "cell_type": "code",
   "execution_count": 9,
   "id": "a5c557ac",
   "metadata": {
    "scrolled": true
   },
   "outputs": [
    {
     "data": {
      "text/plain": [
       "H3(2555.242209089429)"
      ]
     },
     "execution_count": 9,
     "metadata": {},
     "output_type": "execute_result"
    }
   ],
   "source": [
    "print_error()"
   ]
  },
  {
   "cell_type": "code",
   "execution_count": null,
   "id": "5e2742e9",
   "metadata": {},
   "outputs": [],
   "source": []
  },
  {
   "cell_type": "code",
   "execution_count": null,
   "id": "25a02c63",
   "metadata": {},
   "outputs": [],
   "source": []
  },
  {
   "cell_type": "code",
   "execution_count": null,
   "id": "a08d7b9b",
   "metadata": {},
   "outputs": [],
   "source": []
  },
  {
   "cell_type": "code",
   "execution_count": null,
   "id": "14e285ef",
   "metadata": {},
   "outputs": [],
   "source": []
  },
  {
   "cell_type": "code",
   "execution_count": null,
   "id": "58fd6e98",
   "metadata": {},
   "outputs": [],
   "source": []
  },
  {
   "cell_type": "code",
   "execution_count": null,
   "id": "cfb47b35",
   "metadata": {},
   "outputs": [],
   "source": []
  },
  {
   "cell_type": "code",
   "execution_count": null,
   "id": "e0e699f3",
   "metadata": {},
   "outputs": [],
   "source": []
  },
  {
   "cell_type": "code",
   "execution_count": null,
   "id": "6b97da67",
   "metadata": {},
   "outputs": [],
   "source": []
  },
  {
   "cell_type": "code",
   "execution_count": 10,
   "id": "4d087b7e",
   "metadata": {},
   "outputs": [
    {
     "name": "stdout",
     "output_type": "stream",
     "text": [
      "Dash app running on http://localhost:8050/\n"
     ]
    }
   ],
   "source": [
    "app.run_server(host = \"localhost\", mode = \"external\")"
   ]
  }
 ],
 "metadata": {
  "kernelspec": {
   "display_name": "Python 3",
   "language": "python",
   "name": "python3"
  },
  "language_info": {
   "codemirror_mode": {
    "name": "ipython",
    "version": 3
   },
   "file_extension": ".py",
   "mimetype": "text/x-python",
   "name": "python",
   "nbconvert_exporter": "python",
   "pygments_lexer": "ipython3",
   "version": "3.8.5"
  }
 },
 "nbformat": 4,
 "nbformat_minor": 5
}
